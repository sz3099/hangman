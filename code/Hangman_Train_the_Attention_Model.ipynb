{
 "cells": [
  {
   "cell_type": "markdown",
   "id": "44ce63e6",
   "metadata": {},
   "source": [
    "# Training Process of My Model"
   ]
  },
  {
   "cell_type": "code",
   "execution_count": 1,
   "id": "ce385cae",
   "metadata": {},
   "outputs": [],
   "source": [
    "### import modules\n",
    "import math\n",
    "import numpy as np\n",
    "import random\n",
    "import pickle\n",
    "from torch import nn, Tensor\n",
    "import torch.optim as optim\n",
    "import torch.utils.data as data\n",
    "import torch"
   ]
  },
  {
   "cell_type": "code",
   "execution_count": 2,
   "id": "25fc9783",
   "metadata": {},
   "outputs": [
    {
     "name": "stdout",
     "output_type": "stream",
     "text": [
      "227300 29\n"
     ]
    }
   ],
   "source": [
    "### read the words dictionary data -- print(Number of the total words, Max length of the words)\n",
    "words_list = []\n",
    "max_len = 0\n",
    "with open(\"words_250000_train.txt\") as f:\n",
    "    while True:\n",
    "        l = f.readline() \n",
    "        if not l:\n",
    "            break\n",
    "        if len(l.strip()) > max_len:\n",
    "            max_len = len(l.strip())\n",
    "        words_list.append(l.strip())    \n",
    "print(len(words_list), max_len)"
   ]
  },
  {
   "cell_type": "code",
   "execution_count": 3,
   "id": "242527c2",
   "metadata": {},
   "outputs": [],
   "source": [
    "### some statistics\n",
    "from collections import Counter\n",
    "a = Counter(\"\".join(words_list))\n",
    "freq_counter = dict(a)"
   ]
  },
  {
   "cell_type": "code",
   "execution_count": 4,
   "id": "a53d9eee",
   "metadata": {},
   "outputs": [
    {
     "data": {
      "text/plain": [
       "['e', 'i', 'a', 'n', 'o', 'r']"
      ]
     },
     "execution_count": 4,
     "metadata": {},
     "output_type": "execute_result"
    }
   ],
   "source": [
    "most = Counter(\"\".join(words_list)).most_common()\n",
    "most_common_six = [item[0] for item in most[:6]]\n",
    "most_common_six"
   ]
  },
  {
   "cell_type": "code",
   "execution_count": 5,
   "id": "6ba0cd26",
   "metadata": {},
   "outputs": [],
   "source": [
    "## split the words_list into 2 parts -- Otherwise, the created instances of whole dictionaries is too large to put in the memory\n",
    "np.random.seed(42)\n",
    "random.shuffle(words_list)\n",
    "words_list_part1 = words_list[:110000]\n",
    "words_list_part2 = words_list[110000:]"
   ]
  },
  {
   "cell_type": "markdown",
   "id": "db0978d6",
   "metadata": {},
   "source": [
    "## Prepare the dataloader"
   ]
  },
  {
   "cell_type": "code",
   "execution_count": 6,
   "id": "e8ee5452",
   "metadata": {},
   "outputs": [],
   "source": [
    "## Create the dictionaties to transform inputs and outputs of the attention model\n",
    "## source vocabulary: change the word \"appl_|____\" to a input tensor [1,16,16,0,27,0,0,0,0] \n",
    "src_vocab = {chr(ord('a')+i):(i+1) for i in range(26)}\n",
    "src_vocab[\"|\"] = 27\n",
    "src_vocab[\"_\"] = 0\n",
    "src_idx2letter = {src_vocab[key]:key for key in src_vocab.keys()}\n",
    "\n",
    "## target vocabulary: change the target letters \"a\" to a output classification tensor [0,1,0,0,0,0,0,0]\n",
    "tgt_vocab = {chr(ord('a')+i):(i+1) for i in range(26)}\n",
    "tgt_vocab[\"end\"] = 0\n",
    "tgt_idx2letter = {tgt_vocab[key]:key for key in tgt_vocab.keys()}"
   ]
  },
  {
   "cell_type": "code",
   "execution_count": 7,
   "id": "1b571876",
   "metadata": {},
   "outputs": [],
   "source": [
    "## parameters of the attention model\n",
    "vocab_size = len(src_vocab)    ##  end  + 26 letters + _\n",
    "target_size = len(tgt_vocab)   ## 26 letters + end\n",
    "d_model = 16                   ## embedding dimension\n",
    "max_len = 32                   ## length of the input tensor\n",
    "batch_size = 128 \n",
    "d_k = d_v = 16                 ## dimention of key, query and value in the attention layer\n",
    "n_heads = 2                    ## number of attention heads\n",
    "d_ff = 32                      ## dimention of the feedforward layer\n",
    "n_layers = 3                  ## number of attetion layers\n",
    "epochs = 10"
   ]
  },
  {
   "cell_type": "markdown",
   "id": "53775e46",
   "metadata": {},
   "source": [
    "#### Firstly, generate training samples: mask certain letters in a word to make the inputs, let the masked letter to be the outpus \n",
    "\n",
    "Those small sets get all subsets, large sets get random subsets"
   ]
  },
  {
   "cell_type": "code",
   "execution_count": 8,
   "id": "88b7916b",
   "metadata": {
    "scrolled": false
   },
   "outputs": [],
   "source": [
    "### create the instances to learn, like 【input:__pple, output: [a]】\n",
    "def rd_subset(aset):\n",
    "    '''\n",
    "    Give a (random) non-empty subsets of a given set \n",
    "    \n",
    "    If len(aset) <= 8, return all the subsets.\n",
    "    Else, return a maximum of 256 subsets.\n",
    "    \n",
    "    Example: rd_subset(['e', 'i', 'a']) --> [['e', 'i', 'a'], ['e', 'a'], ['e', 'i'], ['a'], ['i'], ['e'], ['i', 'a']]\n",
    "    \n",
    "    '''\n",
    "    \n",
    "    n = len(aset)\n",
    "    subsets = []\n",
    "    m = min(2**n-1,256)\n",
    "    samples = random.sample(range(1,2**n),m)\n",
    "    for i in samples:\n",
    "        subs = []\n",
    "        s = str(bin(i))[2:].zfill(n)\n",
    "        for j in range(len(s)):\n",
    "            if s[j] == '1':\n",
    "                subs.append(aset[j])\n",
    "        if (len(subs) == 1) and (subs[0] not in most_common_six):\n",
    "            continue\n",
    "        subsets.append(subs)\n",
    "    return subsets\n",
    "\n",
    "def create_instance(word):\n",
    "    '''\n",
    "    Create instances to learn from a given word.\n",
    "    \n",
    "    Example: \"apple\"\n",
    "    \n",
    "    Inputs:       Outputs: (multi-label)\n",
    "    \"a____\"        [\"p\",\"l\",\"e\"]\n",
    "    \"app__\"        [\"l\", \"e\"]\n",
    "    \"_pple\"        [\"a\"]\n",
    "    \"apple\"        [\"end\"]\n",
    "    ...\n",
    "    \n",
    "    '''\n",
    "    inputs = [word]\n",
    "    outputs = [[\"end\"]]\n",
    "    candidates = list(set(word))\n",
    "    n = len(candidates)\n",
    "\n",
    "    total_subsets = rd_subset(candidates)\n",
    "    for subguessed in total_subsets:\n",
    "        newword = \"\".join([c if c in subguessed else \"_\" for c in word])\n",
    "        inputs.append(newword)\n",
    "        outputs.append(list(set(candidates) - set(subguessed)))\n",
    "\n",
    "    ## strenghten on those with one letters not guessed\n",
    "    if n > 5:\n",
    "        for drop in candidates:\n",
    "            newword = \"\".join([c if c != drop else \"_\" for c in word])\n",
    "            inputs.append(newword)\n",
    "            outputs.append([drop])\n",
    "\n",
    "    return inputs, outputs\n",
    "\n",
    "def generate(words_list):\n",
    "    '''\n",
    "    Generate instances from the words_list\n",
    "    '''\n",
    "    src_data = []\n",
    "    tgt_data = []\n",
    "    for i in range(len(words_list)):\n",
    "        if i % 20000 == 0:\n",
    "            print(\"Current process:\", i ,\"/\", len(words_list)-1)\n",
    "        inp,out = create_instance(words_list[i])\n",
    "        src_data.extend(inp)\n",
    "        tgt_data.extend(out)\n",
    "    return src_data, tgt_data"
   ]
  },
  {
   "cell_type": "code",
   "execution_count": 12,
   "id": "e08347a3",
   "metadata": {},
   "outputs": [
    {
     "data": {
      "text/plain": [
       "['e', 'i', 'a', 'n', 'o', 'r']"
      ]
     },
     "execution_count": 12,
     "metadata": {},
     "output_type": "execute_result"
    }
   ],
   "source": [
    "create_instance(\"apple\")\n",
    "most_common_six\n",
    "[\"_pp__\",\"___l_\"]"
   ]
  },
  {
   "cell_type": "code",
   "execution_count": 16,
   "id": "9115363c",
   "metadata": {},
   "outputs": [
    {
     "data": {
      "text/plain": [
       "<bound method Counter.most_common of Counter({'ing': 15154, 'ess': 8423, 'ati': 8072, 'ter': 7912, 'ion': 7691, 'nes': 6804, 'ate': 6552, 'ent': 6454, 'tio': 6191, 'ous': 5647, 'tic': 5247, 'ica': 4959, 'ist': 4903, 'all': 4759, 'ine': 4634, 'ant': 4548, 'ers': 4492, 'cal': 4430, 'ble': 4421, 'per': 4369, 'tin': 4341, 'ver': 4216, 'non': 4188, 'ted': 4118, 'eri': 4050, 'lin': 3770, 'ali': 3714, 'tra': 3625, 'pre': 3608, 'abl': 3607, 'con': 3548, 'nte': 3429, 'est': 3398, 'sti': 3384, 'res': 3357, 'ell': 3347, 'pro': 3338, 'ene': 3262, 'ive': 3243, 'ste': 3207, 'rin': 3190, 'nti': 3163, 'rat': 3145, 'tri': 3120, 'ill': 3112, 'men': 3097, 'red': 3084, 'oni': 3077, 'nde': 3067, 'ies': 3065, 'ere': 3025, 'ari': 3006, 'the': 2988, 'ite': 2985, 'der': 2939, 'ove': 2926, 'man': 2913, 'tor': 2907, 'lat': 2884, 'ran': 2864, 'ian': 2854, 'lly': 2846, 'iti': 2836, 'lit': 2829, 'str': 2791, 'int': 2760, 'era': 2754, 'les': 2703, 'and': 2651, 'ize': 2648, 'her': 2646, 'ast': 2637, 'gra': 2591, 'ons': 2574, 'ric': 2565, 'lle': 2555, 'ism': 2544, 'min': 2535, 'one': 2481, 'dis': 2478, 'ili': 2470, 'und': 2436, 'olo': 2422, 'ero': 2402, 'ona': 2399, 'ina': 2388, 'ect': 2367, 'sta': 2366, 'tro': 2364, 'ani': 2363, 'chi': 2348, 'ato': 2343, 'che': 2342, 'mat': 2336, 'ria': 2288, 'ish': 2248, 'oph': 2225, 'tiv': 2217, 'ula': 2154, 'ity': 2133, 'rea': 2132, 'ome': 2114, 'lis': 2114, 'log': 2111, 'ori': 2111, 'nce': 2109, 'ide': 2104, 'nis': 2098, 'for': 2094, 'lli': 2092, 'nat': 2076, 'emi': 2071, 'pho': 2062, 'cti': 2056, 'ele': 2046, 'cha': 2038, 'cat': 2021, 'lan': 2019, 'ise': 2006, 'rop': 1993, 'ial': 1986, 'sto': 1985, 'ost': 1960, 'led': 1946, 'par': 1938, 'ris': 1937, 'len': 1934, 'eli': 1931, 'ini': 1931, 'met': 1926, 'nal': 1925, 'nic': 1924, 'ace': 1903, 'ten': 1899, 'lar': 1890, 'ard': 1887, 'tal': 1869, 'rac': 1862, 'rou': 1857, 'anc': 1857, 'mon': 1845, 'car': 1842, 'ore': 1824, 'mis': 1822, 'art': 1811, 'rec': 1805, 'com': 1804, 'phi': 1802, 'rap': 1799, 'oma': 1799, 'gen': 1796, 'ton': 1771, 'oli': 1766, 'ros': 1762, 'sin': 1754, 'ort': 1746, 'erm': 1743, 'enc': 1735, 'nta': 1728, 'nin': 1724, 'lla': 1715, 'tis': 1697, 'tat': 1693, 'ang': 1687, 'sse': 1686, 'hal': 1684, 'end': 1683, 'ses': 1681, 'tte': 1680, 'out': 1679, 'ron': 1649, 'ind': 1648, 'lic': 1639, 'ont': 1637, 'ara': 1633, 'aph': 1632, 'ete': 1628, 'din': 1611, 'ngl': 1607, 'unc': 1604, 'ral': 1604, 'ath': 1603, 'eni': 1597, 'sub': 1597, 'rit': 1593, 'den': 1586, 'kin': 1578, 'pla': 1577, 'ler': 1570, 'cul': 1569, 'ber': 1569, 'tes': 1560, 'tur': 1560, 'ear': 1559, 'sel': 1555, 'shi': 1554, 'ndi': 1552, 'har': 1551, 'ner': 1543, 'mic': 1540, 'sis': 1528, 'hor': 1524, 'ure': 1523, 'pha': 1522, 'mer': 1521, 'eti': 1517, 'tom': 1515, 'ssi': 1513, 'ass': 1503, 'qua': 1501, 'ned': 1497, 'ree': 1489, 'ida': 1487, 'act': 1480, 'ici': 1477, 'tan': 1476, 'ven': 1471, 'ach': 1469, 'cho': 1469, 'rie': 1460, 'cro': 1458, 'hin': 1457, 'tho': 1452, 'ale': 1452, 'ret': 1450, 'ens': 1449, 'rom': 1446, 'hea': 1444, 'ora': 1433, 'ita': 1432, 'han': 1431, 'age': 1418, 'nge': 1405, 'ier': 1405, 'ain': 1404, 'oun': 1398, 'ded': 1396, 'col': 1384, 'ans': 1384, 'pin': 1383, 'ack': 1381, 'ren': 1379, 'nit': 1372, 'nia': 1364, 'ert': 1360, 'uns': 1360, 'asi': 1357, 'ana': 1356, 'unt': 1354, 'cor': 1348, 'etr': 1346, 'ght': 1345, 'bil': 1342, 'igh': 1339, 'las': 1338, 'ose': 1336, 'ger': 1332, 'llo': 1326, 'ono': 1325, 'nco': 1320, 'phy': 1319, 'dia': 1319, 'ins': 1316, 'ala': 1313, 'oid': 1311, 'osi': 1309, 'erc': 1304, 'eat': 1304, 'oto': 1300, 'thi': 1300, 'rot': 1299, 'ser': 1298, 'nch': 1295, 'bra': 1286, 'ntr': 1286, 'ogi': 1280, 'uri': 1278, 'cen': 1275, 'mar': 1274, 'she': 1266, 'ple': 1262, 'tar': 1257, 'orm': 1255, 'des': 1254, 'qui': 1247, 'ade': 1247, 'ole': 1237, 'sup': 1233, 'ful': 1233, 'pol': 1232, 'ead': 1231, 'sed': 1228, 'ice': 1227, 'roc': 1227, 'eme': 1224, 'ond': 1223, 'sco': 1223, 'tre': 1222, 'are': 1221, 'wor': 1220, 'ino': 1214, 'pos': 1214, 'rti': 1204, 'idi': 1203, 'ely': 1202, 'can': 1199, 'omi': 1198, 'inc': 1196, 'ker': 1194, 'ick': 1191, 'arc': 1190, 'eta': 1188, 'ema': 1187, 'ami': 1185, 'pen': 1181, 'ogr': 1176, 'oth': 1174, 'eno': 1174, 'por': 1168, 'err': 1166, 'eco': 1164, 'sha': 1162, 'iou': 1161, 'esi': 1160, 'sem': 1151, 'edi': 1150, 'mor': 1148, 'lia': 1148, 'lea': 1144, 'liz': 1142, 'vel': 1142, 'ile': 1141, 'spe': 1141, 'ane': 1132, 'iat': 1128, 'hro': 1127, 'abi': 1121, 'gly': 1120, 'let': 1117, 'thr': 1115, 'tel': 1113, 'ame': 1112, 'fer': 1111, 'ett': 1105, 'nth': 1104, 'onc': 1101, 'ram': 1098, 'tab': 1096, 'ura': 1095, 'tie': 1092, 'ong': 1092, 'rep': 1086, 'upe': 1077, 'lac': 1075, 'rch': 1064, 'ust': 1056, 'oll': 1054, 'cer': 1053, 'ern': 1049, 'ary': 1048, 'dic': 1046, 'rid': 1044, 'hic': 1040, 'pat': 1039, 'win': 1038, 'ata': 1031, 'ifi': 1031, 'sio': 1029, 'ope': 1029, 'uni': 1024, 'mal': 1022, 'wel': 1017, 'dro': 1015, 'our': 1013, 'ock': 1011, 'ike': 1009, 'rma': 1009, 'ave': 1008, 'hol': 1008, 'lor': 1007, 'isi': 1004, 'ico': 1003, 'bar': 1002, 'cin': 1000, 'cra': 992, 'sen': 992, 'spi': 990, 'ote': 988, 'adi': 988, 'nne': 986, 'cke': 985, 'ped': 982, 'hip': 981, 'tia': 980, 'ood': 979, 'ela': 978, 'pan': 978, 'cou': 978, 'oro': 976, 'ena': 976, 'rio': 976, 'lec': 975, 'vil': 968, 'arr': 968, 'hed': 967, 'att': 966, 'ors': 961, 'ras': 960, 'eve': 959, 'oti': 957, 'sit': 955, 'son': 955, 'bro': 955, 'elf': 954, 'low': 953, 'hil': 952, 'que': 949, 'emo': 948, 'isc': 947, 'ire': 945, 'rad': 945, 'pri': 942, 'tle': 941, 'ano': 939, 'ith': 938, 'ium': 937, 'omo': 935, 'ult': 935, 'imp': 932, 'rel': 930, 'gin': 930, 'ola': 929, 'roo': 927, 'net': 927, 'iss': 926, 'hyp': 925, 'nsi': 924, 'sne': 924, 'tch': 923, 'med': 920, 'cre': 918, 'phe': 917, 'app': 915, 'cop': 915, 'hes': 914, 'lik': 911, 'cto': 905, 'ann': 905, 'nar': 902, 'rai': 900, 'rem': 899, 'hen': 898, 'hon': 897, 'rol': 895, 'spo': 893, 'rre': 893, 'oge': 888, 'zin': 888, 'cle': 886, 'ime': 883, 'eth': 879, 'tit': 876, 'sal': 873, 'use': 873, 'odi': 872, 'omp': 872, 'niz': 871, 'los': 870, 'rab': 868, 'alo': 868, 'aci': 867, 'och': 863, 'hem': 858, 'til': 858, 'orn': 856, 'nto': 856, 'dec': 853, 'pal': 853, 'ull': 852, 'iza': 850, 'lou': 849, 'pti': 848, 'rth': 845, 'ean': 845, 'ama': 841, 'tha': 841, 'cia': 841, 'una': 840, 'ord': 840, 'ich': 840, 'mit': 837, 'dne': 837, 'top': 836, 'epi': 835, 'bri': 835, 'vin': 835, 'dae': 831, 'ake': 831, 'oly': 830, 'hel': 829, 'eal': 828, 'lie': 827, 'zed': 827, 'mel': 823, 'sca': 822, 'cri': 815, 'opi': 815, 'pic': 812, 'sly': 812, 'ode': 811, 'rte': 811, 'gic': 811, 'war': 810, 'cla': 810, 'unp': 809, 'nst': 808, 'nse': 807, 'amp': 805, 'rri': 801, 'eas': 800, 'ail': 799, 'fic': 798, 'oot': 796, 'rse': 796, 'ery': 796, 'oca': 795, 'erl': 794, 'ces': 794, 'rus': 793, 'eph': 793, 'own': 793, 'ein': 793, 'rer': 792, 'dle': 790, 'ppe': 788, 'lon': 787, 'isa': 781, 'oss': 778, 'tru': 777, 'ede': 775, 'sia': 775, 'nda': 774, 'uti': 770, 'rmi': 770, 'itt': 770, 'bur': 766, 'chr': 765, 'iso': 765, 'sol': 763, 'opo': 762, 'rog': 757, 'nci': 756, 'rdi': 754, 'his': 754, 'gle': 752, 'ked': 752, 'sch': 752, 'sur': 751, 'scr': 751, 'esc': 749, 'san': 749, 'erv': 749, 'ash': 748, 'ibl': 747, 'row': 746, 'ase': 746, 'ese': 743, 'bel': 738, 'del': 738, 'erp': 733, 'dra': 731, 'lam': 730, 'nos': 729, 'atr': 727, 'ngs': 725, 'usl': 725, 'ied': 725, 'ory': 724, 'sho': 723, 'gal': 721, 'nom': 721, 'riz': 719, 'ien': 719, 'dly': 719, 'mas': 718, 'ged': 718, 'ivi': 716, 'gre': 714, 'lig': 714, 'bly': 713, 'ape': 712, 'bac': 711, 'cur': 710, 'loc': 709, 'rag': 707, 'ndo': 707, 'tti': 706, 'erb': 705, 'aut': 704, 'bal': 704, 'erg': 703, 'une': 702, 'ept': 702, 'elo': 701, 'don': 699, 'hou': 698, 'mil': 696, 'cep': 696, 'fin': 695, 'tim': 695, 'rig': 693, 'ung': 692, 'eed': 692, 'ref': 689, 'acc': 689, 'ima': 688, 'nou': 687, 'tol': 687, 'gat': 686, 'bor': 685, 'een': 684, 'mes': 684, 'mul': 680, 'dal': 678, 'old': 677, 'ced': 677, 'bla': 676, 'lum': 676, 'sce': 676, 'cel': 675, 'ito': 670, 'spa': 670, 'mpe': 667, 'eou': 665, 'ott': 665, 'tai': 665, 'rne': 665, 'rim': 664, 'nan': 664, 'mme': 663, 'owe': 663, 'aro': 663, 'bre': 663, 'val': 663, 'orr': 662, 'icu': 662, 'edn': 658, 'fie': 656, 'izi': 656, 'zat': 655, 'som': 654, 'nre': 654, 'dri': 654, 'ech': 653, 'gan': 651, 'ila': 651, 'gis': 650, 'sor': 649, 'dit': 648, 'arm': 648, 'edl': 647, 'ugh': 646, 'eto': 646, 'hot': 644, 'amb': 644, 'ute': 644, 'nts': 643, 'ype': 642, 'mou': 642, 'ndr': 642, 'ntl': 641, 'lot': 640, 'dem': 640, 'emp': 640, 'lab': 639, 'mac': 639, 'imi': 638, 'air': 637, 'usn': 637, 'cea': 635, 'ril': 634, 'ars': 634, 'sat': 634, 'odo': 633, 'ngi': 630, 'ban': 630, 'cap': 629, 'nor': 628, 'tem': 627, 'pit': 626, 'fla': 626, 'osp': 626, 'uli': 625, 'cit': 624, 'sic': 624, 'eur': 622, 'pli': 622, 'rip': 620, 'gar': 620, 'eca': 619, 'tly': 619, 'yst': 619, 'rei': 619, 'lus': 618, 'erf': 618, 'uto': 616, 'aco': 616, 'nsu': 615, 'vis': 614, 'eci': 612, 'unr': 612, 'reg': 611, 'oco': 611, 'sil': 611, 'nni': 611, 'tos': 611, 'sid': 611, 'arb': 610, 'orp': 609, 'bli': 609, 'evi': 609, 'rde': 606, 'clo': 606, 'lio': 605, 'hoo': 605, 'oce': 605, 'omy': 603, 'gon': 603, 'agi': 602, 'avi': 601, 'lem': 601, 'het': 601, 'usi': 600, 'tif': 600, 'rme': 599, 'hyd': 598, 'opa': 597, 'sul': 597, 'sma': 597, 'ega': 596, 'oin': 594, 'ngu': 592, 'yin': 592, 'rge': 591, 'ilo': 591, 'ual': 590, 'ign': 588, 'sts': 588, 'mid': 588, 'uro': 587, 'squ': 587, 'flo': 587, 'cas': 587, 'iri': 587, 'lop': 587, 'inf': 587, 'pse': 586, 'uas': 586, 'dio': 583, 'rni': 581, 'apo': 581, 'dom': 581, 'ssa': 580, 'osc': 580, 'ext': 579, 'erd': 578, 'siv': 577, 'hit': 576, 'bit': 576, 'toc': 576, 'umb': 573, 'pon': 572, 'lti': 572, 'pec': 572, 'nab': 571, 'atu': 571, 'rod': 571, 'neu': 571, 'lim': 571, 'fra': 571, 'cte': 570, 'tac': 570, 'dea': 569, 'ogy': 568, 'arg': 568, 'rif': 568, 'bat': 568, 'rev': 566, 'nac': 565, 'ham': 565, 'duc': 565, 'nel': 564, 'ota': 564, 'obi': 562, 'tea': 562, 'bul': 561, 'hom': 560, 'sci': 558, 'thy': 558, 'ges': 558, 'onf': 557, 'not': 556, 'mia': 556, 'bin': 556, 'cos': 556, 'amm': 554, 'iol': 553, 'ily': 552, 'rna': 551, 'mpl': 551, 'eud': 549, 'ydr': 549, 'amo': 549, 'pul': 549, 'dan': 548, 'woo': 548, 'omm': 546, 'glo': 546, 'leg': 545, 'utt': 545, 'twi': 545, 'ife': 544, 'rro': 544, 'icr': 544, 'fre': 540, 'cis': 539, 'coc': 538, 'esp': 538, 'pet': 537, 'lne': 537, 'epr': 536, 'inn': 536, 'die': 536, 'ifo': 535, 'emb': 534, 'alt': 534, 'fac': 534, 'isp': 532, 'bea': 532, 'eso': 532, 'arl': 532, 'whi': 532, 'lid': 531, 'cli': 531, 'gro': 531, 'rmo': 530, 'itu': 529, 'acr': 528, 'hia': 528, 'ipp': 527, 'urg': 527, 'ank': 526, 'cid': 525, 'rob': 524, 'exp': 524, 'enn': 524, 'pra': 524, 'ben': 524, 'rco': 523, 'gne': 523, 'mot': 523, 'ook': 523, 'ves': 522, 'loo': 522, 'nop': 520, 'pot': 520, 'seu': 519, 'bed': 518, 'ict': 517, 'fis': 517, 'equ': 516, 'ncy': 516, 'lde': 513, 'unf': 511, 'ffe': 511, 'bas': 511, 'ark': 509, 'rib': 507, 'urn': 506, 'rra': 506, 'udo': 506, 'sec': 504, 'oug': 504, 'hyl': 503, 'wer': 503, 'stu': 503, 'iac': 502, 'cks': 502, 'pas': 502, 'uin': 501, 'ule': 501, 'nas': 500, 'tas': 500, 'dge': 500, 'aca': 499, 'ias': 498, 'sar': 495, 'tou': 495, 'ink': 495, 'pis': 495, 'aff': 495, 'mbe': 494, 'pel': 490, 'lif': 490, 'cta': 490, 'ago': 490, 'hos': 490, 'pte': 489, 'roa': 489, 'eac': 487, 'hee': 486, 'tiz': 485, 'reb': 485, 'nol': 483, 'ush': 483, 'rli': 481, 'ved': 480, 'rst': 479, 'dat': 478, 'uth': 477, 'esh': 477, 'rav': 476, 'ken': 475, 'tee': 475, 'mph': 473, 'lut': 472, 'rum': 472, 'dor': 472, 'sph': 471, 'fle': 471, 'als': 470, 'wee': 470, 'itr': 470, 'sso': 469, 'iva': 469, 'pie': 468, 'opl': 468, 'scu': 467, 'tid': 466, 'nam': 466, 'npr': 465, 'bol': 465, 'pir': 465, 'ski': 464, 'uck': 463, 'unb': 463, 'aki': 463, 'lip': 463, 'ada': 463, 'uct': 463, 'ork': 463, 'ece': 463, 'ado': 462, 'epa': 462, 'gge': 462, 'onv': 460, 'smo': 460, 'ibi': 459, 'mpa': 459, 'hop': 458, 'noc': 458, 'vit': 458, 'ecu': 458, 'agg': 457, 'lag': 456, 'lad': 456, 'nso': 456, 'ffi': 456, 'oke': 455, 'cio': 455, 'van': 455, 'rsi': 454, 'try': 454, 'otr': 454, 'ulo': 453, 'aur': 453, 'asc': 452, 'rph': 452, 'dar': 451, 'mus': 451, 'gue': 450, 'mos': 449, 'ctr': 448, 'unm': 448, 'wis': 447, 'pur': 447, 'ume': 447, 'rta': 447, 'nea': 447, 'syn': 446, 'abo': 446, 'bou': 446, 'tta': 446, 'hie': 445, 'rcu': 444, 'plo': 444, 'mag': 444, 'llu': 444, 'eep': 443, 'vol': 443, 'hre': 442, 'cus': 441, 'nna': 441, 'ipe': 441, 'arn': 440, 'ira': 440, 'mol': 439, 'pod': 439, 'arp': 439, 'eck': 439, 'rle': 438, 'bon': 438, 'nif': 437, 'uff': 436, 'blo': 436, 'rsh': 436, 'off': 435, 'sla': 434, 'uit': 434, 'cot': 434, 'sea': 434, 'oat': 434, 'ics': 433, 'ysi': 433, 'tog': 432, 'nie': 431, 'nid': 431, 'iga': 430, 'ebr': 429, 'oso': 428, 'aga': 427, 'ypo': 427, 'hap': 427, 'olu': 426, 'nca': 426, 'ool': 426, 'alc': 425, 'umi': 424, 'alf': 424, 'roi': 424, 'lep': 424, 'tyl': 423, 'cut': 423, 'ige': 423, 'api': 422, 'pto': 422, 'gas': 422, 'alm': 420, 'urs': 420, 'pea': 420, 'coa': 420, 'eng': 419, 'oof': 419, 'pac': 418, 'uma': 418, 'nec': 418, 'cie': 418, 'bes': 418, 'udi': 417, 'ovi': 417, 'sig': 417, 'gri': 417, 'flu': 416, 'nve': 416, 'rbo': 415, 'dep': 415, 'oon': 414, 'dre': 414, 'opp': 414, 'vic': 413, 'onp': 413, 'def': 413, 'eae': 413, 'chl': 412, 'vat': 411, 'lls': 411, 'ctu': 410, 'ndu': 410, 'hri': 409, 'ido': 409, 'kle': 409, 'eel': 409, 'lee': 408, 'hum': 408, 'tag': 408, 'rce': 408, 'cum': 406, 'opt': 405, 'mak': 405, 'hag': 405, 'mpo': 405, 'nsp': 405, 'omb': 405, 'nga': 405, 'rov': 405, 'reo': 404, 'eer': 404, 'osa': 403, 'hir': 401, 'onn': 401, 'nsa': 401, 'tam': 400, 'gel': 399, 'pil': 399, 'imm': 399, 'nap': 398, 'efi': 398, 'aba': 398, 'sop': 397, 'rgi': 397, 'cam': 397, 'bio': 397, 'typ': 396, 'nem': 396, 'nds': 396, 'nen': 396, 'hat': 396, 'gia': 395, 'eet': 395, 'riv': 395, 'gui': 395, 'ylo': 394, 'set': 393, 'rvi': 393, 'uch': 392, 'mbr': 392, 'iro': 392, 'epe': 391, 'eab': 390, 'ify': 390, 'ets': 390, 'uta': 390, 'lai': 390, 'uar': 390, 'aus': 389, 'gla': 388, 'sib': 388, 'lve': 388, 'sab': 387, 'hys': 387, 'has': 386, 'ppi': 385, 'bia': 385, 'hab': 384, 'ump': 384, 'ceo': 384, 'ckl': 384, 'eld': 384, 'ibe': 383, 'oga': 383, 'bus': 382, 'eis': 382, 'urr': 382, 'sou': 382, 'add': 382, 'spr': 381, 'yli': 380, 'nio': 380, 'iff': 380, 'cki': 379, 'ava': 378, 'eda': 377, 'tig': 377, 'ois': 377, 'oxi': 376, 'tip': 376, 'ket': 375, 'zer': 375, 'uss': 374, 'tec': 374, 'org': 374, 'irr': 374, 'dde': 373, 'ych': 373, 'epo': 373, 'chy': 373, 'ecr': 372, 'tet': 372, 'mma': 371, 'chu': 371, 'nvi': 371, 'lph': 371, 'rga': 371, 'tto': 371, 'eva': 371, 'cet': 370, 'run': 369, 'gli': 369, 'gna': 369, 'mbo': 367, 'ebo': 366, 'fil': 366, 'ais': 366, 'rba': 365, 'sim': 365, 'tne': 365, 'ude': 365, 'erw': 364, 'oba': 364, 'imb': 363, 'egr': 362, 'ebe': 362, 'nsh': 362, 'uat': 362, 'ngo': 362, 'els': 362, 'lom': 362, 'imo': 360, 'tap': 360, 'ony': 360, 'hio': 360, 'gam': 359, 'dow': 359, 'nex': 359, 'atc': 359, 'apa': 358, 'dou': 358, 'rve': 356, 'soc': 356, 'nke': 356, 'mmi': 356, 'uis': 356, 'sli': 355, 'wat': 354, 'fri': 354, 'rbi': 354, 'gul': 353, 'wic': 353, 'yll': 352, 'hth': 352, 'yan': 351, 'abe': 351, 'tot': 350, 'fir': 350, 'nim': 350, 'iel': 350, 'irc': 349, 'ngr': 349, 'eye': 349, 'fro': 349, 'wit': 348, 'ubl': 348, 'oar': 348, 'eav': 348, 'nog': 346, 'tli': 346, 'ruc': 346, 'oci': 346, 'edo': 346, 'ios': 346, 'ops': 346, 'iot': 345, 'abb': 345, 'ocr': 344, 'cru': 343, 'iar': 343, 'tua': 343, 'sth': 342, 'tow': 342, 'cir': 341, 'inu': 341, 'sie': 341, 'way': 341, 'lay': 341, 'lte': 340, 'eak': 340, 'leo': 340, 'sty': 339, 'cil': 339, 'uts': 338, 'ipa': 338, 'leu': 338, 'yto': 338, 'sle': 338, 'but': 338, 'iph': 338, 'aft': 338, 'ipl': 338, 'see': 338, 'oul': 337, 'wal': 337, 'lau': 337, 'unn': 336, 'nfe': 336, 'eam': 336, 'ulp': 335, 'spl': 334, 'hur': 333, 'phr': 333, 'ocy': 333, 'smi': 333, 'lys': 333, 'pop': 332, 'nct': 332, 'aly': 332, 'var': 331, 'nfo': 330, 'sac': 329, 'orl': 329, 'rew': 329, 'neo': 328, 'rds': 328, 'uil': 328, 'mbl': 328, 'efu': 328, 'orc': 327, 'boo': 327, 'geo': 327, 'igi': 327, 'tib': 327, 'eol': 327, 'oda': 326, 'ttl': 325, 'oil': 325, 'hai': 324, 'egi': 324, 'obe': 324, 'pyr': 324, 'dul': 324, 'ndl': 323, 'loi': 323, 'foo': 323, 'hae': 323, 'nli': 323, 'rry': 322, 'ees': 322, 'agr': 322, 'dol': 322, 'hte': 322, 'nad': 322, 'thu': 321, 'alu': 321, 'plu': 321, 'mbi': 321, 'yro': 321, 'exc': 321, 'gua': 321, 'mpr': 320, 'rso': 320, 'ald': 319, 'lav': 319, 'mba': 319, 'yle': 318, 'obl': 318, 'div': 318, 'eba': 318, 'ley': 318, 'onr': 317, 'nfi': 317, 'mod': 317, 'oct': 316, 'rci': 316, 'edu': 316, 'apt': 315, 'hlo': 315, 'exi': 315, 'bbe': 314, 'psy': 314, 'psi': 314, 'doc': 314, 'yth': 313, 'nsc': 313, 'sep': 313, 'rof': 313, 'ewa': 312, 'aul': 312, 'hyt': 312, 'ddl': 312, 'inv': 311, 'adr': 311, 'iab': 311, 'poi': 311, 'eig': 311, 'mun': 311, 'edr': 310, 'leb': 310, 'ehe': 310, 'evo': 310, 'eop': 309, 'boa': 309, 'far': 308, 'cab': 308, 'tum': 308, 'acu': 308, 'rar': 307, 'rpo': 307, 'uci': 307, 'hob': 306, 'agn': 306, 'toi': 306, 'wed': 306, 'asp': 306, 'occ': 305, 'ums': 305, 'zes': 305, 'ube': 305, 'cip': 305, 'efe': 304, 'riu': 304, 'lob': 304, 'mmo': 303, 'axi': 303, 'aln': 303, 'ege': 302, 'lap': 302, 'noi': 302, 'oad': 302, 'bet': 301, 'pes': 300, 'unh': 300, 'pid': 299, 'nag': 299, 'alk': 299, 'lib': 299, 'hra': 298, 'mie': 298, 'exa': 298, 'ncr': 297, 'raf': 297, 'git': 296, 'det': 296, 'ubs': 296, 'nig': 296, 'gor': 296, 'wea': 296, 'fol': 294, 'oom': 294, 'mea': 293, 'tus': 293, 'eru': 293, 'dam': 293, 'erh': 293, 'sum': 292, 'aun': 292, 'dos': 292, 'rhe': 291, 'yed': 291, 'ibr': 291, 'yri': 290, 'reh': 290, 'nme': 290, 'ske': 290, 'rca': 288, 'swe': 288, 'dip': 288, 'cry': 287, 'wil': 287, 'urt': 287, 'enu': 286, 'hei': 286, 'pou': 286, 'ocu': 286, 'rrh': 286, 'itc': 286, 'hec': 285, 'liv': 285, 'rsa': 285, 'dev': 285, 'nee': 285, 'ntu': 285, 'uen': 285, 'dac': 284, 'elt': 284, 'raw': 284, 'xtr': 284, 'lae': 283, 'rto': 283, 'coe': 283, 'unl': 283, 'idd': 282, 'ues': 281, 'asm': 281, 'iop': 281, 'moo': 280, 'ird': 280, 'nno': 280, 'stl': 280, 'ova': 280, 'ewi': 280, 'hus': 279, 'ney': 279, 'rbe': 278, 'oos': 278, 'yph': 278, 'rda': 278, 'cyt': 278, 'ncl': 278, 'ncu': 277, 'ggi': 277, 'ymp': 277, 'yla': 276, 'rke': 276, 'ray': 276, 'bic': 275, 'iqu': 275, 'umm': 274, 'via': 274, 'lei': 274, 'oxy': 274, 'gio': 274, 'nqu': 274, 'avo': 273, 'kie': 273, 'eut': 273, 'bir': 272, 'gni': 272, 'too': 272, 'tul': 272, 'ipo': 272, 'lun': 272, 'iet': 272, 'syc': 271, 'ild': 271, 'nle': 271, 'ubi': 271, 'upp': 271, 'bot': 271, 'fec': 271, 'hle': 271, 'dif': 271, 'lev': 270, 'mpi': 270, 'wan': 270, 'efo': 270, 'lue': 270, 'ilt': 269, 'opr': 268, 'fou': 268, 'aud': 268, 'urb': 268, 'mai': 268, 'tir': 268, 'dli': 267, 'rly': 267, 'heo': 267, 'hau': 266, 'ror': 266, 'orb': 266, 'hne': 266, 'cco': 265, 'anu': 265, 'ppr': 264, 'fli': 264, 'gno': 264, 'dee': 264, 'ait': 264, 'luc': 264, 'asa': 263, 'hid': 263, 'tun': 263, 'aps': 262, 'esu': 262, 'mpt': 262, 'igo': 262, 'swa': 262, 'lex': 262, 'ows': 261, 'aug': 261, 'mad': 261, 'gil': 261, 'gol': 261, 'sme': 260, 'ubb': 260, 'pun': 260, 'ats': 260, 'pia': 260, 'coi': 259, 'rpe': 259, 'nfl': 259, 'fus': 259, 'nha': 259, 'ssu': 258, 'aso': 258, 'fur': 258, 'nae': 257, 'put': 257, 'nma': 257, 'whe': 257, 'rho': 257, 'nob': 257, 'rha': 257, 'gie': 256, 'fal': 256, 'dab': 255, 'bis': 255, 'ngn': 255, 'ecl': 255, 'tub': 255, 'rva': 255, 'yna': 255, 'lov': 254, 'unk': 254, 'lod': 254, 'hig': 253, 'ego': 253, 'ppo': 253, 'sus': 253, 'cau': 253, 'ddi': 253, 'hun': 252, 'num': 252, 'uno': 252, 'teo': 251, 'yel': 251, 'hod': 251, 'aer': 251, 'ipi': 250, 'dog': 250, 'ody': 250, 'bst': 250, 'oop': 249, 'oty': 249, 'get': 249, 'ycl': 249, 'rys': 249, 'two': 249, 'igr': 249, 'ipt': 249, 'agu': 248, 'blu': 248, 'sau': 248, 'hog': 247, 'dig': 246, 'irt': 246, 'lyc': 246, 'ltr': 246, 'yco': 246, 'unw': 246, 'uls': 245, 'fan': 245, 'eus': 245, 'ior': 244, 'owi': 244, 'ips': 244, 'nfr': 244, 'eon': 244, 'igg': 243, 'ewo': 243, 'oki': 243, 'uer': 242, 'aye': 242, 'nfa': 242, 'fel': 241, 'ewe': 241, 'ppl': 241, 'fas': 241, 'rpr': 241, 'oor': 240, 'alv': 240, 'now': 240, 'owl': 239, 'gma': 239, 'lco': 239, 'uba': 239, 'fed': 239, 'cci': 238, 'ads': 238, 'opy': 238, 'alg': 238, 'sun': 237, 'clu': 237, 'usc': 237, 'yme': 236, 'mir': 236, 'jac': 236, 'vid': 236, 'nep': 235, 'lma': 235, 'dil': 235, 'rdo': 235, 'eum': 235, 'alp': 234, 'aid': 234, 'ccu': 234, 'cad': 233, 'shl': 233, 'sym': 233, 'utr': 232, 'gea': 232, 'yer': 232, 'rla': 232, 'was': 231, 'got': 231, 'rup': 231, 'cac': 231, 'vor': 231, 'kil': 231, 'svi': 230, 'swi': 230, 'bru': 230, 'nus': 229, 'coo': 229, 'yte': 229, 'onl': 229, 'bbi': 229, 'eff': 229, 'tma': 229, 'ths': 229, 'ebu': 228, 'edg': 228, 'awa': 228, 'npe': 228, 'fen': 227, 'nod': 227, 'hoc': 227, 'nbe': 227, 'yne': 227, 'ift': 227, 'fte': 227, 'loa': 227, 'rub': 227, 'mop': 227, 'cog': 226, 'sai': 226, 'cyc': 226, 'pht': 226, 'ogn': 225, 'cif': 225, 'kee': 225, 'rae': 225, 'lur': 224, 'esa': 224, 'azi': 224, 'epl': 224, 'ldi': 223, 'efa': 223, 'mut': 223, 'yti': 223, 'iom': 223, 'ius': 223, 'pai': 222, 'nki': 222, 'bbl': 222, 'lyt': 222, 'yma': 221, 'eho': 221, 'lyp': 221, 'onm': 221, 'nhe': 221, 'azo': 220, 'usa': 220, 'kel': 220, 'lel': 220, 'eem': 220, 'ils': 220, 'abs': 219, 'slo': 219, 'kar': 219, 'npa': 219, 'nul': 219, 'jec': 219, 'oan': 219, 'ays': 219, 'odu': 218, 'hac': 218, 'uln': 218, 'uan': 218, 'mmu': 217, 'oub': 217, 'did': 216, 'hym': 216, 'ids': 216, 'ggl': 216, 'exe': 216, 'hly': 216, 'fea': 216, 'ugg': 216, 'mog': 216, 'shn': 216, 'pap': 215, 'its': 215, 'neg': 214, 'uad': 214, 'vie': 214, 'lfi': 213, 'udd': 213, 'zoo': 213, 'rut': 213, 'ots': 213, 'moc': 213, 'rtu': 213, 'chn': 212, 'sif': 212, 'mni': 212, 'esm': 212, 'diu': 212, 'pta': 212, 'efl': 212, 'obo': 211, 'tox': 211, 'oen': 211, 'vas': 211, 'alb': 211, 'oic': 211, 'ogo': 210, 'dim': 210, 'obs': 210, 'vir': 210, 'abr': 210, 'uou': 210, 'rts': 210, 'cod': 209, 'rau': 209, 'uda': 209, 'wom': 209, 'eit': 208, 'ioc': 208, 'ibb': 208, 'tud': 208, 'rld': 208, 'rhi': 207, 'oes': 207, 'ssn': 207, 'diz': 206, 'ety': 206, 'sip': 205, 'tme': 205, 'ogl': 205, 'oac': 204, 'aze': 204, 'kis': 204, 'adv': 203, 'dop': 203, 'nut': 203, 'mbu': 202, 'ndy': 202, 'sam': 202, 'rud': 202, 'ogg': 202, 'dus': 201, 'nil': 201, 'kno': 201, 'uga': 201, 'abu': 201, 'new': 201, 'uce': 201, 'roe': 200, 'irs': 200, 'fat': 200, 'cem': 199, 'poc': 199, 'iog': 199, 'adm': 199, 'ryp': 199, 'ffl': 199, 'sno': 198, 'mur': 198, 'lfa': 198, 'rul': 198, 'lym': 198, 'sna': 198, 'nfu': 198, 'tfu': 197, 'dur': 197, 'ryo': 196, 'nai': 196, 'wri': 196, 'eau': 196, 'igu': 196, 'umo': 196, 'uel': 196, 'fes': 196, 'oel': 195, 'bos': 195, 'niu': 195, 'ouc': 195, 'cce': 195, 'ocl': 195, 'kes': 195, 'ibu': 195, 'enz': 195, 'shr': 195, 'fun': 194, 'isl': 193, 'gur': 193, 'cys': 193, 'eek': 193, 'aem': 193, 'hiz': 193, 'kli': 193, 'aeo': 192, 'ued': 192, 'egu': 192, 'sag': 192, 'ivo': 192, 'opu': 192, 'cht': 192, 'vul': 192, 'ypt': 192, 'epu': 192, 'gem': 191, 'gos': 191, 'deb': 191, 'pig': 191, 'upr': 191, 'bec': 191, 'suc': 190, 'uco': 190, 'tep': 190, 'rfe': 190, 'tod': 189, 'rgo': 189, 'kan': 189, 'aya': 189, 'aqu': 188, 'tut': 188, 'iev': 188, 'pne': 188, 'obb': 187, 'eor': 187, 'odd': 187, 'unv': 187, 'key': 187, 'dru': 187, 'lme': 186, 'pag': 186, 'uca': 186, 'vio': 186, 'bow': 186, 'upl': 186, 'vet': 185, 'ssl': 185, 'cup': 185, 'yce': 185, 'bab': 185, 'pip': 185, 'lew': 185, 'xin': 184, 'sms': 184, 'hma': 184, 'oqu': 184, 'cov': 184, 'iba': 184, 'gou': 184, 'miz': 184, 'lmo': 183, 'sap': 183, 'rki': 183, 'bod': 183, 'urc': 183, 'nho': 183, 'ams': 182, 'lmi': 182, 'glu': 182, 'icl': 182, 'hme': 182, 'uid': 182, 'dyn': 181, 'hep': 181, 'lca': 181, 'olt': 181, 'zon': 180, 'goo': 180, 'meg': 180, 'ohe': 180, 'any': 180, 'had': 179, 'lta': 179, 'asu': 179, 'euc': 179, 'exo': 179, 'yra': 179, 'nov': 179, 'eaf': 179, 'pee': 178, 'cka': 178, 'lva': 178, 'awn': 178, 'hyr': 178, 'ubt': 178, 'twa': 178, 'enl': 178, 'wne': 178, 'ubc': 178, 'osm': 178, 'apl': 177, 'elu': 177, 'onu': 177, 'urp': 177, 'ulf': 177, 'auc': 176, 'poo': 176, 'eos': 176, 'ols': 176, 'iod': 176, 'ryn': 176, 'him': 176, 'kal': 175, 'cca': 175, 'nur': 175, 'jud': 174, 'eha': 174, 'chm': 174, 'hex': 174, 'oft': 174, 'rtr': 173, 'voc': 173, 'lef': 173, 'syl': 173, 'rlo': 173, 'ozo': 172, 'tax': 172, 'law': 172, 'bie': 172, 'aka': 172, 'wei': 172, 'sad': 172, 'bee': 172, 'scl': 171, 'oet': 171, 'tau': 171, 'dot': 171, 'nau': 171, 'vag': 171, 'fai': 170, 'rru': 170, 'upt': 170, 'emu': 170, 'raz': 170, 'nip': 170, 'ymo': 169, 'nmo': 169, 'spu': 169, 'fyi': 169, 'yar': 169, 'elm': 169, 'ucc': 168, 'pom': 168, 'ods': 168, 'das': 168, 'ulu': 167, 'cic': 167, 'amy': 167, 'swo': 167, 'rno': 167, 'gab': 167, 'iam': 167, 'arv': 166, 'beg': 166, 'yno': 166, 'obr': 166, 'yal': 166, 'edd': 166, 'url': 166, 'hoe': 166, 'inh': 166, 'moi': 165, 'sua': 165, 'eps': 165, 'acy': 165, 'ebi': 165, 'ciz': 165, 'twe': 165, 'rui': 165, 'etu': 165, 'rah': 164, 'ups': 164, 'fru': 164, 'xte': 164, 'udg': 164, 'sex': 164, 'efr': 164, 'osu': 163, 'eoc': 163, 'ltu': 163, 'egg': 163, 'pus': 163, 'zen': 163, 'buc': 163, 'rpi': 163, 'teg': 162, 'rsu': 162, 'lvi': 162, 'myc': 162, 'cei': 162, 'bid': 162, 'irm': 161, 'oal': 161, 'thm': 161, 'kat': 161, 'xpe': 161, 'sei': 161, 'xis': 161, 'rpa': 161, 'fid': 161, 'lub': 160, 'urd': 160, 'rks': 160, 'mem': 160, 'enf': 160, 'dai': 159, 'mig': 159, 'mpu': 159, 'eap': 159, 'ury': 159, 'bun': 158, 'hib': 158, 'olv': 158, 'fit': 158, 'eom': 157, 'ask': 157, 'day': 157, 'llb': 157, 'tak': 157, 'gus': 156, 'dir': 156, 'lud': 156, 'nny': 156, 'nuc': 156, 'gir': 156, 'ghe': 156, 'uet': 156, 'gru': 155, 'neb': 155, 'myo': 155, 'dun': 155, 'rpl': 155, 'nwa': 155, 'mec': 155, 'idg': 154, 'nun': 154, 'nbo': 154, 'sot': 154, 'oud': 154, 'nly': 154, 'idu': 154, 'dys': 154, 'sbu': 153, 'ppa': 153, 'lbe': 153, 'fee': 153, 'how': 153, 'aea': 153, 'ngt': 153, 'lto': 153, 'eot': 153, 'nei': 152, 'rwa': 152, 'eny': 152, 'irl': 152, 'utc': 152, 'kit': 152, 'anl': 152, 'rbu': 151, 'nla': 151, 'ipr': 151, 'zar': 151, 'ygo': 151, 'uru': 151, 'dmi': 151, 'rty': 151, 'ady': 150, 'eag': 150, 'rwo': 150, 'yon': 150, 'vab': 150, 'tei': 150, 'mim': 150, 'lsi': 150, 'oit': 150, 'emm': 150, 'ofe': 150, 'kne': 149, 'cav': 149, 'vac': 149, 'oya': 149, 'lil': 149, 'lfc': 149, 'nev': 149, 'ogu': 148, 'nbu': 148, 'adu': 148, 'rsp': 148, 'eys': 148, 'oup': 147, 'nbr': 147, 'isk': 147, 'rfi': 147, 'fib': 147, 'nym': 147, 'apr': 146, 'hoi': 146, 'sir': 146, 'upi': 146, 'hli': 146, 'npo': 146, 'sev': 146, 'aha': 146, 'nva': 146, 'imu': 146, 'vou': 146, 'rdl': 145, 'phl': 145, 'fig': 145, 'owa': 145, 'llc': 145, 'haw': 144, 'shu': 144, 'etc': 144, 'eil': 144, 'cya': 144, 'osh': 144, 'bag': 144, 'mip': 144, 'rtl': 144, 'izo': 144, 'doo': 144, 'tst': 144, 'eog': 144, 'lyn': 143, 'eds': 143, 'aen': 143, 'cty': 143, 'eid': 143, 'mom': 143, 'ubr': 142, 'wai': 142, 'isu': 142, 'ptu': 142, 'idl': 142, 'lda': 142, 'ymi': 142, 'sky': 142, 'iag': 141, 'tob': 141, 'xic': 141, 'rak': 141, 'mam': 141, 'lst': 141, 'thl': 141, 'nvo': 140, 'uir': 140, 'zab': 140, 'onb': 140, 'lgi': 140, 'dry': 139, 'aes': 139, 'shm': 139, 'yre': 139, 'yng': 139, 'lfs': 139, 'tyr': 138, 'llf': 138, 'cob': 138, 'nkl': 138, 'esq': 138, 'lds': 138, 'god': 138, 'eec': 138, 'hts': 138, 'mab': 138, 'enh': 138, 'jun': 138, 'oru': 137, 'wes': 137, 'gyn': 137, 'fia': 137, 'gun': 137, 'nba': 137, 'ulg': 137, 'nty': 136, 'ebl': 136, 'xan': 136, 'ulc': 136, 'wle': 136, 'tla': 136, 'elv': 136, 'toe': 136, 'inl': 135, 'oed': 135, 'iid': 135, 'amu': 135, 'pad': 135, 'dei': 135, 'aim': 135, 'ync': 135, 'ofi': 135, 'lpi': 134, 'yis': 134, 'elp': 134, 'cun': 134, 'tad': 134, 'osy': 133, 'rhy': 133, 'xes': 133, 'rox': 133, 'lci': 133, 'dst': 133, 'lfo': 133, 'gib': 133, 'omn': 133, 'erk': 133, 'ryl': 132, 'otu': 132, 'sav': 132, 'kha': 132, 'dag': 132, 'yse': 132, 'fet': 131, 'tsh': 131, 'kab': 131, 'isb': 131, 'oas': 131, 'deo': 131, 'bse': 131, 'agl': 131, 'urv': 131, 'iki': 131, 'oms': 131, 'nyl': 131, 'nri': 130, 'lfr': 130, 'adj': 130, 'lfe': 130, 'aig': 130, 'nsm': 130, 'wag': 130, 'lbo': 130, 'adl': 130, 'rfa': 130, 'eim': 130, 'nwo': 130, 'hak': 130, 'ckb': 129, 'ryt': 129, 'rfo': 129, 'ldo': 129, 'yni': 129, 'phu': 129, 'pru': 129, 'coh': 129, 'jur': 128, 'xid': 128, 'rfu': 128, 'nsl': 128, 'box': 128, 'reu': 128, 'niv': 128, 'bum': 128, 'xyl': 128, 'viv': 128, 'lch': 128, 'gha': 128, 'nav': 128, 'rey': 127, 'rok': 127, 'nef': 127, 'slu': 127, 'muc': 127, 'cow': 126, 'nju': 126, 'uge': 126, 'eup': 126, 'wid': 126, 'sod': 126, 'tae': 126, 'luo': 126, 'rcl': 126, 'dib': 126, 'rue': 125, 'uic': 125, 'dma': 125, 'lse': 125, 'zan': 125, 'bai': 125, 'ilv': 125, 'eir': 125, 'wha': 125, 'lge': 125, 'boi': 124, 'obu': 124, 'onh': 124, 'pau': 124, 'apu': 123, 'ucl': 123, 'dod': 123, 'wen': 123, 'joi': 123, 'anh': 123, 'oer': 123, 'afe': 123, 'lfd': 123, 'rbr': 123, 'igm': 123, 'arf': 122, 'xer': 122, 'inb': 122, 'who': 122, 'nwi': 122, 'hno': 122, 'quo': 122, 'usp': 122, 'lol': 121, 'cch': 121, 'sui': 121, 'asy': 121, 'iec': 120, 'hav': 120, 'aic': 120, 'enb': 120, 'boy': 120, 'cub': 120, 'uld': 120, 'pep': 120, 'tup': 119, 'rns': 119, 'egl': 119, 'oec': 119, 'rbl': 119, 'pog': 119, 'lsh': 119, 'urf': 119, 'yes': 119, 'tty': 119, 'poe': 118, 'gog': 118, 'nro': 118, 'bib': 118, 'dyl': 118, 'usk': 118, 'jus': 118, 'rug': 118, 'big': 118, 'ayi': 117, 'iap': 117, 'gom': 117, 'fam': 117, 'rex': 117, 'sof': 117, 'ifl': 117, 'cts': 117, 'aty': 117, 'nnu': 117, 'ypi': 116, 'isr': 116, 'awe': 116, 'hni': 116, 'hwa': 116, 'yso': 116, 'ntn': 116, 'acl': 116, 'enr': 116, 'lbu': 116, 'ilu': 116, 'roy': 116, 'inq': 116, 'ahe': 115, 'rwi': 115, 'deg': 115, 'gum': 115, 'izz': 115, 'mps': 115, 'exu': 115, 'aru': 114, 'llm': 114, 'sew': 114, 'owb': 114, 'gga': 114, 'lth': 114, 'stm': 114, 'gau': 114, 'owd': 114, 'teu': 114, 'liq': 114, 'ngh': 114, 'toa': 114, 'vig': 114, 'cib': 114, 'utu': 114, 'eke': 113, 'npl': 113, 'dum': 113, 'pso': 113, 'nua': 113, 'lal': 113, 'itl': 113, 'aet': 113, 'ubo': 113, 'nak': 113, 'uph': 112, 'xpl': 112, 'civ': 112, 'bad': 112, 'leh': 112, 'igl': 112, 'oka': 112, 'eki': 112, 'gme': 112, 'lga': 112, 'dhe': 112, 'eex': 112, 'ttr': 112, 'ynt': 112, 'pio': 111, 'dve': 111, 'sos': 111, 'oxa': 111, 'smu': 111, 'icy': 111, 'cqu': 111, 'ilk': 111, 'kir': 111, 'saw': 111, 'odl': 111, 'lld': 111, 'nmi': 111, 'uor': 111, 'gid': 111, 'nra': 111, 'rgr': 111, 'suf': 111, 'rmu': 110, 'gai': 110, 'dew': 110, 'siz': 110, 'nlo': 110, 'utb': 110, 'iin': 109, 'ibo': 108, 'ffr': 108, 'aza': 108, 'dwa': 108, 'rms': 108, 'myr': 108, 'hoa': 108, 'llp': 108, 'xen': 108, 'pub': 108, 'xed': 107, 'rgu': 107, 'rik': 107, 'laz': 107, 'gad': 107, 'wra': 107, 'mif': 107, 'uvi': 107, 'lak': 107, 'orh': 107, 'sas': 107, 'ubd': 106, 'mne': 106, 'mob': 106, 'awl': 106, 'thw': 106, 'utl': 106, 'isf': 106, 'lpa': 106, 'voi': 106, 'wir': 106, 'seb': 106, 'hti': 106, 'ipu': 106, 'atl': 106, 'fly': 106, 'liu': 106, 'ohy': 105, 'onj': 105, 'bui': 105, 'upa': 105, 'pow': 105, 'wre': 105, 'ubm': 105, 'etl': 105, 'aed': 104, 'zzl': 104, 'xia': 104, 'mau': 104, 'fco': 104, 'ryi': 104, 'sni': 104, 'stf': 104, 'dua': 104, 'gee': 104, 'axe': 103, 'ska': 103, 'lke': 103, 'giz': 103, 'ews': 103, 'zle': 103, 'amn': 103, 'lka': 103, 'cyl': 103, 'ifu': 103, 'teb': 103, 'you': 103, 'mov': 103, 'gyr': 103, 'iad': 103, 'deh': 103, 'onk': 103, 'req': 102, 'zie': 102, 'roh': 102, 'dup': 102, 'hif': 102, 'sog': 102, 'may': 102, 'mio': 102, 'bba': 102, 'hut': 102, 'yop': 101, 'rdr': 101, 'ika': 101, 'hyo': 101, 'dap': 101, 'ief': 101, 'hry': 101, 'wol': 100, 'kon': 100, 'lul': 100, 'heb': 100, 'itz': 100, 'kni': 100, 'ckn': 100, 'bef': 100, 'lki': 100, 'ims': 99, 'ecc': 99, 'lfu': 99, 'odr': 99, 'jan': 99, 'noe': 99, 'ubp': 99, 'yde': 99, 'bom': 99, 'kas': 99, 'loy': 98, 'loq': 98, 'dwi': 98, 'soo': 98, 'apy': 98, 'gho': 98, 'ckw': 98, 'acq': 98, 'six': 98, 'fau': 97, 'bje': 97, 'llw': 97, 'wro': 97, 'mle': 97, 'bso': 97, 'fab': 97, 'eod': 97, 'env': 97, 'urm': 97, 'epp': 97, 'ovo': 97, 'rix': 97, 'mys': 96, 'agm': 96, 'sey': 96, 'roz': 96, 'rej': 96, 'elb': 96, 'cec': 96, 'eic': 96, 'ilm': 95, 'tsi': 95, 'rfl': 95, 'hfu': 95, 'pst': 95, 'nks': 95, 'rym': 95, 'tbo': 95, 'mah': 95, 'rwe': 95, 'haf': 95, 'isd': 94, 'lui': 94, 'aux': 94, 'chs': 94, 'urk': 94, 'ofl': 94, 'dsh': 94, 'pab': 94, 'zyg': 94, 'enw': 94, 'oir': 94, 'mud': 94, 'iny': 94, 'pok': 94, 'exh': 93, 'eev': 93, 'stc': 93, 'tco': 93, 'noo': 93, 'ael': 93, 'ndb': 93, 'nsy': 93, 'isg': 93, 'sug': 93, 'xil': 93, 'oam': 92, 'aum': 92, 'ldr': 92, 'nzo': 92, 'ddy': 92, 'dgi': 92, 'dha': 92, 'hew': 92, 'nwe': 92, 'chw': 92, 'cae': 91, 'wli': 91, 'ffo': 91, 'emn': 91, 'mno': 91, 'oze': 91, 'fix': 91, 'ffs': 91, 'jug': 91, 'seq': 91, 'otc': 91, 'mok': 91, 'tuo': 91, 'pae': 91, 'lso': 91, 'ssy': 91, 'soa': 91, 'fon': 91, 'npu': 90, 'olf': 90, 'loe': 90, 'jou': 90, 'wig': 90, 'kst': 90, 'tef': 90, 'rqu': 90, 'mye': 90, 'utw': 90, 'psa': 90, 'ioi': 90, 'inw': 90, 'tof': 90, 'gut': 89, 'awk': 89, 'vei': 89, 'adh': 89, 'umu': 89, 'fug': 89, 'jar': 89, 'fti': 89, 'arw': 89, 'ffa': 89, 'sbe': 89, 'soi': 89, 'lah': 88, 'ixe': 88, 'vot': 88, 'hru': 88, 'bry': 88, 'llt': 88, 'ffu': 88, 'hbo': 88, 'hmi': 88, 'mna': 88, 'utp': 88, 'eiv': 88, 'ilb': 88, 'ckf': 88, 'mee': 88, 'tse': 88, 'elc': 88, 'goi': 87, 'hul': 87, 'lba': 87, 'ccl': 87, 'fem': 87, 'kra': 87, 'saf': 87, 'ayl': 86, 'gag': 86, 'seg': 86, 'kho': 86, 'ggr': 86, 'max': 86, 'lax': 86, 'uzz': 86, 'esb': 86, 'ndw': 86, 'zel': 86, 'sob': 86, 'vap': 86, 'ruf': 86, 'uve': 86, 'nka': 86, 'dwo': 86, 'lwo': 86, 'bsc': 86, 'pay': 86, 'hay': 86, 'omu': 86, 'ifa': 86, 'sbo': 86, 'ulm': 85, 'pno': 85, 'jer': 85, 'erj': 85, 'dju': 85, 'lfp': 85, 'fts': 85, 'rur': 85, 'bog': 85, 'mae': 85, 'aws': 85, 'oye': 85, 'cim': 85, 'dex': 85, 'deu': 85, 'rpu': 85, 'rnu': 85, 'cof': 85, 'wif': 85, 'idy': 84, 'cai': 84, 'xpo': 84, 'thf': 84, 'ubu': 84, 'ysa': 84, 'bco': 84, 'lug': 84, 'nsf': 84, 'wns': 84, 'dau': 84, 'gst': 84, 'kma': 84, 'oha': 84, 'moe': 84, 'dho': 84, 'maz': 83, 'kia': 83, 'tba': 83, 'lyi': 83, 'ymb': 83, 'hya': 83, 'uie': 83, 'eez': 82, 'oak': 82, 'eft': 82, 'oho': 82, 'ugu': 82, 'sef': 82, 'fav': 82, 'doi': 82, 'xio': 82, 'aho': 82, 'eju': 82, 'bud': 82, 'wak': 82, 'tso': 82, 'bob': 82, 'nsw': 82, 'say': 81, 'ypa': 81, 'dox': 81, 'odg': 81, 'ywo': 81, 'tiu': 81, 'abd': 81, 'mum': 81, 'egm': 81, 'giv': 81, 'tav': 81, 'nbl': 81, 'tah': 80, 'mix': 80, 'myt': 80, 'jam': 80, 'tfi': 80, 'tok': 80, 'ryg': 80, 'yot': 80, 'utf': 80, 'atm': 80, 'lsa': 80, 'idn': 80, 'eze': 80, 'tfo': 80, 'irk': 80, 'ohi': 80, 'nhi': 80, 'ugi': 80, 'cko': 79, 'taf': 79, 'beh': 79, 'ucu': 79, 'rax': 79, 'doe': 79, 'nhu': 79, 'sys': 79, 'xon': 79, 'tex': 79, 'oxe': 79, 'llh': 79, 'awi': 79, 'rcr': 79, 'olk': 79, 'yca': 79, 'pup': 79, 'map': 79, 'iru': 79, 'thn': 79, 'won': 79, 'haz': 79, 'rya': 78, 'lya': 78, 'ahs': 78, 'ksh': 78, 'doa': 78, 'wab': 78, 'yea': 78, 'hyg': 78, 'oks': 78, 'zoa': 78, 'stp': 78, 'orw': 78, 'uke': 78, 'nir': 78, 'tym': 78, 'yos': 77, 'kam': 77, 'otl': 77, 'ymn': 77, 'rsc': 77, 'zol': 77, 'rii': 77, 'nsk': 77, 'lux': 77, 'xce': 77, 'orf': 77, 'bak': 77, 'iew': 77, 'dmo': 77, 'cyn': 77, 'bau': 76, 'xal': 76, 'yps': 76, 'kla': 76, 'hev': 76, 'bug': 76, 'tmo': 76, 'axo': 76, 'pav': 76, 'lcu': 76, 'dda': 76, 'tpr': 76, 'ghi': 76, 'kol': 76, 'ndf': 76, 'llr': 76, 'idr': 76, 'ckh': 76, 'ply': 76, 'ygi': 76, 'oys': 76, 'bif': 76, 'nyc': 76, 'vea': 75, 'bem': 75, 'lpe': 75, 'lty': 75, 'ngb': 75, 'eeb': 75, 'ckm': 75, 'lyz': 75, 'ynd': 75, 'sba': 75, 'ofa': 75, 'rvo': 75, 'gto': 75, 'yge': 75, 'fum': 74, 'unu': 74, 'owt': 74, 'dbo': 74, 'nze': 74, 'onw': 74, 'tsp': 74, 'ixi': 74, 'zoi': 74, 'ypr': 74, 'dme': 74, 'dob': 73, 'hiv': 73, 'tbr': 73, 'cly': 73, 'vem': 73, 'chb': 73, 'vad': 73, 'tew': 73, 'nik': 73, 'uam': 73, 'iur': 72, 'bew': 72, 'icc': 72, 'ckt': 72, 'nya': 72, 'shy': 72, 'kwa': 72, 'ceb': 72, 'kor': 72, 'aub': 72, 'yba': 72, 'nib': 72, 'hmo': 71, 'ogs': 71, 'tui': 71, 'olp': 71, 'tuc': 71, 'xim': 71, 'ags': 71, 'heu': 71, 'dwe': 71, 'mst': 71, 'sfo': 71, 'dvi': 71, 'iae': 71, 'aym': 71, 'gig': 71, 'shb': 71, 'aby': 71, 'ngw': 71, 'usu': 70, 'ttu': 70, 'lyg': 70, 'eob': 70, 'bdo': 70, 'iaz': 70, 'lfl': 70, 'lbi': 70, 'cne': 70, 'oko': 70, 'cyp': 70, 'bsi': 70, 'luv': 70, 'hla': 70, 'ybo': 70, 'mli': 70, 'azz': 69, 'rgl': 69, 'eef': 69, 'etw': 69, 'sre': 69, 'boc': 69, 'ckp': 69, 'taw': 69, 'lup': 69, 'ako': 69, 'vey': 69, 'hwo': 69, 'esk': 69, 'lha': 69, 'rek': 69, 'aec': 69, 'stn': 69, 'ypn': 68, 'ulv': 68, 'ysh': 68, 'isy': 68, 'uee': 68, 'npi': 68, 'dov': 68, 'bby': 68, 'umn': 68, 'tsa': 68, 'duo': 68, 'ybe': 67, 'tfa': 67, 'gop': 67, 'owc': 67, 'kto': 67, 'dad': 67, 'owm': 67, 'ydo': 67, 'tts': 67, 'nah': 67, 'von': 67, 'cky': 67, 'dso': 67, 'njo': 67, 'ybr': 67, 'anz': 67, 'lts': 67, 'ssm': 66, 'giu': 66, 'hov': 66, 'xpr': 66, 'eei': 66, 'nza': 66, 'ayo': 66, 'rkl': 66, 'lll': 66, 'agh': 66, 'dfa': 66, 'pei': 66, 'ems': 66, 'bay': 66, 'nof': 66, 'fad': 66, 'htl': 66, 'kro': 65, 'yda': 65, 'fei': 65, 'gae': 65, 'wad': 65, 'kim': 65, 'tsc': 65, 'edb': 65, 'ehy': 65, 'nsv': 65, 'wie': 65, 'anf': 65, 'zym': 65, 'ndm': 65, 'sfi': 65, 'eea': 65, 'ntw': 65, 'syr': 64, 'irg': 64, 'xat': 64, 'goa': 64, 'feu': 64, 'dfi': 64, 'ulk': 64, 'dbe': 64, 'bte': 64, 'cef': 64, 'mei': 64, 'uty': 64, 'unj': 64, 'tuf': 64, 'rgy': 64, 'ytr': 64, 'bbo': 64, 'hug': 64, 'ghs': 64, 'wni': 64, 'cui': 64, 'fos': 64, 'eje': 64, 'fut': 64, 'vai': 64, 'hua': 63, 'pik': 63, 'aks': 63, 'afi': 63, 'dlo': 63, 'tsm': 63, 'nbi': 63, 'uab': 63, 'meo': 63, 'lir': 63, 'nmu': 63, 'yac': 63, 'rdu': 63, 'kai': 63, 'wav': 63, 'eun': 63, 'obt': 63, 'cag': 63, 'iko': 62, 'stb': 62, 'ieg': 62, 'goe': 62, 'obj': 62, 'jes': 62, 'peo': 62, 'oog': 62, 'ecy': 62, 'oem': 62, 'gov': 62, 'kad': 62, 'eio': 62, 'kwo': 62, 'xam': 62, 'gob': 62, 'afr': 62, 'khe': 62, 'ndh': 62, 'lwa': 62, 'ssh': 62, 'enm': 62, 'pum': 61, 'yol': 61, 'lyb': 61, 'yhe': 61, 'ppy': 61, 'xti': 61, 'pim': 61, 'neq': 61, 'hyn': 61, 'jor': 61, 'tze': 61, 'yab': 61, 'eia': 61, 'myl': 61, 'dba': 61, 'dco': 61, 'xci': 61, 'ehu': 61, 'iob': 61, 'seh': 61, 'vec': 61, 'oea': 60, 'ngf': 60, 'foc': 60, 'cee': 60, 'pyl': 60, 'gap': 60, 'ggy': 60, 'sue': 60, 'ygr': 60, 'rtm': 60, 'eof': 60, 'pud': 60, 'uai': 60, 'yta': 60, 'tys': 60, 'ysp': 60, 'lhe': 60, 'psh': 60, 'tay': 60, 'ooc': 60, 'sda': 60, 'lgo': 60, 'inm': 59, 'inj': 59, 'kul': 59, 'ixt': 59, 'htf': 59, 'aup': 59, 'itm': 59, 'lho': 59, 'tyc': 59, 'yas': 59, 'gym': 59, 'agy': 59, 'ahi': 59, 'peg': 59, 'egn': 59, 'kly': 59, 'stw': 59, 'ywa': 59, 'miu': 59, 'dfo': 59, 'tca': 59, 'dah': 59, 'esl': 59, 'xpa': 59, 'gaz': 59, 'joy': 59, 'uip': 59, 'fde': 59, 'psu': 58, 'ciu': 58, 'uds': 58, 'bap': 58, 'toz': 58, 'kri': 58, 'ddo': 58, 'edy': 58, 'ghb': 58, 'ihe': 58, 'zzi': 58, 'nox': 58, 'xit': 58, 'pug': 58, 'zot': 58, 'ryc': 58, 'pam': 58, 'acs': 58, 'eif': 58, 'nru': 58, 'ubj': 58, 'hok': 58, 'olm': 58, 'oum': 57, 'imn': 57, 'ehi': 57, 'ejo': 57, 'esy': 57, 'ndp': 57, 'owh': 57, 'dse': 57, 'eya': 57, 'lpo': 57, 'ewh': 57, 'sht': 57, 'rka': 57, 'lof': 57, 'lyo': 57, 'rdy': 57, 'ucr': 57, 'sde': 57, 'ayn': 57, 'ueb': 57, 'ulb': 56, 'tbe': 56, 'kna': 56, 'snu': 56, 'owf': 56, 'wou': 56, 'lce': 56, 'ofo': 56, 'oap': 56, 'sfu': 56, 'cak': 56, 'yho': 56, 'uea': 56, 'yfi': 56, 'ayb': 56, 'due': 56, 'ajo': 56, 'xac': 56, 'lua': 56, 'aml': 56, 'vau': 55, 'rua': 55, 'kur': 55, 'nhy': 55, 'vib': 55, 'bei': 55, 'heg': 55, 'yga': 55, 'utg': 55, 'lyr': 55, 'foi': 55, 'naw': 55, 'hyc': 55, 'tlo': 55, 'edf': 55, 'kid': 55, 'sgr': 55, 'yci': 55, 'toh': 55, 'tsu': 55, 'bam': 55, 'ssb': 55, 'unq': 55, 'dub': 54, 'lff': 54, 'uac': 54, 'wet': 54, 'oag': 54, 'uso': 54, 'fog': 54, 'nub': 54, 'btr': 54, 'kag': 54, 'adw': 54, 'ssf': 54, 'bde': 54, 'icn': 54, 'atf': 54, 'sak': 54, 'xcu': 54, 'kos': 54, 'wax': 54, 'hiu': 54, 'oxo': 54, 'dla': 54, 'sii': 54, 'jol': 54, 'gei': 54, 'cym': 54, 'inp': 54, 'zor': 53, 'paw': 53, 'buf': 53, 'thb': 53, 'nky': 53, 'ewr': 53, 'axa': 53, 'yat': 53, 'oeb': 53, 'dyi': 53, 'naf': 53, 'huc': 53, 'dsp': 53, 'anq': 53, 'oyi': 53, 'avy': 53, 'dav': 53, 'hto': 53, 'ctl': 53, 'jum': 53, 'uot': 53, 'olc': 53, 'kyl': 52, 'tov': 52, 'lyl': 52, 'gyp': 52, 'ozi': 52, 'esw': 52, 'gbo': 52, 'hta': 52, 'sut': 52, 'arh': 52, 'dva': 52, 'anb': 52, 'hik': 52, 'ntm': 52, 'omf': 52, 'kem': 52, 'tpa': 52, 'nje': 52, 'phs': 52, 'ugl': 52, 'shw': 52, 'joh': 52, 'ohn': 52, 'cuc': 52, 'noa': 52, 'yvi': 52, 'tgr': 52, 'pty': 52, 'dym': 51, 'sst': 51, 'pma': 51, 'lwi': 51, 'ptr': 51, 'kea': 51, 'eja': 51, 'sov': 51, 'geb': 51, 'dbr': 51, 'eyi': 51, 'pyo': 51, 'ebb': 51, 'lro': 51, 'tpo': 51, 'hue': 51, 'raa': 51, 'tzi': 51, 'ssp': 51, 'dca': 51, 'nry': 51, 'ymm': 51, 'aor': 51, 'mpy': 51, 'moh': 51, 'wam': 51, 'rfr': 51, 'sud': 51, 'nue': 50, 'nja': 50, 'esv': 50, 'ezi': 50, 'hey': 50, 'ioe': 50, 'aik': 50, 'adb': 50, 'dye': 50, 'yen': 50, 'lks': 50, 'ooi': 50, 'myx': 50, 'sku': 50, 'lbr': 50, 'ilf': 50, 'ldf': 50, 'jew': 50, 'mew': 50, 'jet': 50, 'aja': 50, 'uag': 50, 'bdi': 50, 'ubf': 50, 'lpr': 50, 'bip': 50, 'syp': 50, 'rao': 50, 'seo': 50, 'uiv': 49, 'jaw': 49, 'ckr': 49, 'yls': 49, 'jon': 49, 'yom': 49, 'osl': 49, 'tsw': 49, 'veg': 49, 'nzi': 49, 'jin': 49, 'ldw': 49, 'bah': 49, 'osk': 49, 'wde': 49, 'kop': 49, 'scy': 49, 'msh': 49, 'tth': 49, 'xem': 49, 'zil': 49, 'mmy': 49, 'rnm': 49, 'ldl': 49, 'pif': 49, 'mse': 49, 'zop': 49, 'nlu': 49, 'fox': 49, 'gwo': 49, 'gef': 48, 'wbe': 48, 'ngy': 48, 'xec': 48, 'hco': 48, 'gmo': 48, 'fiv': 48, 'nwr': 48, 'sfe': 48, 'pex': 48, 'igs': 48, 'rsl': 48, 'lre': 48, 'siu': 48, 'uki': 48, 'wma': 48, 'gay': 48, 'hub': 48, 'maj': 48, 'elw': 48, 'kbo': 48, 'chp': 48, 'bdu': 47, 'sow': 47, 'kou': 47, 'yog': 47, 'utd': 47, 'uia': 47, 'onz': 47, 'xha': 47, 'kep': 47, 'llg': 47, 'zia': 47, 'bae': 47, 'irb': 47, 'tmi': 47, 'oep': 47, 'yha': 47, 'oww': 47, 'bim': 47, 'atb': 47, 'yfa': 47, 'dsi': 47, 'bub': 47, 'rmy': 47, 'eka': 47, 'hwe': 47, 'ngm': 47, 'vip': 47, 'rgh': 47, 'fth': 47, 'xto': 47, 'rtw': 47, 'tcr': 47, 'ldb': 47, 'iah': 47, 'adn': 46, 'ooz': 46, 'ekn': 46, 'cew': 46, 'dfu': 46, 'caf': 46, 'wse': 46, 'afo': 46, 'yfo': 46, 'goc': 46, 'cud': 46, 'zal': 46, 'owp': 46, 'xtu': 46, 'kew': 46, 'tbl': 46, 'mug': 46, 'mih': 46, 'uxi': 46, 'yam': 46, 'roj': 46, 'xor': 46, 'nuf': 46, 'eug': 46, 'peu': 46, 'adf': 46, 'akh': 46, 'gim': 46, 'ndt': 46, 'ieu': 46, 'tyf': 46, 'yoc': 45, 'tik': 45, 'ubv': 45, 'byt': 45, 'chc': 45, 'rct': 45, 'zza': 45, 'viz': 45, 'irn': 45, 'yak': 45, 'gth': 45, 'iha': 45, 'yod': 45, 'naz': 45, 'lfb': 45, 'ahu': 45, 'kum': 45, 'iry': 45, 'ayf': 45, 'enp': 45, 'hba': 45, 'aia': 45, 'dsm': 45, 'meb': 45, 'nud': 45, 'xua': 45, 'yss': 45, 'ssw': 45, 'ppu': 45, 'cah': 44, 'yct': 44, 'keb': 44, 'dik': 44, 'anj': 44, 'kre': 44, 'lft': 44, 'vow': 44, 'yrr': 44, 'iya': 44, 'xie': 44, 'irp': 44, 'bha': 44, 'hna': 44, 'edw': 44, 'tga': 44, 'yze': 44, 'mcc': 44, 'ywi': 44, 'sko': 44, 'ofu': 44, 'ndc': 44, 'ooe': 44, 'wsh': 44, 'lln': 44, 'jap': 44, 'ihi': 44, 'mbs': 44, 'vok': 44, 'upo': 44, 'ugo': 44, 'zze': 44, 'eaw': 44, 'sra': 44, 'upb': 44, 'daw': 44, 'anv': 44, 'iem': 44, 'nph': 44, 'rps': 43, 'euk': 43, 'ayw': 43, 'rtn': 43, 'upu': 43, 'kip': 43, 'eiz': 43, 'yet': 43, 'mfo': 43, 'rsm': 43, 'biu': 43, 'exs': 43, 'kah': 43, 'jas': 43, 'ryb': 43, 'oje': 43, 'fev': 43, 'gew': 43, 'yor': 43, 'gow': 43, 'ahm': 43, 'etm': 43, 'joc': 43, 'ngd': 43, 'cua': 43, 'mso': 42, 'sax': 42, 'rsk': 42, 'ddr': 42, 'pts': 42, 'sby': 42, 'rdb': 42, 'enk': 42, 'ogm': 42, 'pme': 42, 'tdo': 42, 'oua': 42, 'etb': 42, 'xos': 42, 'gav': 42, 'kot': 42, 'bop': 42, 'ffy': 42, 'nuo': 42, 'adg': 42, 'lpl': 42, 'utm': 42, 'elk': 42, 'chf': 42, 'dof': 42, 'ckc': 42, 'uod': 42, 'mib': 42, 'sve': 42, 'gsh': 42, 'ghl': 42, 'klo': 42, 'dth': 42, 'aal': 42, 'pyg': 42, 'afa': 42, 'emy': 42, 'byr': 42, 'hsh': 42, 'lyd': 42, 'oyl': 42, 'wov': 41, 'bne': 41, 'tge': 41, 'jag': 41, 'pew': 41, 'yxo': 41, 'tdr': 41, 'xco': 41, 'eul': 41, 'bep': 41, 'fag': 41, 'tey': 41, 'ldc': 41, 'bys': 41, 'loh': 41, 'tyn': 41, 'bme': 41, 'onq': 41, 'rhu': 41, 'ioa': 41, 'nui': 41, 'elg': 41, 'uef': 41, 'awb': 41, 'sfa': 41, 'ysm': 41, 'tih': 41, 'rnt': 41, 'gdo': 41, 'edh': 41, 'nsb': 41, 'tbu': 40, 'jos': 40, 'ngp': 40, 'oie': 40, 'web': 40, 'arq': 40, 'lgr': 40, 'rdm': 40, 'gwa': 40, 'alw': 40, 'ilc': 40, 'odw': 40, 'cay': 40, 'lox': 40, 'koo': 40, 'etf': 40, 'rye': 40, 'tfl': 40, 'mro': 40, 'owr': 40, 'xag': 40, 'zem': 40, 'fdi': 40, 'dpa': 40, 'inr': 40, 'fty': 40, 'edm': 40, 'itn': 40, 'wau': 40, 'sgu': 40, 'xur': 40, 'kfi': 40, 'orv': 40, 'egy': 40, 'yly': 39, 'ccr': 39, 'aeg': 39, 'aku': 39, 'isn': 39, 'nkn': 39, 'gac': 39, 'ugn': 39, 'kun': 39, 'ndn': 39, 'aar': 39, 'boe': 39, 'hst': 39, 'yfl': 39, 'odh': 39, 'lfw': 39, 'ihy': 39, 'puc': 39, 'zea': 39, 'kic': 39, 'enj': 39, 'tev': 39, 'eoi': 39, 'uml': 39, 'yfu': 39, 'rnl': 39, 'oei': 39, 'hty': 39, 'moa': 39, 'hbe': 39, 'tii': 39, 'ybu': 39, 'pem': 39, 'jen': 39, 'neh': 38, 'fta': 38, 'bve': 38, 'otb': 38, 'lfh': 38, 'bev': 38, 'ilg': 38, 'oau': 38, 'lfm': 38, 'thc': 38, 'ssc': 38, 'ynn': 38, 'opm': 38, 'fma': 38, 'oui': 38, 'lyw': 38, 'lwe': 38, 'lky': 38, 'thd': 38, 'dbu': 38, 'ozy': 38, 'hhe': 38, 'pwa': 38, 'zam': 38, 'ydi': 38, 'ogh': 38, 'tiq': 38, 'bey': 38, 'isq': 38, 'ubg': 38, 'lye': 37, 'hud': 37, 'ixa': 37, 'rtf': 37, 'cox': 37, 'fex': 37, 'oeo': 37, 'tcl': 37, 'awf': 37, 'wth': 37, 'xop': 37, 'nay': 37, 'etz': 37, 'ouv': 37, 'xcl': 37, 'dgr': 37, 'lms': 37, 'coy': 37, 'bov': 37, 'hef': 37, 'kwi': 37, 'xot': 37, 'gif': 37, 'kom': 37, 'wst': 37, 'eey': 37, 'raj': 37, 'cue': 37, 'zit': 37, 'dii': 37, 'rsw': 37, 'gmi': 37, 'azu': 37, 'hwi': 37, 'oov': 37, 'imy': 37, 'sae': 37, 'nup': 37, 'rsv': 37, 'dhi': 37, 'shf': 36, 'fpr': 36, 'uka': 36, 'ieb': 36, 'tvi': 36, 'hof': 36, 'anm': 36, 'elh': 36, 'chd': 36, 'ofr': 36, 'mii': 36, 'bju': 36, 'vex': 36, 'luf': 36, 'nsn': 36, 'piu': 36, 'aeu': 36, 'ilw': 36, 'wbo': 36, 'bbr': 36, 'veh': 36, 'uko': 36, 'rnb': 36, 'anw': 36, 'rml': 36, 'upc': 36, 'sdo': 36, 'rdn': 36, 'byl': 36, 'rpt': 36, 'rdw': 36, 'atn': 36, 'laf': 36, 'boh': 36, 'pbo': 36, 'bma': 36, 'ezz': 36, 'hch': 35, 'nys': 35, 'lix': 35, 'jul': 35, 'nyi': 35, 'otm': 35, 'ndg': 35, 'abn': 35, 'lsu': 35, 'eew': 35, 'hbr': 35, 'aei': 35, 'ipy': 35, 'kfu': 35, 'lyf': 35, 'rls': 35, 'htw': 35, 'iwa': 35, 'veo': 35, 'asq': 35, 'rko': 35, 'fif': 35, 'rir': 35, 'zzo': 35, 'ahl': 35, 'ngc': 35, 'auk': 35, 'jig': 35, 'alr': 35, 'itf': 35, 'kta': 35, 'std': 35, 'ilp': 35, 'ilh': 35, 'oue': 35, 'beb': 35, 'fsu': 35, 'toy': 35, 'tsk': 35, 'ohu': 35, 'adc': 35, 'jel': 35, 'ybl': 35, 'dna': 35, 'otw': 35, 'afl': 35, 'ysc': 35, 'opn': 35, 'tue': 35, 'teh': 35, 'asl': 35, 'gec': 34, 'kov': 34, 'kup': 34, 'gba': 34, 'rlu': 34, 'azy': 34, 'nax': 34, 'uos': 34, 'kok': 34, 'cuo': 34, 'yoi': 34, 'vom': 34, 'hho': 34, 'uze': 34, 'uiz': 34, 'iau': 34, 'atw': 34, 'uxe': 34, 'iks': 34, 'pah': 34, 'ouk': 34, 'ayt': 34, 'oob': 34, 'mef': 34, 'udl': 34, 'tyt': 34, 'kso': 34, 'gey': 34, 'gda': 34, 'rtz': 34, 'awd': 34, 'hpo': 34, 'hso': 34, 'bye': 34, 'lyh': 34, 'rih': 34, 'ntg': 34, 'esn': 34, 'gwe': 34, 'bmi': 34, 'ddu': 34, 'awo': 34, 'sro': 33, 'aiv': 33, 'feb': 33, 'yok': 33, 'oyo': 33, 'wac': 33, 'woe': 33, 'eyn': 33, 'oza': 33, 'okl': 33, 'vam': 33, 'mvi': 33, 'zos': 33, 'isw': 33, 'shc': 33, 'oex': 33, 'lii': 33, 'zeb': 33, 'kme': 33, 'adt': 33, 'chh': 33, 'kei': 33, 'auf': 33, 'eyl': 33, 'aio': 33, 'ubh': 33, 'wim': 33, 'voy': 33, 'hyb': 33, 'lri': 33, 'piz': 33, 'oku': 33, 'xyg': 33, 'anp': 33, 'rju': 32, 'amf': 32, 'soe': 32, 'xhi': 32, 'noh': 32, 'rja': 32, 'ylu': 32, 'bno': 32, 'erz': 32, 'sah': 32, 'tna': 32, 'hah': 32, 'uak': 32, 'iex': 32, 'kef': 32, 'ctn': 32, 'huf': 32, 'jai': 32, 'tya': 32, 'kba': 32, 'wwo': 32, 'veb': 32, 'xip': 32, 'ryf': 32, 'rze': 32, 'dfl': 32, 'ugs': 32, 'dch': 32, 'odb': 32, 'wba': 32, 'ewl': 32, 'ufo': 32, 'umf': 32, 'elr': 32, 'kaw': 32, 'nzy': 32, 'lok': 32, 'yie': 32, 'pwo': 32, 'iho': 32, 'daz': 32, 'ozz': 32, 'luk': 32, 'edt': 32, 'sks': 32, 'ksp': 32, 'kbi': 31, 'oml': 31, 'ndd': 31, 'vee': 31, 'ifr': 31, 'dpr': 31, 'lmu': 31, 'ouf': 31, 'stt': 31, 'dui': 31, 'ksi': 31, 'erq': 31, 'pef': 31, 'hfi': 31, 'dpi': 31, 'usy': 31, 'knu': 31, 'apn': 31, 'bta': 31, 'iml': 31, 'mly': 31, 'job': 31, 'ksm': 31, 'tfe': 31, 'edc': 31, 'ldn': 31, 'eoa': 31, 'yur': 31, 'gbe': 31, 'nih': 31, 'uem': 31, 'rwh': 31, 'jea': 31, 'aje': 31, 'exy': 31, 'eeh': 31, 'eeg': 31, 'mez': 31, 'wnl': 31, 'oig': 31, 'zur': 31, 'jut': 31, 'nii': 31, 'kpo': 31, 'kbe': 31, 'fuc': 31, 'ezo': 30, 'mik': 30, 'ija': 30, 'geh': 30, 'biv': 30, 'fto': 30, 'yah': 30, 'tyi': 30, 'sbi': 30, 'ahy': 30, 'ihu': 30, 'htm': 30, 'fow': 30, 'bho': 30, 'gfi': 30, 'eux': 30, 'ghf': 30, 'rny': 30, 'zom': 30, 'rcy': 30, 'nko': 30, 'kap': 30, 'kse': 30, 'ldm': 30, 'doh': 30, 'bca': 30, 'hbu': 30, 'dbi': 30, 'esd': 30, 'dbl': 30, 'gaw': 30, 'etn': 30, 'wbr': 30, 'isj': 30, 'rnf': 30, 'ggo': 30, 'owo': 30, 'vif': 30, 'dpo': 30, 'yaw': 30, 'ryw': 30, 'yag': 30, 'htr': 30, 'ntf': 30, 'fim': 30, 'pco': 30, 'iun': 30, 'htb': 30, 'sdi': 29, 'anr': 29, 'myi': 29, 'gry': 29, 'baw': 29, 'rdf': 29, 'nvu': 29, 'ipm': 29, 'pyc': 29, 'mep': 29, 'aiz': 29, 'ybi': 29, 'foa': 29, 'lsp': 29, 'dut': 29, 'buk': 29, 'olb': 29, 'eym': 29, 'oby': 29, 'aan': 29, 'xpi': 29, 'pyt': 29, 'amr': 29, 'mby': 29, 'cyr': 29, 'hui': 29, 'ylv': 29, 'roq': 29, 'fst': 29, 'ngg': 29, 'ufa': 29, 'cey': 29, 'shp': 29, 'wap': 29, 'myd': 29, 'vos': 29, 'msi': 29, 'juv': 29, 'mey': 29, 'bek': 29, 'lgu': 29, 'lek': 29, 'thp': 29, 'xta': 29, 'kya': 29, 'dey': 29, 'ayd': 29, 'tbi': 29, 'tyo': 29, 'tyb': 29, 'iov': 29, 'tsy': 29, 'utz': 29, 'lbl': 29, 'pey': 29, 'kfa': 29, 'uny': 29, 'dti': 29, 'umv': 29, 'rez': 28, 'bsu': 28, 'wto': 28, 'eza': 28, 'ldu': 28, 'atz': 28, 'ceu': 28, 'zet': 28, 'ghh': 28, 'eml': 28, 'raq': 28, 'zli': 28, 'vsk': 28, 'euv': 28, 'zir': 28, 'fsh': 28, 'rtb': 28, 'uva': 28, 'nwh': 28, 'hsi': 28, 'sva': 28, 'rtc': 28, 'wah': 28, 'asb': 28, 'kwe': 28, 'hdr': 28, 'xcr': 28, 'eyb': 28, 'daf': 28, 'bpr': 28, 'aji': 28, 'pye': 28, 'wme': 28, 'xoc': 28, 'wfu': 28, 'yza': 28, 'nkf': 28, 'dta': 28, 'htn': 28, 'sss': 28, 'hpr': 28, 'bok': 28, 'inx': 27, 'kay': 27, 'dga': 27, 'ceg': 27, 'yad': 27, 'ibs': 27, 'eoe': 27, 'oio': 27, 'baz': 27, 'dsc': 27, 'iox': 27, 'shs': 27, 'rsy': 27, 'pox': 27, 'gwi': 27, 'zio': 27, 'ryd': 27, 'nkt': 27, 'yke': 27, 'ewt': 27, 'oim': 27, 'mfu': 27, 'cev': 27, 'waf': 27, 'uqu': 27, 'btl': 27, 'doz': 27, 'iwi': 27, 'dek': 27, 'uav': 27, 'rkh': 27, 'zee': 27, 'dak': 27, 'akt': 27, 'lpu': 27, 'noy': 27, 'pbe': 27, 'uif': 27, 'dhu': 27, 'ixo': 27, 'ewd': 27, 'wco': 27, 'bti': 27, 'ubn': 27, 'axy': 27, 'ldh': 27, 'mya': 27, 'kru': 27, 'udy': 27, 'ckd': 27, 'bez': 26, 'tpi': 26, 'agb': 26, 'cno': 26, 'pfu': 26, 'stg': 26, 'ftl': 26, 'nug': 26, 'biz': 26, 'twr': 26, 'loz': 26, 'uay': 26, 'yit': 26, 'ehr': 26, 'wob': 26, 'iak': 26, 'mco': 26, 'evu': 26, 'rwr': 26, 'oja': 26, 'odc': 26, 'dcu': 26, 'aam': 26, 'lra': 26, 'xod': 26, 'jab': 26, 'ewb': 26, 'cig': 26, 'yrt': 26, 'hup': 26, 'jay': 26, 'ygm': 26, 'dcr': 26, 'rdc': 26, 'riq': 26, 'koi': 26, 'eyd': 26, 'hfa': 26, 'dto': 26, 'cuf': 26, 'xle': 26, 'puf': 26, 'otp': 26, 'jub': 26, 'aky': 26, 'uxu': 26, 'hox': 26, 'wos': 26, 'kke': 26, 'shk': 25, 'pue': 25, 'akl': 25, 'ecs': 25, 'kib': 25, 'wdr': 25, 'eip': 25, 'oky': 25, 'oeu': 25, 'odm': 25, 'zim': 25, 'dno': 25, 'dje': 25, 'geu': 25, 'kak': 25, 'coz': 25, 'wry': 25, 'vre': 25, 'owy': 25, 'eik': 25, 'efs': 25, 'aju': 25, 'idw': 25, 'uxo': 25, 'kti': 25, 'usb': 25, 'kka': 25, 'uly': 25, 'irw': 25, 'pry': 25, 'obv': 25, 'poa': 25, 'eks': 25, 'rdh': 25, 'nss': 25, 'dya': 25, 'owg': 25, 'rje': 25, 'uku': 25, 'udr': 25, 'ghm': 25, 'lvo': 25, 'ofs': 25, 'odf': 25, 'lfg': 25, 'dja': 25, 'ceh': 25, 'cni': 25, 'xol': 25, 'eyf': 25, 'tpl': 25, 'hye': 25, 'dyb': 24, 'vro': 24, 'jah': 24, 'jim': 24, 'tda': 24, 'wke': 24, 'llv': 24, 'oab': 24, 'ygl': 24, 'dud': 24, 'ogb': 24, 'eaz': 24, 'fop': 24, 'ltz': 24, 'xog': 24, 'wso': 24, 'xpu': 24, 'feo': 24, 'ldd': 24, 'dih': 24, 'oia': 24, 'jal': 24, 'tye': 24, 'awr': 24, 'yru': 24, 'eah': 24, 'pak': 24, 'gep': 24, 'hek': 24, 'dvo': 24, 'cku': 24, 'tek': 24, 'rtg': 24, 'kus': 24, 'nye': 24, 'iln': 24, 'peb': 24, 'wls': 24, 'ksa': 24, 'lao': 24, 'eov': 24, 'duk': 24, 'yrm': 24, 'lcr': 24, 'uec': 24, 'pbr': 24, 'tpu': 24, 'tza': 24, 'utn': 24, 'uoi': 24, 'zap': 24, 'oax': 24, 'btu': 24, 'klu': 24, 'kbr': 24, 'msc': 24, 'ayc': 24, 'ysu': 24, 'muf': 24, 'tht': 24, 'niq': 24, 'wip': 24, 'wof': 24, 'xca': 24, 'mla': 23, 'yem': 23, 'wki': 23, 'etp': 23, 'cyg': 23, 'jau': 23, 'olg': 23, 'lpt': 23, 'xas': 23, 'mho': 23, 'uft': 23, 'ycn': 23, 'tsv': 23, 'wur': 23, 'abj': 23, 'wiv': 23, 'umd': 23, 'epy': 23, 'iep': 23, 'jee': 23, 'lcy': 23, 'keh': 23, 'sik': 23, 'bvi': 23, 'pki': 23, 'ojo': 23, 'ftw': 23, 'upw': 23, 'ctf': 23, 'uib': 23, 'nkh': 23, 'sbr': 23, 'xys': 23, 'zoc': 23, 'ccy': 23, 'sek': 23, 'aon': 23, 'ltl': 23, 'gfu': 23, 'ptl': 23, 'tug': 23, 'gti': 23, 'dcl': 23, 'ewn': 23, 'lih': 23, 'fne': 23, 'ovu': 23, 'pob': 23, 'sox': 23, 'rdt': 23, 'wla': 23, 'lvu': 23, 'hpa': 23, 'sga': 23, 'ycr': 22, 'xib': 22, 'egs': 22, 'moz': 22, 'vog': 22, 'eyw': 22, 'gyl': 22, 'maw': 22, 'wfi': 22, 'awt': 22, 'aue': 22, 'tsl': 22, 'sih': 22, 'wsi': 22, 'hse': 22, 'awh': 22, 'abh': 22, 'ipn': 22, 'ugm': 22, 'lsb': 22, 'rtt': 22, 'itb': 22, 'isv': 22, 'nyw': 22, 'ycu': 22, 'zas': 22, 'uvr': 22, 'rkm': 22, 'irv': 22, 'jib': 22, 'awm': 22, 'nyb': 22, 'akr': 22, 'dyt': 22, 'wsp': 22, 'bcl': 22, 'kow': 22, 'ldt': 22, 'dfe': 22, 'wye': 22, 'eox': 22, 'pez': 22, 'hoy': 22, 'gof': 22, 'pov': 22, 'nck': 22, 'tni': 22, 'gnm': 22, 'adp': 22, 'htc': 22, 'koe': 22, 'coq': 22, 'pth': 22, 'dsw': 22, 'tno': 22, 'khi': 22, 'kpi': 22, 'hde': 22, 'wnt': 22, 'auv': 22, 'wyn': 22, 'ohm': 22, 'kfo': 22, 'gta': 22, 'ngk': 22, 'ymy': 22, 'xyc': 22, 'ldp': 22, 'kut': 22, 'oln': 22, 'foe': 22, 'agw': 22, 'omt': 22, 'viu': 22, 'itw': 22, 'sge': 22, 'lej': 22, 'wiz': 22, 'aev': 22, 'few': 22, 'jav': 21, 'uon': 21, 'muz': 21, 'dyg': 21, 'owk': 21, 'ywe': 21, 'ayg': 21, 'gip': 21, 'jov': 21, 'wop': 21, 'iof': 21, 'zig': 21, 'dug': 21, 'dix': 21, 'tfr': 21, 'kio': 21, 'fwi': 21, 'thh': 21, 'tgu': 21, 'miv': 21, 'iju': 21, 'odp': 21, 'fbe': 21, 'cyo': 21, 'zog': 21, 'sru': 21, 'lcl': 21, 'gbi': 21, 'yeb': 21, 'mfi': 21, 'meu': 21, 'aol': 21, 'ntz': 21, 'lna': 21, 'oyd': 21, 'oev': 21, 'myg': 21, 'dsu': 21, 'tpe': 21, 'ytu': 21, 'lni': 21, 'kbu': 21, 'syb': 21, 'yzo': 21, 'faw': 21, 'jil': 21, 'biq': 21, 'bch': 21, 'usm': 21, 'akk': 21, 'evr': 21, 'rnw': 21, 'moy': 21, 'ivu': 21, 'fud': 21, 'hsa': 21, 'awy': 21, 'oym': 21, 'dsa': 21, 'ypy': 21, 'ilr': 21, 'jad': 21, 'dsl': 21, 'zid': 21, 'zec': 21, 'yxi': 21, 'djo': 21, 'ecd': 21, 'buo': 20, 'xab': 20, 'pmo': 20, 'spy': 20, 'igy': 20, 'mue': 20, 'maf': 20, 'mow': 20, 'cok': 20, 'puz': 20, 'ghn': 20, 'ypl': 20, 'sok': 20, 'ogw': 20, 'bpe': 20, 'alh': 20, 'chk': 20, 'zzy': 20, 'kau': 20, 'rza': 20, 'bsa': 20, 'ekt': 20, 'huk': 20, 'xch': 20, 'suo': 20, 'zac': 20, 'fse': 20, 'caj': 20, 'rkb': 20, 'guo': 20, 'ftr': 20, 'ygd': 20, 'edp': 20, 'keo': 20, 'uks': 20, 'eln': 20, 'hha': 20, 'lsm': 20, 'deq': 20, 'kco': 20, 'nkb': 20, 'wny': 20, 'tsb': 20, 'upg': 20, 'uei': 20, 'hfo': 20, 'osq': 20, 'ipc': 20, 'hyi': 20, 'hii': 20, 'yap': 20, 'wte': 20, 'mfr': 20, 'eui': 20, 'yid': 20, 'puk': 20, 'yfe': 20, 'kdo': 20, 'avu': 20, 'vew': 20, 'mek': 20, 'olh': 20, 'pda': 20, 'rsb': 20, 'dpl': 20, 'ayu': 20, 'soh': 20, 'epd': 20, 'dej': 20, 'eoh': 19, 'ghc': 19, 'urh': 19, 'utv': 19, 'zep': 19, 'shg': 19, 'bej': 19, 'uaw': 19, 'xar': 19, 'efy': 19, 'hda': 19, 'fio': 19, 'ufi': 19, 'apm': 19, 'pyi': 19, 'dgm': 19, 'ayr': 19, 'oxb': 19, 'fdo': 19, 'mda': 19, 'ckg': 19, 'nkw': 19, 'nyo': 19, 'rnp': 19, 'tki': 19, 'syt': 19, 'yey': 19, 'ddh': 19, 'osw': 19, 'kmo': 19, 'bwo': 19, 'olw': 19, 'hdo': 19, 'uha': 19, 'rky': 19, 'itp': 19, 'upf': 19, 'eow': 19, 'ufe': 19, 'vah': 19, 'wsk': 19, 'shh': 19, 'mwo': 19, 'bpa': 19, 'suk': 19, 'nkr': 19, 'gnu': 19, 'aip': 19, 'pgr': 19, 'yau': 19, 'epw': 19, 'rkw': 19, 'fue': 19, 'wdi': 19, 'fca': 19, 'opw': 19, 'umc': 19, 'maa': 19, 'cdo': 19, 'meh': 19, 'ahr': 19, 'dez': 19, 'eyv': 19, 'ymu': 19, 'imr': 19, 'kof': 19, 'chg': 19, 'aos': 19, 'inz': 19, 'xho': 19, 'rkn': 19, 'bsp': 19, 'ffm': 19, 'apb': 19, 'fbo': 19, 'rby': 19, 'xiv': 19, 'wun': 19, 'uep': 19, 'kyr': 19, 'gso': 19, 'hca': 19, 'rij': 19, 'ghp': 19, 'eyo': 19, 'nns': 19, 'ywh': 19, 'irh': 18, 'tva': 18, 'hga': 18, 'zip': 18, 'uey': 18, 'wfo': 18, 'eib': 18, 'ytt': 18, 'wfl': 18, 'ypu': 18, 'stv': 18, 'ouz': 18, 'fpe': 18, 'iis': 18, 'ovs': 18, 'mre': 18, 'bik': 18, 'ueh': 18, 'wow': 18, 'tdi': 18, 'egh': 18, 'naa': 18, 'oef': 18, 'eyt': 18, 'tao': 18, 'rnh': 18, 'msa': 18, 'rbs': 18, 'skl': 18, 'aas': 18, 'sps': 18, 'afs': 18, 'ryh': 18, 'msp': 18, 'fry': 18, 'kod': 18, 'ewf': 18, 'pib': 18, 'noz': 18, 'gub': 18, 'oeh': 18, 'zad': 18, 'vef': 18, 'tcu': 18, 'uae': 18, 'irf': 18, 'ntb': 18, 'otf': 18, 'cma': 18, 'afu': 18, 'duf': 18, 'dki': 18, 'epf': 18, 'uum': 18, 'wdo': 18, 'kry': 18, 'lsc': 18, 'upd': 18, 'orz': 18, 'ipb': 18, 'uja': 18, 'eie': 18, 'dsv': 18, 'ekk': 18, 'xli': 18, 'zeu': 18, 'dyc': 18, 'gah': 18, 'wot': 18, 'ffb': 18, 'hmu': 18, 'mex': 18, 'mri': 18, 'psc': 18, 'upy': 18, 'ldy': 18, 'amw': 18, 'dyp': 18, 'mra': 18, 'ehm': 18, 'uoy': 18, 'kaz': 18, 'pca': 18, 'mav': 18, 'ipw': 18, 'pba': 18, 'axl': 18, 'mca': 18, 'mfl': 17, 'hbl': 17, 'oae': 17, 'keg': 17, 'nsd': 17, 'pwe': 17, 'fak': 17, 'sfr': 17, 'buz': 17, 'jui': 17, 'ufl': 17, 'fay': 17, 'cst': 17, 'nez': 17, 'igb': 17, 'eyc': 17, 'uby': 17, 'wti': 17, 'acm': 17, 'ugr': 17, 'xul': 17, 'atg': 17, 'atk': 17, 'byi': 17, 'kec': 17, 'hoz': 17, 'urw': 17, 'hdi': 17, 'mch': 17, 'ewm': 17, 'nku': 17, 'mlo': 17, 'xfo': 17, 'baa': 17, 'jit': 17, 'dfr': 17, 'jeo': 17, 'iek': 17, 'eko': 17, 'yew': 17, 'wly': 17, 'ntc': 17, 'ggs': 17, 'jok': 17, 'rnc': 17, 'nok': 17, 'ohl': 17, 'zai': 17, 'obd': 17, 'ogt': 17, 'ssr': 17, 'ysy': 17, 'exl': 17, 'hgr': 17, 'amh': 17, 'fuz': 17, 'nmy': 17, 'tvo': 17, 'kvi': 17, 'idt': 17, 'xyp': 17, 'rkf': 17, 'kob': 17, 'xom': 17, 'baf': 17, 'wca': 17, 'wpi': 17, 'ijo': 17, 'waw': 17, 'paz': 17, 'ltm': 17, 'arz': 17, 'vep': 17, 'ftb': 17, 'eyr': 17, 'fae': 17, 'ekl': 17, 'guy': 16, 'mwa': 16, 'syi': 16, 'bue': 16, 'dok': 16, 'nek': 16, 'nix': 16, 'lko': 16, 'apw': 16, 'fhe': 16, 'cza': 16, 'bfi': 16, 'mde': 16, 'igw': 16, 'xap': 16, 'hao': 16, 'dsk': 16, 'psp': 16, 'obn': 16, 'xig': 16, 'lno': 16, 'mdi': 16, 'udu': 16, 'ivy': 16, 'oiz': 16, 'tde': 16, 'iei': 16, 'lsk': 16, 'kaf': 16, 'gya': 16, 'urz': 16, 'eby': 16, 'fwo': 16, 'bto': 16, 'rfs': 16, 'ntp': 16, 'pwi': 16, 'hpl': 16, 'pfl': 16, 'uig': 16, 'hki': 16, 'nyt': 16, 'fba': 16, 'zoe': 16, 'hoh': 16, 'lqu': 16, 'ewc': 16, 'axt': 16, 'kpa': 16, 'fpo': 16, 'hns': 16, 'kth': 16, 'hke': 16, 'ywr': 16, 'hpi': 16, 'jog': 16, 'ksc': 16, 'tyw': 16, 'aie': 16, 'fod': 16, 'hsp': 16, 'unz': 16, 'ruk': 16, 'dni': 16, 'idf': 16, 'yei': 16, 'caw': 16, 'dji': 16, 'jem': 16, 'asn': 16, 'fme': 16, 'tyh': 16, 'wmo': 16, 'ogd': 16, 'aot': 16, 'jej': 16, 'asw': 16, 'buy': 16, 'jak': 16, 'amc': 16, 'tcy': 16, 'iif': 16, 'oaf': 16, 'lfv': 16, 'bhu': 16, 'ghr': 16, 'ikk': 16, 'sjo': 16, 'gud': 16, 'epb': 16, 'agd': 16, 'idh': 16, 'piq': 16, 'cyb': 16, 'ueu': 16, 'oik': 15, 'ptn': 15, 'axw': 15, 'gfo': 15, 'htu': 15, 'bsh': 15, 'uew': 15, 'bda': 15, 'poh': 15, 'boz': 15, 'tja': 15, 'ynu': 15, 'mnu': 15, 'pfe': 15, 'woc': 15, 'lkl': 15, 'tiw': 15, 'tgl': 15, 'wna': 15, 'gev': 15, 'nxi': 15, 'kif': 15, 'nyh': 15, 'dpe': 15, 'iez': 15, 'rmf': 15, 'umr': 15, 'yun': 15, 'lnu': 15, 'yuc': 15, 'wdy': 15, 'goy': 15, 'ebt': 15, 'wey': 15, 'wbi': 15, 'tka': 15, 'oey': 15, 'gpi': 15, 'ksl': 15, 'aep': 15, 'mpb': 15, 'pch': 15, 'fov': 15, 'eyh': 15, 'bii': 15, 'amt': 15, 'ayh': 15, 'gsi': 15, 'opf': 15, 'xah': 15, 'oyn': 15, 'bpo': 15, 'fch': 15, 'tzo': 15, 'ahn': 15, 'uza': 15, 'vim': 15, 'xus': 15, 'pof': 15, 'iax': 15, 'tqu': 15, 'zul': 15, 'gtr': 15, 'sgo': 15, 'tke': 15, 'ivv': 15, 'hvi': 15, 'llk': 15, 'kpr': 15, 'wnb': 15, 'fsa': 15, 'dyf': 15, 'tve': 15, 'yzi': 15, 'bfu': 15, 'pdr': 15, 'ghw': 15, 'idm': 15, 'kac': 15, 'aef': 15, 'ysb': 15, 'ueg': 15, 'odt': 15, 'fft': 15, 'kys': 15, 'nyx': 15, 'hcl': 15, 'omr': 15, 'tnu': 15, 'jaz': 15, 'gns': 15, 'ffc': 15, 'iut': 15, 'cze': 15, 'uio': 15, 'laq': 15, 'quy': 15, 'lry': 15, 'pdo': 15, 'muk': 15, 'pek': 15, 'skr': 15, 'ieh': 15, 'zyl': 14, 'ipf': 14, 'wcr': 14, 'nji': 14, 'kch': 14, 'yec': 14, 'kda': 14, 'mox': 14, 'aou': 14, 'xty': 14, 'xyt': 14, 'usq': 14, 'lsy': 14, 'sgi': 14, 'wnc': 14, 'avr': 14, 'pni': 14, 'ldg': 14, 'aui': 14, 'yof': 14, 'kev': 14, 'pui': 14, 'msm': 14, 'iby': 14, 'amd': 14, 'oxt': 14, 'kgr': 14, 'ukh': 14, 'ftm': 14, 'xad': 14, 'syd': 14, 'weg': 14, 'fwa': 14, 'ewy': 14, 'hka': 14, 'lru': 14, 'sdr': 14, 'iai': 14, 'pax': 14, 'lze': 14, 'iku': 14, 'ubw': 14, 'byp': 14, 'yee': 14, 'gao': 14, 'uev': 14, 'eoz': 14, 'khu': 14, 'uol': 14, 'lkw': 14, 'udc': 14, 'bhe': 14, 'gsm': 14, 'ibn': 14, 'vri': 14, 'baj': 14, 'ayp': 14, 'dsb': 14, 'iav': 14, 'uji': 14, 'pfi': 14, 'piv': 14, 'uim': 14, 'edv': 14, 'ogf': 14, 'wch': 14, 'xif': 14, 'iao': 14, 'nsg': 14, 'gup': 14, 'vus': 14, 'mcg': 14, 'wwa': 14, 'gch': 14, 'kav': 14, 'otz': 14, 'oou': 14, 'hva': 14, 'oxh': 14, 'iea': 14, 'ylp': 14, 'kte': 14, 'bge': 14, 'rvy': 14, 'opb': 14, 'vod': 14, 'wfa': 14, 'joe': 14, 'eub': 14, 'taz': 14, 'idc': 14, 'epc': 14, 'vik': 14, 'rgs': 14, 'tgo': 14, 'jeh': 14, 'haa': 14, 'udw': 14, 'ssv': 14, 'eue': 14, 'ioh': 14, 'rdv': 14, 'ikh': 13, 'wsm': 13, 'ygu': 13, 'ybd': 13, 'fsc': 13, 'tce': 13, 'otd': 13, 'rcs': 13, 'uya': 13, 'sej': 13, 'xya': 13, 'wnw': 13, 'anx': 13, 'oyc': 13, 'mha': 13, 'nyf': 13, 'kva': 13, 'sye': 13, 'gsp': 13, 'rrs': 13, 'ndv': 13, 'fpl': 13, 'koc': 13, 'htt': 13, 'bmo': 13, 'gco': 13, 'jat': 13, 'elz': 13, 'yus': 13, 'xse': 13, 'bwa': 13, 'mfe': 13, 'bof': 13, 'tuk': 13, 'lkh': 13, 'vra': 13, 'udb': 13, 'dtr': 13, 'kkn': 13, 'riy': 13, 'iwe': 13, 'wpa': 13, 'uxa': 13, 'idp': 13, 'sju': 13, 'udh': 13, 'oxc': 13, 'dgu': 13, 'mpn': 13, 'zag': 13, 'ekh': 13, 'ftn': 13, 'pya': 13, 'poy': 13, 'bfa': 13, 'wnf': 13, 'jef': 13, 'ycy': 13, 'aib': 13, 'byc': 13, 'oju': 13, 'pfr': 13, 'zic': 13, 'cye': 13, 'tyd': 13, 'ehs': 13, 'pga': 13, 'ysv': 13, 'bcu': 13, 'doy': 13, 'dyk': 13, 'yae': 13, 'uzi': 13, 'ksu': 13, 'fha': 13, 'kbl': 13, 'nrh': 13, 'fef': 13, 'tyg': 13, 'wog': 13, 'miq': 13, 'bfo': 13, 'yns': 13, 'asd': 13, 'dyh': 13, 'gdi': 13, 'wdl': 13, 'jow': 13, 'mti': 13, 'kao': 13, 'igf': 13, 'acn': 13, 'cek': 13, 'lsv': 13, 'atd': 13, 'eai': 13, 'uxt': 13, 'okt': 13, 'koh': 13, 'yeh': 13, 'vur': 13, 'mte': 13, 'nkm': 13, 'lgl': 13, 'umt': 13, 'rjo': 13, 'lsw': 13, 'ulr': 13, 'yum': 13, 'bcr': 13, 'dyo': 13, 'ltf': 13, 'okk': 13, 'yrs': 13, 'heq': 13, 'umy': 13, 'fcr': 13, 'pbu': 13, 'lez': 13, 'utj': 13, 'mml': 13, 'yev': 13, 'ftf': 13, 'zob': 12, 'bna': 12, 'mpw': 12, 'ygn': 12, 'pph': 12, 'oxf': 12, 'pfo': 12, 'epm': 12, 'ifs': 12, 'sdu': 12, 'iia': 12, 'xma': 12, 'rzi': 12, 'yry': 12, 'uye': 12, 'dyd': 12, 'ocs': 12, 'lhu': 12, 'hcr': 12, 'yrn': 12, 'owz': 12, 'otg': 12, 'feg': 12, 'alz': 12, 'opk': 12, 'apf': 12, 'lwh': 12, 'kca': 12, 'yrl': 12, 'ozl': 12, 'kfl': 12, 'bav': 12, 'iaf': 12, 'rmb': 12, 'oji': 12, 'beq': 12, 'ysl': 12, 'ysk': 12, 'xyr': 12, 'wep': 12, 'ghu': 12, 'ckk': 12, 'msb': 12, 'xyb': 12, 'evs': 12, 'heh': 12, 'fot': 12, 'myz': 12, 'yrh': 12, 'zei': 12, 'tju': 12, 'zif': 12, 'phn': 12, 'vak': 12, 'wyc': 12, 'joa': 12, 'aat': 12, 'rmc': 12, 'kuk': 12, 'yep': 12, 'ntt': 12, 'vvi': 12, 'vae': 12, 'rzo': 12, 'nsq': 12, 'byo': 12, 'myn': 12, 'omc': 12, 'jod': 12, 'mwi': 12, 'oeg': 12, 'dyw': 12, 'wnp': 12, 'soy': 12, 'yms': 12, 'akm': 12, 'htg': 12, 'ruo': 12, 'tij': 12, 'gbu': 12, 'yki': 12, 'peh': 12, 'uop': 12, 'fho': 12, 'cao': 12, 'vov': 12, 'hgo': 12, 'eyp': 12, 'fso': 12, 'fce': 12, 'gsb': 12, 'awp': 12, 'osn': 12, 'zou': 12, 'rvu': 12, 'uap': 12, 'hfl': 12, 'agt': 12, 'uju': 12, 'whu': 12, 'ynx': 12, 'ooh': 12, 'rdp': 12, 'ebs': 12, 'iwo': 12, 'rnn': 12, 'yox': 12, 'ntd': 12, 'shd': 12, 'mpf': 12, 'psw': 12, 'vla': 12, 'asg': 12, 'ehl': 12, 'vyi': 12, 'rsn': 12, 'dgy': 12, 'wga': 12, 'apd': 12, 'yeo': 11, 'xaz': 11, 'rdd': 11, 'ruz': 11, 'saa': 11, 'zma': 11, 'zod': 11, 'yob': 11, 'wpo': 11, 'gbr': 11, 'imf': 11, 'mfa': 11, 'gpl': 11, 'wod': 11, 'pix': 11, 'akw': 11, 'yya': 11, 'mci': 11, 'bbu': 11, 'atp': 11, 'vka': 11, 'ltp': 11, 'gpa': 11, 'gsa': 11, 'mpk': 11, 'ryr': 11, 'nyp': 11, 'kik': 11, 'osb': 11, 'fiz': 11, 'tyy': 11, 'agp': 11, 'laa': 11, 'iye': 11, 'mui': 11, 'gug': 11, 'sri': 11, 'utk': 11, 'oif': 11, 'maq': 11, 'fcl': 11, 'ziz': 11, 'ghd': 11, 'ukk': 11, 'awc': 11, 'oyf': 11, 'mto': 11, 'guz': 11, 'uvu': 11, 'odn': 11, 'huz': 11, 'akb': 11, 'kdr': 11, 'ryv': 11, 'ryx': 11, 'iit': 11, 'hnu': 11, 'yow': 11, 'syw': 11, 'llj': 11, 'saz': 11, 'gdr': 11, 'ecp': 11, 'cph': 11, 'fom': 11, 'lfn': 11, 'nps': 11, 'woa': 11, 'fey': 11, 'soz': 11, 'iim': 11, 'mck': 11, 'kja': 11, 'mth': 11, 'aoi': 11, 'pps': 11, 'duv': 11, 'yoh': 11, 'dlu': 11, 'dgo': 11, 'pfa': 11, 'gte': 11, 'ixl': 11, 'ewp': 11, 'tci': 11, 'hlu': 11, 'gyi': 11, 'rsd': 11, 'mij': 11, 'paa': 11, 'esf': 11, 'wnh': 11, 'ugw': 11, 'ulw': 11, 'imw': 11, 'umw': 11, 'wok': 11, 'gfa': 11, 'gfe': 11, 'zof': 11, 'beu': 11, 'oek': 11, 'ioz': 11, 'mof': 11, 'ngj': 11, 'kyt': 11, 'mwe': 11, 'cna': 11, 'azl': 11, 'opc': 11, 'tkn': 11, 'gaf': 11, 'exf': 11, 'liw': 11, 'beo': 11, 'eax': 11, 'keu': 11, 'nuk': 11, 'twh': 11, 'yve': 11, 'kiv': 11, 'paq': 11, 'odk': 11, 'ttm': 11, 'eeq': 11, 'ylm': 11, 'pbi': 11, 'wae': 11, 'ssd': 11, 'pcr': 11, 'zak': 11, 'ruv': 11, 'aif': 11, 'enq': 11, 'kcl': 11, 'evy': 11, 'rdg': 10, 'yia': 10, 'xfi': 10, 'gpo': 10, 'lkn': 10, 'ttv': 10, 'sfy': 10, 'ksk': 10, 'usf': 10, 'imd': 10, 'xsu': 10, 'wbl': 10, 'tzs': 10, 'zwi': 10, 'tph': 10, 'kym': 10, 'smy': 10, 'ffp': 10, 'fdr': 10, 'cmi': 10, 'ksv': 10, 'lct': 10, 'ctm': 10, 'kud': 10, 'okr': 10, 'imc': 10, 'hih': 10, 'wlo': 10, 'fgr': 10, 'wnn': 10, 'euh': 10, 'uhe': 10, 'ugb': 10, 'icm': 10, 'mcl': 10, 'ghg': 10, 'swr': 10, 'suz': 10, 'zah': 10, 'ncs': 10, 'mtr': 10, 'vii': 10, 'okm': 10, 'kmi': 10, 'jot': 10, 'ngv': 10, 'guf': 10, 'bhi': 10, 'poz': 10, 'rsf': 10, 'bth': 10, 'waz': 10, 'dwr': 10, 'geg': 10, 'wbu': 10, 'mcr': 10, 'mhe': 10, 'bax': 10, 'ueo': 10, 'kyc': 10, 'woh': 10, 'ltw': 10, 'gde': 10, 'ftp': 10, 'xym': 10, 'msk': 10, 'etv': 10, 'urq': 10, 'mcn': 10, 'wks': 10, 'ckj': 10, 'wwi': 10, 'xly': 10, 'lps': 10, 'kfe': 10, 'uom': 10, 'fap': 10, 'ahw': 10, 'adz': 10, 'oaz': 10, 'kyw': 10, 'lzi': 10, 'ssg': 10, 'gnl': 10, 'gko': 10, 'kfr': 10, 'fah': 10, 'ufr': 10, 'rkp': 10, 'itk': 10, 'nao': 10, 'lby': 10, 'etk': 10, 'fsk': 10, 'jux': 10, 'epn': 10, 'aww': 10, 'yuk': 10, 'pcu': 10, 'faf': 10, 'bij': 10, 'xbo': 10, 'nxe': 10, 'lyk': 10, 'hwr': 10, 'rlb': 10, 'dgl': 10, 'obw': 10, 'gsl': 10, 'ktr': 10, 'upm': 10, 'kpl': 10, 'rsq': 10, 'vaa': 10, 'byb': 10, 'ahd': 10, 'ayv': 10, 'csi': 10, 'gpr': 10, 'mve': 10, 'emf': 10, 'arj': 10, 'obf': 10, 'ylg': 10, 'byw': 10, 'xel': 10, 'akf': 10, 'ije': 10, 'haj': 10, 'eej': 10, 'chv': 10, 'xsh': 10, 'voe': 10, 'jua': 10, 'yxe': 10, 'pwr': 9, 'ikr': 9, 'ntj': 9, 'rkr': 9, 'ocn': 9, 'lwr': 9, 'oee': 9, 'lpf': 9, 'yir': 9, 'rmh': 9, 'rmr': 9, 'psm': 9, 'okw': 9, 'ffw': 9, 'kyb': 9, 'yoe': 9, 'kcr': 9, 'xob': 9, 'uhl': 9, 'zox': 9, 'emd': 9, 'rtd': 9, 'rku': 9, 'ntv': 9, 'yva': 9, 'kiw': 9, 'wya': 9, 'aag': 9, 'dds': 9, 'obc': 9, 'yvo': 9, 'asr': 9, 'zeo': 9, 'rck': 9, 'bih': 9, 'udm': 9, 'wcl': 9, 'bux': 9, 'okh': 9, 'rmt': 9, 'okb': 9, 'cth': 9, 'leq': 9, 'zib': 9, 'ofy': 9, 'ykn': 9, 'bce': 9, 'naq': 9, 'nyr': 9, 'vav': 9, 'utq': 9, 'euo': 9, 'osg': 9, 'rmn': 9, 'bci': 9, 'dte': 9, 'ixy': 9, 'esr': 9, 'uix': 9, 'nkp': 9, 'xub': 9, 'izy': 9, 'lju': 9, 'lmy': 9, 'aee': 9, 'fpi': 9, 'mpm': 9, 'auz': 9, 'cgr': 9, 'riw': 9, 'yty': 9, 'thg': 9, 'ndj': 9, 'yul': 9, 'ytw': 9, 'tjo': 9, 'bpl': 9, 'opg': 9, 'wyl': 9, 'idb': 9, 'umg': 9, 'bjo': 9, 'tgi': 9, 'mdr': 9, 'gca': 9, 'rff': 9, 'igt': 9, 'ffh': 9, 'koa': 9, 'opd': 9, 'zek': 9, 'bgl': 9, 'udn': 9, 'rmp': 9, 'vop': 9, 'jiv': 9, 'hbi': 9, 'oxl': 9, 'rux': 9, 'rnd': 9, 'ryu': 9, 'cii': 9, 'aoc': 9, 'gii': 9, 'ckv': 9, 'soj': 9, 'tmu': 9, 'tzk': 9, 'mce': 9, 'fsp': 9, 'fob': 9, 'owv': 9, 'uzo': 9, 'bfl': 9, 'ksw': 9, 'hwh': 9, 'akc': 9, 'ixs': 9, 'kki': 9, 'toj': 9, 'sya': 9, 'bsl': 9, 'zum': 9, 'tsf': 9, 'oux': 9, 'zew': 9, 'htp': 9, 'xhu': 9, 'lkm': 9, 'yeu': 9, 'gse': 9, 'lhi': 9, 'zis': 9, 'cyd': 9, 'jic': 9, 'voo': 9, 'gny': 9, 'eky': 8, 'emw': 8, 'zaz': 8, 'gak': 8, 'nkc': 8, 'otn': 8, 'axm': 8, 'wmi': 8, 'eok': 8, 'tzy': 8, 'pej': 8, 'kub': 8, 'ukr': 8, 'abt': 8, 'uah': 8, 'fax': 8, 'ogp': 8, 'mbb': 8, 'cmo': 8, 'xth': 8, 'emv': 8, 'pke': 8, 'ttn': 8, 'eww': 8, 'mev': 8, 'bph': 8, 'fsi': 8, 'gaa': 8, 'ysw': 8, 'ylb': 8, 'yye': 8, 'ydu': 8, 'byh': 8, 'xii': 8, 'oah': 8, 'siw': 8, 'wnd': 8, 'olz': 8, 'zey': 8, 'aiy': 8, 'gvi': 8, 'gza': 8, 'ipg': 8, 'jed': 8, 'bex': 8, 'uhr': 8, 'ovy': 8, 'uwa': 8, 'taj': 8, 'ltc': 8, 'lss': 8, 'taa': 8, 'ohs': 8, 'odz': 8, 'dzo': 8, 'kyo': 8, 'igd': 8, 'thv': 8, 'bni': 8, 'fdu': 8, 'emc': 8, 'umk': 8, 'adk': 8, 'ksb': 8, 'syf': 8, 'aad': 8, 'fbl': 8, 'lfj': 8, 'psk': 8, 'byz': 8, 'yny': 8, 'bup': 8, 'epg': 8, 'omd': 8, 'xeg': 8, 'gwy': 8, 'alj': 8, 'kko': 8, 'zaf': 8, 'coj': 8, 'sfl': 8, 'zpa': 8, 'bgr': 8, 'zeg': 8, 'rfb': 8, 'mns': 8, 'pyh': 8, 'euf': 8, 'mke': 8, 'ehn': 8, 'wwh': 8, 'hyx': 8, 'aaa': 8, 'wpl': 8, 'esg': 8, 'orj': 8, 'caz': 8, 'jez': 8, 'wsw': 8, 'akp': 8, 'ylt': 8, 'bnu': 8, 'aii': 8, 'yup': 8, 'iaa': 8, 'hyh': 8, 'mao': 8, 'muh': 8, 'bwe': 8, 'xhe': 8, 'nsr': 8, 'kyn': 8, 'byn': 8, 'xoi': 8, 'wnm': 8, 'gfr': 8, 'ttw': 8, 'yko': 8, 'hpe': 8, 'koz': 8, 'ftt': 8, 'hsm': 8, 'wkw': 8, 'dax': 8, 'kyp': 8, 'hsc': 8, 'byf': 8, 'rmw': 8, 'csa': 8, 'uys': 8, 'zoh': 8, 'mbf': 8, 'vay': 8, 'hij': 8, 'iji': 8, 'fki': 8, 'fpa': 8, 'mpp': 8, 'pyx': 8, 'fmi': 8, 'yfr': 8, 'fcu': 8, 'vvy': 8, 'avs': 8, 'ulh': 8, 'bbs': 8, 'fpu': 8, 'yug': 8, 'idv': 8, 'ucy': 8, 'why': 8, 'wng': 8, 'azd': 8, 'wno': 8, 'htd': 8, 'ffn': 8, 'fda': 8, 'ewg': 8, 'ghy': 8, 'hcu': 8, 'fmo': 8, 'jae': 7, 'xme': 7, 'xwe': 7, 'uaf': 7, 'icf': 7, 'rpy': 7, 'aua': 7, 'tzm': 7, 'kpe': 7, 'wul': 7, 'uik': 7, 'xey': 7, 'fmu': 7, 'ygy': 7, 'msu': 7, 'lgy': 7, 'usr': 7, 'mki': 7, 'bsm': 7, 'hfe': 7, 'ryk': 7, 'fwh': 7, 'gwh': 7, 'umh': 7, 'ydn': 7, 'rmm': 7, 'lyu': 7, 'auh': 7, 'axb': 7, 'axc': 7, 'ikl': 7, 'rnr': 7, 'aiw': 7, 'ouh': 7, 'kiy': 7, 'bmu': 7, 'icp': 7, 'hyu': 7, 'avn': 7, 'ixf': 7, 'msy': 7, 'wce': 7, 'hpu': 7, 'lhy': 7, 'eee': 7, 'hny': 7, 'orq': 7, 'alq': 7, 'igz': 7, 'kyh': 7, 'rkt': 7, 'aau': 7, 'lyx': 7, 'pvi': 7, 'aaf': 7, 'mva': 7, 'wgr': 7, 'spb': 7, 'dby': 7, 'juk': 7, 'avl': 7, 'thk': 7, 'jaq': 7, 'ayy': 7, 'mbm': 7, 'huj': 7, 'uje': 7, 'cme': 7, 'kku': 7, 'eji': 7, 'cde': 7, 'xsi': 7, 'ryz': 7, 'afg': 7, 'waa': 7, 'oxu': 7, 'bki': 7, 'dke': 7, 'vyb': 7, 'pmi': 7, 'wsl': 7, 'ogc': 7, 'udp': 7, 'laj': 7, 'wda': 7, 'ruy': 7, 'fje': 7, 'feh': 7, 'oav': 7, 'etg': 7, 'ssk': 7, 'olr': 7, 'asv': 7, 'shv': 7, 'ctt': 7, 'wpr': 7, 'zra': 7, 'pkn': 7, 'hms': 7, 'fsl': 7, 'ukl': 7, 'mdu': 7, 'acd': 7, 'ylh': 7, 'pao': 7, 'ixp': 7, 'hsk': 7, 'yut': 7, 'dzh': 7, 'fik': 7, 'ezy': 7, 'gyb': 7, 'hqu': 7, 'sze': 7, 'wnr': 7, 'ftu': 7, 'pgi': 7, 'gsw': 7, 'xdi': 7, 'swu': 7, 'kog': 7, 'bfr': 7, 'axs': 7, 'dhy': 7, 'ezu': 7, 'tje': 7, 'xst': 7, 'ljo': 7, 'caa': 7, 'syo': 7, 'bfe': 7, 'ydd': 7, 'yja': 7, 'egb': 7, 'kiz': 7, 'moj': 7, 'nyn': 7, 'yhy': 7, 'wsa': 7, 'bsy': 7, 'kae': 7, 'eyg': 7, 'yai': 7, 'itd': 7, 'ilz': 7, 'wik': 7, 'abc': 7, 'goh': 7, 'kaa': 7, 'tzu': 7, 'loj': 7, 'ylc': 7, 'byd': 7, 'lfk': 7, 'wvi': 7, 'bwi': 7, 'msl': 7, 'kwr': 7, 'kyd': 7, 'abm': 7, 'yfy': 7, 'zae': 7, 'ftc': 7, 'mbd': 7, 'jid': 7, 'uyi': 7, 'spn': 7, 'lja': 7, 'arx': 7, 'agf': 7, 'aab': 7, 'agc': 7, 'dkn': 7, 'xwo': 7, 'lgh': 7, 'uhi': 7, 'tez': 7, 'btf': 7, 'kua': 7, 'kek': 7, 'boj': 7, 'teq': 7, 'upn': 7, 'skj': 7, 'toq': 7, 'hhi': 7, 'gjo': 7, 'wzi': 7, 'lmm': 7, 'pde': 7, 'uus': 7, 'rkd': 7, 'mga': 7, 'ufu': 7, 'udf': 7, 'ouw': 7, 'jep': 7, 'wum': 7, 'usd': 7, 'zbu': 7, 'gcu': 7, 'kde': 7, 'yzy': 6, 'rpn': 6, 'hko': 6, 'juc': 6, 'mgt': 6, 'ooa': 6, 'liy': 6, 'bua': 6, 'nnv': 6, 'mdo': 6, 'ebd': 6, 'yqu': 6, 'cuy': 6, 'xbe': 6, 'omk': 6, 'zuc': 6, 'awg': 6, 'bpi': 6, 'afy': 6, 'ovk': 6, 'dce': 6, 'xet': 6, 'iow': 6, 'xuo': 6, 'rji': 6, 'yaz': 6, 'ouq': 6, 'ibw': 6, 'jup': 6, 'lyv': 6, 'amz': 6, 'rfc': 6, 'uyt': 6, 'fjo': 6, 'iul': 6, 'iee': 6, 'ixm': 6, 'ypp': 6, 'etd': 6, 'aod': 6, 'guc': 6, 'zef': 6, 'nkd': 6, 'gpe': 6, 'oew': 6, 'rkc': 6, 'juj': 6, 'uez': 6, 'tyv': 6, 'omv': 6, 'syu': 6, 'xtl': 6, 'edk': 6, 'mcd': 6, 'psl': 6, 'pna': 6, 'jir': 6, 'ceq': 6, 'rfm': 6, 'nej': 6, 'uej': 6, 'nuz': 6, 'xoa': 6, 'lij': 6, 'cuu': 6, 'ndk': 6, 'gmy': 6, 'eix': 6, 'isz': 6, 'nkg': 6, 'sbl': 6, 'iil': 6, 'scs': 6, 'iir': 6, 'exq': 6, 'xqu': 6, 'rpw': 6, 'gek': 6, 'xuv': 6, 'rss': 6, 'rll': 6, 'gsu': 6, 'tzp': 6, 'oyu': 6, 'mbh': 6, 'gsk': 6, 'dmu': 6, 'vli': 6, 'xwa': 6, 'ksy': 6, 'xye': 6, 'tej': 6, 'zun': 6, 'faz': 6, 'snt': 6, 'pyf': 6, 'iyo': 6, 'suv': 6, 'lkt': 6, 'abk': 6, 'lfq': 6, 'fqu': 6, 'wpe': 6, 'paj': 6, 'yeg': 6, 'yaf': 6, 'ggu': 6, 'dqu': 6, 'zue': 6, 'zsc': 6, 'uoc': 6, 'imh': 6, 'ipd': 6, 'tdy': 6, 'dtu': 6, 'ivr': 6, 'kiu': 6, 'xud': 6, 'cse': 6, 'aac': 6, 'ysg': 6, 'khs': 6, 'aob': 6, 'xts': 6, 'uky': 6, 'sje': 6, 'vys': 6, 'hoj': 6, 'xne': 6, 'hez': 6, 'tyk': 6, 'kgu': 6, 'ofm': 6, 'ixc': 6, 'evk': 6, 'mcm': 6, 'gki': 6, 'ghj': 6, 'rxi': 6, 'oyp': 6, 'afn': 6, 'tuv': 6, 'caq': 6, 'luh': 6, 'rpb': 6, 'oai': 6, 'kaj': 6, 'vyn': 6, 'urj': 6, 'oyt': 6, 'eeu': 6, 'pdi': 6, 'obm': 6, 'mta': 6, 'oeq': 6, 'fgo': 6, 'pcl': 6, 'xyh': 6, 'hnn': 6, 'fbi': 6, 'idj': 6, 'luj': 6, 'wib': 6, 'fbr': 6, 'uyl': 6, 'dyv': 6, 'miw': 6, 'xyd': 6, 'aop': 6, 'yim': 6, 'mwh': 6, 'mry': 6, 'kyi': 6, 'bya': 6, 'jeb': 6, 'oib': 6, 'joo': 6, 'ujo': 6, 'ftg': 6, 'yiz': 6, 'obh': 6, 'oxs': 6, 'elj': 6, 'ofp': 6, 'rng': 6, 'aeb': 6, 'yld': 6, 'apc': 6, 'gka': 6, 'mlu': 6, 'jis': 6, 'otv': 6, 'gpu': 6, 'wgi': 6, 'fep': 6, 'kyu': 6, 'rlt': 6, 'abf': 6, 'eao': 6, 'mbn': 5, 'zav': 5, 'trs': 5, 'exm': 5, 'cpo': 5, 'pua': 5, 'oox': 5, 'jia': 5, 'wfe': 5, 'msg': 5, 'ecn': 5, 'aak': 5, 'gwr': 5, 'akn': 5, 'kwh': 5, 'lsl': 5, 'zha': 5, 'fbu': 5, 'mge': 5, 'nnh': 5, 'pss': 5, 'buh': 5, 'zne': 5, 'zca': 5, 'uiq': 5, 'wsu': 5, 'bix': 5, 'ixb': 5, 'irz': 5, 'vue': 5, 'ffg': 5, 'jra': 5, 'eiu': 5, 'izm': 5, 'exr': 5, 'rpm': 5, 'rnv': 5, 'pdu': 5, 'wcu': 5, 'biy': 5, 'bao': 5, 'hmy': 5, 'msw': 5, 'wwe': 5, 'niw': 5, 'dts': 5, 'luy': 5, 'ysn': 5, 'wtu': 5, 'afd': 5, 'ayz': 5, 'tix': 5, 'cax': 5, 'hdu': 5, 'xsc': 5, 'zoy': 5, 'bhy': 5, 'ecb': 5, 'opv': 5, 'xba': 5, 'kty': 5, 'llq': 5, 'pyk': 5, 'rpf': 5, 'fui': 5, 'exd': 5, 'eii': 5, 'efc': 5, 'atv': 5, 'nnf': 5, 'aeq': 5, 'bvo': 5, 'ltb': 5, 'ijk': 5, 'gye': 5, 'lmd': 5, 'okf': 5, 'wkn': 5, 'kgo': 5, 'icw': 5, 'wsc': 5, 'ohr': 5, 'guj': 5, 'jev': 5, 'dze': 5, 'hfr': 5, 'ltd': 5, 'wll': 5, 'xup': 5, 'wsb': 5, 'khl': 5, 'esz': 5, 'zke': 5, 'nby': 5, 'pev': 5, 'yov': 5, 'nnw': 5, 'vya': 5, 'zhi': 5, 'kuh': 5, 'ikt': 5, 'pyb': 5, 'wys': 5, 'skn': 5, 'vum': 5, 'skw': 5, 'ugf': 5, 'zba': 5, 'weh': 5, 'yef': 5, 'mja': 5, 'oxw': 5, 'sao': 5, 'fez': 5, 'gsd': 5, 'lsd': 5, 'skm': 5, 'gnt': 5, 'wld': 5, 'tyu': 5, 'zuz': 5, 'uyo': 5, 'dci': 5, 'ubq': 5, 'bqu': 5, 'myk': 5, 'ksn': 5, 'yoz': 5, 'ulz': 5, 'bpu': 5, 'xyn': 5, 'acw': 5, 'iky': 5, 'rlp': 5, 'fva': 5, 'ekp': 5, 'yip': 5, 'saq': 5, 'yax': 5, 'wef': 5, 'dzi': 5, 'wdu': 5, 'wyd': 5, 'acp': 5, 'veu': 5, 'aih': 5, 'dnu': 5, 'tyx': 5, 'omw': 5, 'kih': 5, 'hjo': 5, 'mup': 5, 'vek': 5, 'foy': 5, 'dyr': 5, 'kve': 5, 'kjo': 5, 'gfl': 5, 'evv': 5, 'hmm': 5, 'faq': 5, 'fvi': 5, 'niy': 5, 'itv': 5, 'saj': 5, 'rmd': 5, 'yrd': 5, 'iok': 5, 'rtv': 5, 'cmu': 5, 'ipk': 5, 'wdn': 5, 'ptf': 5, 'eua': 5, 'vev': 5, 'oxn': 5, 'vyl': 5, 'haq': 5, 'cda': 5, 'zik': 5, 'ixh': 5, 'taq': 5, 'lkf': 5, 'gsv': 5, 'asf': 5, 'pii': 5, 'hiq': 5, 'khm': 5, 'xau': 5, 'owu': 5, 'wup': 5, 'fno': 5, 'gja': 5, 'apj': 5, 'fju': 5, 'amg': 5, 'gsn': 5, 'nyd': 5, 'ahv': 5, 'ouj': 5, 'huy': 5, 'azt': 5, 'pja': 5, 'szo': 5, 'hsl': 5, 'dwh': 5, 'fgh': 5, 'hve': 5, 'mvo': 5, 'tlu': 5, 'vve': 5, 'itj': 5, 'sny': 5, 'jik': 5, 'gcl': 5, 'fuf': 5, 'stj': 5, 'zhe': 5, 'dnt': 5, 'vyh': 5, 'fhu': 5, 'ltn': 5, 'lml': 5, 'cnu': 5, 'svo': 5, 'uok': 5, 'cpa': 5, 'axf': 5, 'dpu': 5, 'wfr': 5, 'okn': 5, 'dsn': 5, 'ruj': 5, 'yjo': 5, 'yhu': 5, 'efd': 5, 'aht': 5, 'hsw': 5, 'aix': 5, 'rlw': 5, 'myb': 5, 'msd': 5, 'zbe': 5, 'xsa': 5, 'srh': 5, 'kcu': 5, 'lza': 5, 'fga': 5, 'jaa': 5, 'avv': 5, 'ofn': 5, 'kue': 5, 'sij': 5, 'aap': 5, 'omh': 5, 'zda': 5, 'tux': 5, 'zov': 5, 'imk': 5, 'gwu': 5, 'nzb': 5, 'zyb': 5, 'wru': 5, 'avd': 5, 'hgu': 5, 'abw': 5, 'osd': 5, 'osr': 5, 'spc': 5, 'duu': 5, 'wta': 5, 'iio': 5, 'oyr': 5, 'vix': 5, 'sds': 5, 'xeo': 5, 'eku': 5, 'cso': 5, 'fub': 5, 'ayk': 5, 'hgi': 5, 'afb': 5, 'byg': 5, 'ucs': 5, 'apk': 5, 'kye': 5, 'ofd': 5, 'msf': 5, 'mnl': 5, 'wev': 4, 'ddm': 4, 'tji': 4, 'mcp': 4, 'syh': 4, 'lnd': 4, 'cfl': 4, 'sgm': 4, 'ebf': 4, 'zsa': 4, 'oix': 4, 'puy': 4, 'tms': 4, 'ktu': 4, 'zst': 4, 'rwu': 4, 'ddn': 4, 'rmg': 4, 'yrg': 4, 'lkv': 4, 'xvi': 4, 'fys': 4, 'lmg': 4, 'ahg': 4, 'fhy': 4, 'dij': 4, 'ptt': 4, 'mej': 4, 'skt': 4, 'kts': 4, 'ybb': 4, 'mze': 4, 'pbl': 4, 'ukt': 4, 'ctg': 4, 'zmo': 4, 'skd': 4, 'dwy': 4, 'lmw': 4, 'kuc': 4, 'sgl': 4, 'fsm': 4, 'owj': 4, 'xmo': 4, 'ynk': 4, 'wds': 4, 'uaz': 4, 'nij': 4, 'qad': 4, 'egw': 4, 'lmn': 4, 'siq': 4, 'syk': 4, 'vlo': 4, 'ccs': 4, 'qat': 4, 'cmd': 4, 'tuu': 4, 'dka': 4, 'rrn': 4, 'amv': 4, 'auj': 4, 'jda': 4, 'zaa': 4, 'yii': 4, 'img': 4, 'yoa': 4, 'scp': 4, 'fof': 4, 'hyw': 4, 'wyt': 4, 'fgi': 4, 'pmu': 4, 'bty': 4, 'igp': 4, 'pys': 4, 'ibc': 4, 'vda': 4, 'zus': 4, 'rlh': 4, 'mhi': 4, 'mms': 4, 'xum': 4, 'szt': 4, 'csm': 4, 'kuo': 4, 'wut': 4, 'uoh': 4, 'fgu': 4, 'lkr': 4, 'yxa': 4, 'igj': 4, 'gju': 4, 'mqu': 4, 'kii': 4, 'ebw': 4, 'yhi': 4, 'puj': 4, 'luz': 4, 'yaj': 4, 'jna': 4, 'rkv': 4, 'vye': 4, 'pgu': 4, 'aah': 4, 'yaq': 4, 'naj': 4, 'akv': 4, 'yay': 4, 'ibh': 4, 'lmc': 4, 'bke': 4, 'rrb': 4, 'ekr': 4, 'qur': 4, 'csp': 4, 'thq': 4, 'pva': 4, 'kpu': 4, 'mbw': 4, 'imt': 4, 'xyo': 4, 'tss': 4, 'gnb': 4, 'jue': 4, 'ufs': 4, 'ggh': 4, 'opj': 4, 'pje': 4, 'diy': 4, 'rpp': 4, 'mpc': 4, 'kht': 4, 'wwr': 4, 'zoq': 4, 'bkh': 4, 'gys': 4, 'uau': 4, 'yoo': 4, 'kph': 4, 'bva': 4, 'ymr': 4, 'kyj': 4, 'oyh': 4, 'ioo': 4, 'bgo': 4, 'icq': 4, 'cyw': 4, 'wtr': 4, 'xro': 4, 'udt': 4, 'xae': 4, 'uzu': 4, 'fci': 4, 'ixu': 4, 'sja': 4, 'yao': 4, 'emr': 4, 'yek': 4, 'pyd': 4, 'ecq': 4, 'fye': 4, 'csc': 4, 'tsn': 4, 'bga': 4, 'cvo': 4, 'vyw': 4, 'izu': 4, 'auw': 4, 'rgn': 4, 'fve': 4, 'mjo': 4, 'uob': 4, 'wka': 4, 'fkn': 4, 'ltt': 4, 'zmi': 4, 'hph': 4, 'euz': 4, 'sez': 4, 'cdy': 4, 'xtb': 4, 'quu': 4, 'imv': 4, 'iuk': 4, 'irq': 4, 'acb': 4, 'moq': 4, 'zly': 4, 'ohb': 4, 'ofw': 4, 'pgo': 4, 'pjo': 4, 'dsf': 4, 'zte': 4, 'ttf': 4, 'asz': 4, 'ptw': 4, 'hix': 4, 'hja': 4, 'ebn': 4, 'gsc': 4, 'stk': 4, 'zvo': 4, 'idz': 4, 'xof': 4, 'wem': 4, 'mrs': 4, 'ijn': 4, 'yby': 4, 'uiu': 4, 'oow': 4, 'wuz': 4, 'goz': 4, 'bdr': 4, 'cgi': 4, 'lns': 4, 'rtp': 4, 'usw': 4, 'gbl': 4, 'ltg': 4, 'zgi': 4, 'bsk': 4, 'xoe': 4, 'mka': 4, 'mgr': 4, 'aew': 4, 'kmu': 4, 'wyo': 4, 'fhi': 4, 'imj': 4, 'lkb': 4, 'hux': 4, 'mdt': 4, 'bts': 4, 'hrs': 4, 'ecz': 4, 'smp': 4, 'gyv': 4, 'zlo': 4, 'iey': 4, 'dhr': 4, 'gik': 4, 'abp': 4, 'fip': 4, 'rlm': 4, 'cwo': 4, 'fff': 4, 'vna': 4, 'yic': 4, 'fgl': 4, 'efw': 4, 'dza': 4, 'nvy': 4, 'kyf': 4, 'wus': 4, 'eeo': 4, 'iuc': 4, 'wge': 4, 'axp': 4, 'uaj': 4, 'ahz': 4, 'muj': 4, 'eaa': 4, 'jeu': 4, 'jaj': 4, 'dls': 4, 'oiv': 4, 'nuy': 4, 'cuv': 4, 'ysf': 4, 'tdu': 4, 'ptm': 4, 'kij': 4, 'lzo': 4, 'hrm': 4, 'gcr': 4, 'ofb': 4, 'mbk': 4, 'mpd': 4, 'xea': 4, 'koy': 4, 'zto': 4, 'udz': 4, 'ldk': 4, 'dko': 4, 'usg': 4, 'zky': 4, 'diw': 4, 'syz': 4, 'tsd': 4, 'usz': 4, 'zow': 4, 'gmu': 4, 'ezr': 4, 'xra': 4, 'slt': 4, 'dyu': 4, 'ssj': 4, 'npn': 4, 'hax': 4, 'zdi': 4, 'mcf': 4, 'ekw': 4, 'cge': 4, 'dph': 4, 'gnf': 4, 'rsg': 4, 'uzl': 4, 'hsu': 4, 'cfa': 4, 'hls': 4, 'nnd': 4, 'rlf': 4, 'vug': 4, 'lvy': 3, 'acf': 3, 'trp': 3, 'ikn': 3, 'ekf': 3, 'wsg': 3, 'yju': 3, 'fym': 3, 'kax': 3, 'jop': 3, 'wsf': 3, 'noq': 3, 'wze': 3, 'efb': 3, 'aqi': 3, 'rfw': 3, 'sdn': 3, 'pij': 3, 'wgl': 3, 'tgn': 3, 'udv': 3, 'izc': 3, 'gtu': 3, 'ivl': 3, 'mgo': 3, 'csh': 3, 'php': 3, 'yoj': 3, 'xbi': 3, 'qam': 3, 'vyd': 3, 'myw': 3, 'scd': 3, 'icv': 3, 'dsr': 3, 'scc': 3, 'psf': 3, 'ncc': 3, 'myp': 3, 'ozn': 3, 'mnn': 3, 'ksd': 3, 'iii': 3, 'waj': 3, 'psn': 3, 'lcd': 3, 'wjo': 3, 'oxp': 3, 'hoq': 3, 'cej': 3, 'foz': 3, 'fyl': 3, 'ylf': 3, 'bym': 3, 'khw': 3, 'gez': 3, 'aij': 3, 'iud': 3, 'guh': 3, 'cba': 3, 'cpt': 3, 'mpg': 3, 'mcs': 3, 'dcc': 3, 'uoo': 3, 'scm': 3, 'lsf': 3, 'ahh': 3, 'crc': 3, 'ujd': 3, 'gke': 3, 'ghq': 3, 'brz': 3, 'rzy': 3, 'cfu': 3, 'ttc': 3, 'hej': 3, 'dcm': 3, 'lwu': 3, 'axu': 3, 'mnb': 3, 'wkb': 3, 'brn': 3, 'baq': 3, 'ruh': 3, 'ldv': 3, 'aeh': 3, 'lpm': 3, 'rkg': 3, 'xbr': 3, 'wix': 3, 'pnu': 3, 'wsn': 3, 'vej': 3, 'wud': 3, 'cwa': 3, 'bgy': 3, 'umq': 3, 'vle': 3, 'izr': 3, 'gcy': 3, 'cbe': 3, 'dlc': 3, 'oyk': 3, 'ixg': 3, 'xga': 3, 'cgu': 3, 'zok': 3, 'aoh': 3, 'mgu': 3, 'wek': 3, 'xdo': 3, 'gyg': 3, 'okd': 3, 'hhu': 3, 'cuz': 3, 'ahb': 3, 'ggb': 3, 'sdy': 3, 'lcs': 3, 'zzw': 3, 'nyv': 3, 'jaf': 3, 'upv': 3, 'tzl': 3, 'doj': 3, 'ddf': 3, 'zzb': 3, 'bpy': 3, 'nnb': 3, 'oyg': 3, 'ttg': 3, 'umj': 3, 'oxd': 3, 'hzo': 3, 'tmy': 3, 'aoe': 3, 'rnk': 3, 'dzu': 3, 'wyf': 3, 'zug': 3, 'ptc': 3, 'ghv': 3, 'dss': 3, 'cwr': 3, 'juz': 3, 'woy': 3, 'mdf': 3, 'ugd': 3, 'ebc': 3, 'bcd': 3, 'xcy': 3, 'hiy': 3, 'zys': 3, 'suu': 3, 'gyt': 3, 'kge': 3, 'fge': 3, 'aiq': 3, 'rgm': 3, 'itg': 3, 'bcy': 3, 'xbu': 3, 'pih': 3, 'huo': 3, 'duy': 3, 'tls': 3, 'kox': 3, 'aom': 3, 'zuk': 3, 'zkr': 3, 'muo': 3, 'wpu': 3, 'vyf': 3, 'ctd': 3, 'pwh': 3, 'iup': 3, 'iej': 3, 'diq': 3, 'gox': 3, 'suw': 3, 'zwa': 3, 'nnl': 3, 'miy': 3, 'aax': 3, 'wve': 3, 'hyk': 3, 'msv': 3, 'oao': 3, 'igv': 3, 'ylk': 3, 'lku': 3, 'smr': 3, 'faa': 3, 'cpr': 3, 'auq': 3, 'tby': 3, 'ixw': 3, 'xwh': 3, 'rfd': 3, 'nyg': 3, 'cms': 3, 'lcm': 3, 'iaw': 3, 'ooy': 3, 'euw': 3, 'pce': 3, 'cbl': 3, 'mmh': 3, 'ppp': 3, 'rgw': 3, 'vez': 3, 'tck': 3, 'rbt': 3, 'faj': 3, 'rbb': 3, 'xna': 3, 'vga': 3, 'ouy': 3, 'htk': 3, 'gex': 3, 'rfy': 3, 'yka': 3, 'pdl': 3, 'gva': 3, 'joz': 3, 'gaj': 3, 'evl': 3, 'ipj': 3, 'otk': 3, 'vyt': 3, 'xsp': 3, 'ezv': 3, 'wex': 3, 'tll': 3, 'wlp': 3, 'afw': 3, 'vaf': 3, 'lwy': 3, 'ekb': 3, 'ynh': 3, 'gnn': 3, 'fni': 3, 'nwy': 3, 'byv': 3, 'tps': 3, 'mcq': 3, 'ihl': 3, 'gje': 3, 'cct': 3, 'ggm': 3, 'pyw': 3, 'afc': 3, 'ymt': 3, 'swc': 3, 'wia': 3, 'xfu': 3, 'dao': 3, 'sbc': 3, 'drs': 3, 'yua': 3, 'afk': 3, 'ryj': 3, 'amj': 3, 'ofj': 3, 'wnu': 3, 'ooj': 3, 'nyu': 3, 'duq': 3, 'hge': 3, 'noj': 3, 'yuz': 3, 'trh': 3, 'ixr': 3, 'wec': 3, 'smd': 3, 'foh': 3, 'mju': 3, 'aez': 3, 'lpy': 3, 'ncm': 3, 'hnk': 3, 'yrp': 3, 'huh': 3, 'rrg': 3, 'yil': 3, 'npy': 3, 'rfp': 3, 'gby': 3, 'dhs': 3, 'ofc': 3, 'ioq': 3, 'zsi': 3, 'bsf': 3, 'zla': 3, 'ndz': 3, 'axh': 3, 'ihr': 3, 'alx': 3, 'wts': 3, 'vih': 3, 'mcu': 3, 'ocm': 3, 'cls': 3, 'suj': 3, 'pyn': 3, 'frc': 3, 'gij': 3, 'rbh': 3, 'bhc': 3, 'zev': 3, 'vni': 3, 'xso': 3, 'ffk': 3, 'ooo': 3, 'fwe': 3, 'ubk': 3, 'gvo': 3, 'zub': 3, 'syv': 3, 'xfe': 3, 'frs': 3, 'izt': 3, 'uhn': 3, 'avg': 3, 'bps': 3, 'bja': 3, 'wlw': 3, 'jif': 3, 'rlc': 3, 'kby': 3, 'hrh': 3, 'fke': 3, 'fuj': 3, 'veq': 3, 'hsv': 3, 'zut': 3, 'daq': 3, 'bss': 3, 'tdw': 3, 'zbo': 3, 'uun': 3, 'xun': 3, 'akd': 3, 'ajj': 3, 'xyu': 3, 'kci': 3, 'fwr': 3, 'huv': 3, 'csd': 3, 'sgt': 3, 'crn': 3, 'ggn': 3, 'oxm': 3, 'lmf': 3, 'ieq': 3, 'paf': 3, 'pci': 3, 'dbm': 3, 'tuq': 3, 'tuy': 3, 'ezb': 3, 'lng': 3, 'wyv': 3, 'wgh': 3, 'ghk': 3, 'afm': 3, 'ezc': 3, 'zna': 3, 'duj': 3, 'hze': 3, 'oxg': 3, 'ewu': 3, 'usv': 3, 'ioj': 3, 'ezl': 3, 'ugp': 3, 'kui': 3, 'kyk': 3, 'xla': 3, 'okp': 3, 'dwu': 3, 'lkc': 3, 'xir': 3, 'brd': 3, 'daa': 3, 'idk': 3, 'aae': 3, 'muy': 3, 'uwe': 3, 'ucn': 3, 'ttt': 3, 'mgi': 3, 'ikv': 3, 'odv': 3, 'amk': 3, 'mwr': 3, 'evn': 3, 'fna': 3, 'src': 3, 'eoo': 3, 'buq': 3, 'vob': 3, 'mds': 3, 'gyw': 3, 'vaj': 3, 'rcn': 3, 'cwi': 3, 'lje': 3, 'kje': 3, 'ofh': 3, 'twy': 3, 'epk': 3, 'csb': 3, 'boq': 3, 'ccc': 3, 'ccm': 3, 'zta': 3, 'wsy': 3, 'iwh': 3, 'xlo': 3, 'oyb': 3, 'biw': 3, 'sfm': 3, 'rbm': 3, 'ubz': 3, 'yub': 3, 'gok': 3, 'pcs': 3, 'azn': 3, 'edj': 3, 'dux': 3, 'jao': 3, 'mbp': 3, 'vij': 2, 'jie': 2, 'smt': 2, 'mtp': 2, 'bld': 2, 'iay': 2, 'ocq': 2, 'gmg': 2, 'zyw': 2, 'unx': 2, 'htj': 2, 'ssq': 2, 'syq': 2, 'cnc': 2, 'izh': 2, 'wsr': 2, 'hnd': 2, 'qus': 2, 'fms': 2, 'vsa': 2, 'gps': 2, 'izn': 2, 'izl': 2, 'lnr': 2, 'mym': 2, 'oxv': 2, 'ddp': 2, 'lsr': 2, 'zyz': 2, 'xby': 2, 'ihf': 2, 'ezh': 2, 'atj': 2, 'kuy': 2, 'uyu': 2, 'dvm': 2, 'okc': 2, 'cpl': 2, 'hkh': 2, 'xru': 2, 'uov': 2, 'vui': 2, 'xxi': 2, 'plt': 2, 'ccf': 2, 'osv': 2, 'zni': 2, 'tmr': 2, 'brc': 2, 'weo': 2, 'cik': 2, 'auy': 2, 'uyn': 2, 'zay': 2, 'hnb': 2, 'tlb': 2, 'ddj': 2, 'xyq': 2, 'pyu': 2, 'oaq': 2, 'tzn': 2, 'ykt': 2, 'uxh': 2, 'xmi': 2, 'mgh': 2, 'xou': 2, 'kig': 2, 'rgb': 2, 'ppm': 2, 'crf': 2, 'mdm': 2, 'lpn': 2, 'ufy': 2, 'rfh': 2, 'vmr': 2, 'ukd': 2, 'kdu': 2, 'xde': 2, 'tcm': 2, 'zyc': 2, 'vyg': 2, 'cmg': 2, 'rft': 2, 'mgl': 2, 'ffd': 2, 'rlg': 2, 'efm': 2, 'mcy': 2, 'twu': 2, 'xaf': 2, 'ihs': 2, 'uyp': 2, 'cyz': 2, 'uxb': 2, 'uug': 2, 'psv': 2, 'xjo': 2, 'uzy': 2, 'zui': 2, 'hwu': 2, 'ldj': 2, 'rmv': 2, 'wym': 2, 'uaq': 2, 'xav': 2, 'tdd': 2, 'mcb': 2, 'upk': 2, 'ufk': 2, 'ajn': 2, 'ltj': 2, 'nhs': 2, 'bsw': 2, 'fuk': 2, 'uii': 2, 'nxl': 2, 'awz': 2, 'wzy': 2, 'evz': 2, 'gml': 2, 'qwa': 2, 'yib': 2, 'rhn': 2, 'obk': 2, 'pcd': 2, 'cdc': 2, 'wgu': 2, 'eoy': 2, 'zeq': 2, 'yik': 2, 'nuv': 2, 'vko': 2, 'zwo': 2, 'csr': 2, 'srs': 2, 'xex': 2, 'jsw': 2, 'siy': 2, 'ciq': 2, 'obp': 2, 'jom': 2, 'fek': 2, 'ugc': 2, 'chz': 2, 'rlr': 2, 'skf': 2, 'zau': 2, 'zeh': 2, 'etj': 2, 'wph': 2, 'rww': 2, 'ebk': 2, 'fyt': 2, 'mmd': 2, 'plp': 2, 'nfy': 2, 'uut': 2, 'aaw': 2, 'cwm': 2, 'wms': 2, 'vuc': 2, 'dcf': 2, 'jno': 2, 'hhy': 2, 'adq': 2, 'ynr': 2, 'qwl': 2, 'dms': 2, 'vaz': 2, 'jeg': 2, 'lmp': 2, 'vto': 2, 'poq': 2, 'ohp': 2, 'ebm': 2, 'gji': 2, 'ydt': 2, 'ahj': 2, 'fvo': 2, 'ddc': 2, 'ikd': 2, 'kdi': 2, 'doq': 2, 'gyd': 2, 'ozh': 2, 'zho': 2, 'cfh': 2, 'ziw': 2, 'hrd': 2, 'mll': 2, 'fiq': 2, 'whm': 2, 'xfa': 2, 'pmp': 2, 'jca': 2, 'uzm': 2, 'bsd': 2, 'nww': 2, 'fcy': 2, 'crl': 2, 'mbt': 2, 'rzu': 2, 'uwi': 2, 'iub': 2, 'vax': 2, 'aiu': 2, 'ukc': 2, 'ruq': 2, 'prm': 2, 'azg': 2, 'zga': 2, 'icb': 2, 'gce': 2, 'vut': 2, 'dnc': 2, 'dsq': 2, 'xgo': 2, 'smg': 2, 'ziv': 2, 'yck': 2, 'mnw': 2, 'hdw': 2, 'zsk': 2, 'yft': 2, 'aow': 2, 'ydy': 2, 'fii': 2, 'tcc': 2, 'stz': 2, 'ezf': 2, 'fiu': 2, 'uul': 2, 'clc': 2, 'csw': 2, 'sji': 2, 'cbo': 2, 'spt': 2, 'rrk': 2, 'zwe': 2, 'mru': 2, 'mtt': 2, 'nmr': 2, 'hwy': 2, 'yrc': 2, 'lkd': 2, 'bns': 2, 'nzu': 2, 'rgg': 2, 'uxy': 2, 'xwi': 2, 'mty': 2, 'uoa': 2, 'cve': 2, 'rbw': 2, 'wiy': 2, 'iyn': 2, 'aof': 2, 'psr': 2, 'yoy': 2, 'zny': 2, 'sls': 2, 'ppt': 2, 'cbi': 2, 'uyg': 2, 'htv': 2, 'wew': 2, 'xix': 2, 'iwb': 2, 'emh': 2, 'ezq': 2, 'zqu': 2, 'cdr': 2, 'puu': 2, 'huu': 2, 'vss': 2, 'shj': 2, 'sml': 2, 'suh': 2, 'ozc': 2, 'zco': 2, 'rcc': 2, 'ixd': 2, 'xov': 2, 'fyf': 2, 'yff': 2, 'gyf': 2, 'ddb': 2, 'ftd': 2, 'nnm': 2, 'cfs': 2, 'gtz': 2, 'hgl': 2, 'khr': 2, 'ihw': 2, 'kug': 2, 'rsr': 2, 'dtc': 2, 'lzh': 2, 'npt': 2, 'lck': 2, 'epv': 2, 'ewk': 2, 'iic': 2, 'khn': 2, 'xfl': 2, 'lbm': 2, 'bgu': 2, 'kgi': 2, 'acg': 2, 'rpc': 2, 'hlb': 2, 'cpi': 2, 'ynw': 2, 'pgl': 2, 'yaa': 2, 'iww': 2, 'jks': 2, 'ekd': 2, 'ekm': 2, 'mbc': 2, 'izg': 2, 'fka': 2, 'nvl': 2, 'hyf': 2, 'zzm': 2, 'zme': 2, 'bsg': 2, 'otj': 2, 'mnd': 2, 'yds': 2, 'hrw': 2, 'jof': 2, 'whs': 2, 'gts': 2, 'kga': 2, 'gdu': 2, 'mnt': 2, 'ziq': 2, 'dny': 2, 'uhs': 2, 'grd': 2, 'ddd': 2, 'uzb': 2, 'vmc': 2, 'mmf': 2, 'hdl': 2, 'nnn': 2, 'mua': 2, 'vso': 2, 'fps': 2, 'pds': 2, 'hkn': 2, 'kuf': 2, 'mss': 2, 'nkv': 2, 'szi': 2, 'hce': 2, 'wbs': 2, 'ocz': 2, 'cfe': 2, 'pmt': 2, 'avk': 2, 'gyo': 2, 'svs': 2, 'iyu': 2, 'ynf': 2, 'ncb': 2, 'mje': 2, 'rvl': 2, 'rrv': 2, 'cbc': 2, 'hby': 2, 'kju': 2, 'azs': 2, 'kwu': 2, 'srb': 2, 'osf': 2, 'zuo': 2, 'ppb': 2, 'xsk': 2, 'muu': 2, 'lmt': 2, 'uvy': 2, 'srt': 2, 'nhr': 2, 'ezn': 2, 'apg': 2, 'vte': 2, 'vsx': 2, 'nfw': 2, 'rrl': 2, 'jpu': 2, 'soq': 2, 'rpg': 2, 'hlg': 2, 'dpc': 2, 'cyf': 2, 'ahk': 2, 'ulq': 2, 'cyi': 2, 'jds': 2, 'wij': 2, 'elq': 2, 'tpc': 2, 'odj': 2, 'uvs': 2, 'spf': 2, 'lkg': 2, 'uxl': 2, 'ntq': 2, 'rfg': 2, 'spm': 2, 'gnd': 2, 'hji': 2, 'sza': 2, 'woi': 2, 'lzb': 2, 'zbr': 2, 'ioy': 2, 'pby': 2, 'ozs': 2, 'xai': 2, 'iie': 2, 'xre': 2, 'yml': 2, 'pct': 2, 'bvm': 2, 'iyi': 2, 'pdy': 2, 'psg': 2, 'voz': 2, 'ehk': 2, 'csu': 2, 'qsh': 2, 'wss': 2, 'syg': 2, 'emg': 2, 'skh': 2, 'pdp': 2, 'fuh': 2, 'kza': 2, 'lcg': 2, 'tsg': 2, 'lcc': 2, 'peq': 2, 'ovr': 2, 'ugt': 2, 'mtb': 2, 'ksg': 2, 'fiy': 2, 'zri': 2, 'ndq': 2, 'byj': 2, 'ufm': 2, 'csv': 2, 'fln': 2, 'ppn': 2, 'dgs': 2, 'hrz': 2, 'lbs': 2, 'fdm': 2, 'vaw': 2, 'cld': 2, 'wbn': 2, 'mzi': 2, 'mmp': 2, 'bgi': 2, 'ieo': 2, 'ddt': 2, 'zko': 2, 'oyw': 2, 'bsr': 2, 'tzt': 2, 'iip': 2, 'iwy': 2, 'tbs': 2, 'xsw': 2, 'efn': 2, 'tzb': 2, 'nux': 2, 'ouu': 2, 'wyb': 2, 'omj': 2, 'egp': 2, 'iiu': 2, 'gve': 2, 'xoz': 2, 'hiw': 2, 'tdm': 2, 'mrc': 2, 'rpv': 2, 'krs': 2, 'ihd': 2, 'wmu': 2, 'vcc': 2, 'wih': 2, 'zvi': 2, 'ttb': 2, 'mgy': 2, 'okv': 2, 'aqa': 2, 'zka': 2, 'exn': 2, 'ecg': 2, 'cgo': 2, 'cuj': 2, 'azm': 2, 'bms': 2, 'koj': 2, 'qar': 2, 'wlf': 2, 'nff': 2, 'cix': 2, 'ogv': 2, 'sdc': 2, 'ulx': 2, 'aex': 2, 'nuu': 2, 'szy': 2, 'jja': 2, 'meq': 2, 'zyh': 2, 'frd': 2, 'gng': 2, 'fja': 2, 'buj': 2, 'tsr': 2, 'awv': 2, 'mji': 2, 'kej': 2, 'tww': 2, 'azp': 2, 'hlh': 2, 'guv': 2, 'lmb': 2, 'ztl': 2, 'rzb': 2, 'goq': 2, 'vkh': 2, 'duh': 2, 'dty': 2, 'nzd': 2, 'ogj': 2, 'wyk': 2, 'ucd': 2, 'aai': 2, 'zaw': 2, 'xee': 2, 'xbl': 2, 'egk': 2, 'azr': 2, 'mza': 2, 'brh': 2, 'tng': 2, 'dns': 2, 'ltv': 2, 'zup': 2, 'zyi': 2, 'eaq': 2, 'mft': 2, 'mtm': 2, 'uvo': 2, 'fsf': 2, 'btc': 2, 'fok': 2, 'cyx': 2, 'zyn': 2, 'cpe': 2, 'bka': 2, 'wkl': 2, 'aek': 2, 'jeq': 2, 'mcw': 2, 'ovg': 2, 'vne': 2, 'omg': 2, 'zhy': 2, 'tzg': 2, 'uxs': 2, 'tiy': 2, 'ibm': 2, 'ozu': 2, 'gph': 2, 'icg': 2, 'prs': 2, 'iih': 2, 'ksf': 2, 'auu': 2, 'zro': 2, 'pka': 2, 'xyf': 2, 'iaq': 2, 'cug': 2, 'ezm': 2, 'czy': 2, 'eij': 2, 'grn': 2, 'ovv': 2, 'rcg': 2, 'iua': 2, 'ijs': 2, 'ziu': 2, 'ptb': 2, 'wez': 2, 'egt': 2, 'vvl': 2, 'kvo': 2, 'lpw': 2, 'wcs': 2, 'ctw': 2, 'piw': 2, 'ctc': 2, 'yig': 2, 'kkl': 2, 'rgf': 2, 'mdl': 2, 'ahc': 2, 'jiu': 2, 'iuj': 2, 'jko': 2, 'qin': 2, 'izb': 2, 'cws': 2, 'yrf': 2, 'tzv': 2, 'nft': 2, 'svr': 2, 'bdl': 2, 'cbr': 2, 'vlt': 2, 'vpa': 2, 'ifd': 2, 'qai': 2, 'pbs': 2, 'uih': 2, 'gty': 2, 'fsb': 2, 'xeq': 2, 'vzo': 2, 'mvs': 2, 'wao': 2, 'ckq': 2, 'kqu': 2, 'lrb': 2, 'bcs': 2, 'ktp': 2, 'lmh': 2, 'ncz': 2, 'cwh': 2, 'eay': 2, 'bzo': 2, 'tpy': 2, 'ibg': 2, 'ajr': 2, 'bfm': 2, 'ggc': 2, 'hza': 2, 'csk': 2, 'yez': 2, 'qum': 2, 'aqq': 2, 'dgw': 2, 'gnp': 2, 'eih': 2, 'sld': 2, 'bsq': 2, 'cvs': 2, 'yln': 2, 'mmm': 2, 'azk': 2, 'dll': 2, 'vox': 2, 'hsb': 2, 'khz': 2, 'ygh': 2, 'ppc': 2, 'pcc': 2, 'ezp': 2, 'ykh': 2, 'mrt': 2, 'wky': 2, 'bsb': 2, 'vms': 2, 'xgr': 2, 'bds': 2, 'jyn': 2, 'mfs': 2, 'cga': 2, 'tzf': 2, 'mhu': 2, 'wlu': 2, 'jek': 1, 'fgn': 1, 'ivn': 1, 'kyz': 1, 'ypw': 1, 'mwt': 1, 'hdk': 1, 'dkf': 1, 'zzs': 1, 'rhs': 1, 'nxs': 1, 'bcm': 1, 'uxw': 1, 'ccn': 1, 'ayj': 1, 'fhr': 1, 'gyc': 1, 'nmn': 1, 'ddw': 1, 'dfm': 1, 'qia': 1, 'psd': 1, 'hlw': 1, 'pfd': 1, 'iyy': 1, 'fuy': 1, 'zii': 1, 'gnw': 1, 'kkk': 1, 'hcd': 1, 'yzz': 1, 'zyv': 1, 'uho': 1, 'nlb': 1, 'vmm': 1, 'bwr': 1, 'zhn': 1, 'hps': 1, 'njr': 1, 'wkh': 1, 'joj': 1, 'bcp': 1, 'tpk': 1, 'amq': 1, 'mqa': 1, 'grp': 1, 'erx': 1, 'rxa': 1, 'oht': 1, 'crd': 1, 'fpd': 1, 'nhd': 1, 'cva': 1, 'iys': 1, 'gmc': 1, 'crt': 1, 'bkg': 1, 'xak': 1, 'wbc': 1, 'yts': 1, 'acv': 1, 'cvi': 1, 'exk': 1, 'xka': 1, 'vde': 1, 'vof': 1, 'vce': 1, 'otx': 1, 'fwd': 1, 'hnc': 1, 'aog': 1, 'vhf': 1, 'duw': 1, 'nrr': 1, 'yvk': 1, 'cux': 1, 'xtg': 1, 'iqa': 1, 'gbt': 1, 'mts': 1, 'dtm': 1, 'tmf': 1, 'sfn': 1, 'rtk': 1, 'mmk': 1, 'mko': 1, 'pfs': 1, 'dkg': 1, 'frr': 1, 'igk': 1, 'ujy': 1, 'jyl': 1, 'avc': 1, 'abv': 1, 'upq': 1, 'pqu': 1, 'mrp': 1, 'lxe': 1, 'cnt': 1, 'nlt': 1, 'kuw': 1, 'hyv': 1, 'lcp': 1, 'scg': 1, 'nuw': 1, 'uww': 1, 'mmx': 1, 'ibk': 1, 'ivd': 1, 'hgm': 1, 'yzu': 1, 'fdd': 1, 'ixj': 1, 'mdc': 1, 'tnt': 1, 'sql': 1, 'pcn': 1, 'mhf': 1, 'dmp': 1, 'dsx': 1, 'bft': 1, 'fkl': 1, 'hwm': 1, 'pwl': 1, 'lgw': 1, 'dtk': 1, 'aqo': 1, 'qon': 1, 'hyz': 1, 'ksr': 1, 'szk': 1, 'axd': 1, 'rnz': 1, 'nzn': 1, 'vzn': 1, 'oqw': 1, 'waq': 1, 'aqw': 1, 'hlm': 1, 'pym': 1, 'gpc': 1, 'epz': 1, 'pzi': 1, 'ivk': 1, 'suy': 1, 'jax': 1, 'lkp': 1, 'tnc': 1, 'wug': 1, 'jbe': 1, 'mtv': 1, 'swl': 1, 'icz': 1, 'cmh': 1, 'ufc': 1, 'egq': 1, 'gqt': 1, 'qti': 1, 'kex': 1, 'fyd': 1, 'euu': 1, 'ygb': 1, 'pwd': 1, 'bvd': 1, 'vds': 1, 'dtw': 1, 'kmv': 1, 'lpc': 1, 'skg': 1, 'hnl': 1, 'nhg': 1, 'ukn': 1, 'bbb': 1, 'yyi': 1, 'sgh': 1, 'vws': 1, 'bdt': 1, 'gmb': 1, 'qib': 1, 'kgb': 1, 'mhd': 1, 'ynb': 1, 'uij': 1, 'rrm': 1, 'cdi': 1, 'zud': 1, 'ujr': 1, 'ivt': 1, 'vts': 1, 'qan': 1, 'snm': 1, 'lrh': 1, 'uua': 1, 'nyq': 1, 'igc': 1, 'yud': 1, 'qce': 1, 'trf': 1, 'tfd': 1, 'drh': 1, 'rht': 1, 'mlr': 1, 'bsn': 1, 'ptk': 1, 'ywy': 1, 'njy': 1, 'uxr': 1, 'pft': 1, 'nwc': 1, 'nhl': 1, 'yks': 1, 'sbb': 1, 'dbv': 1, 'thx': 1, 'lnt': 1, 'bwh': 1, 'sqq': 1, 'sct': 1, 'qst': 1, 'tpm': 1, 'cfb': 1, 'jiq': 1, 'lfy': 1, 'dcv': 1, 'cck': 1, 'eiw': 1, 'ftk': 1, 'eqs': 1, 'qsp': 1, 'cpc': 1, 'nhw': 1, 'ouo': 1, 'lsn': 1, 'srp': 1, 'xiu': 1, 'vvo': 1, 'wyr': 1, 'cbm': 1, 'acz': 1, 'mbg': 1, 'mrg': 1, 'exg': 1, 'ihn': 1, 'plf': 1, 'xxx': 1, 'nmp': 1, 'trm': 1, 'poj': 1, 'ynp': 1, 'bmr': 1, 'tcz': 1, 'qra': 1, 'rwc': 1, 'zfa': 1, 'dbf': 1, 'dmv': 1, 'kqc': 1, 'yku': 1, 'nzs': 1, 'gbm': 1, 'sgp': 1, 'tgv': 1, 'izs': 1, 'zsl': 1, 'asj': 1, 'eyu': 1, 'xsy': 1, 'vcr': 1, 'ccd': 1, 'rhd': 1, 'swt': 1, 'wtz': 1, 'tzh': 1, 'zhu': 1, 'qto': 1, 'fyr': 1, 'frg': 1, 'wsd': 1, 'rkk': 1, 'hju': 1, 'ekv': 1, 'sbj': 1, 'sxs': 1, 'jym': 1, 'zyr': 1, 'mzu': 1, 'jho': 1, 'fyo': 1, 'kcs': 1, 'wnk': 1, 'jox': 1, 'ftz': 1, 'efj': 1, 'iws': 1, 'vki': 1, 'phd': 1, 'cps': 1, 'wja': 1, 'mnc': 1, 'mnr': 1, 'nzm': 1, 'ngz': 1, 'gze': 1, 'ifk': 1, 'ruu': 1, 'nlf': 1, 'aoo': 1, 'fij': 1, 'pfg': 1, 'ejd': 1, 'sgy': 1, 'ajd': 1, 'tft': 1, 'kuv': 1, 'sln': 1, 'trz': 1, 'rbc': 1, 'csf': 1, 'gmt': 1, 'ovp': 1, 'vpr': 1, 'hjn': 1, 'jng': 1, 'bcf': 1, 'rjy': 1, 'buv': 1, 'abz': 1, 'bzi': 1, 'fgs': 1, 'jij': 1, 'axj': 1, 'nfk': 1, 'fua': 1, 'ezk': 1, 'knt': 1, 'ehw': 1, 'cez': 1, 'clw': 1, 'uzj': 1, 'zji': 1, 'uyf': 1, 'srm': 1, 'luq': 1, 'zih': 1, 'xtc': 1, 'gdb': 1, 'zth': 1, 'vyr': 1, 'oyv': 1, 'mdq': 1, 'dqs': 1, 'nsj': 1, 'nwn': 1, 'yuh': 1, 'kft': 1, 'ecm': 1, 'sgn': 1, 'lgm': 1, 'rrf': 1, 'iig': 1, 'phw': 1, 'uao': 1, 'lzu': 1, 'wtk': 1, 'tko': 1, 'lmr': 1, 'mlg': 1, 'aaz': 1, 'ywu': 1, 'slb': 1, 'vsw': 1, 'cgl': 1, 'sdv': 1, 'lbt': 1, 'blk': 1, 'qts': 1, 'yue': 1, 'ehp': 1, 'oaw': 1, 'vhs': 1, 'tyj': 1, 'cpf': 1, 'iiw': 1, 'mkt': 1, 'ktg': 1, 'wii': 1, 'iik': 1, 'iib': 1, 'juo': 1, 'uyk': 1, 'evt': 1, 'vtu': 1, 'nxm': 1, 'gmh': 1, 'qab': 1, 'kyv': 1, 'trd': 1, 'jha': 1, 'qfe': 1, 'ufb': 1, 'fgc': 1, 'ohd': 1, 'voq': 1, 'dgp': 1, 'ugz': 1, 'gzw': 1, 'fyc': 1, 'hcf': 1, 'vyu': 1, 'weu': 1, 'nnk': 1, 'ukp': 1, 'uhf': 1, 'wjc': 1, 'wrv': 1, 'rvs': 1, 'dtj': 1, 'qun': 1, 'wlk': 1, 'yyo': 1, 'dsz': 1, 'vgi': 1, 'nld': 1, 'cfi': 1, 'ozm': 1, 'sfs': 1, 'fsr': 1, 'wty': 1, 'hlq': 1, 'lqn': 1, 'hpt': 1, 'jnh': 1, 'pfp': 1, 'vao': 1, 'aoq': 1, 'rdk': 1, 'tmm': 1, 'brr': 1, 'rrr': 1, 'odq': 1, 'exb': 1, 'exx': 1, 'bht': 1, 'gci': 1, 'uaa': 1, 'bmh': 1, 'wby': 1, 'mtl': 1, 'yoq': 1, 'lgj': 1, 'vst': 1, 'tgt': 1, 'xeb': 1, 'wvo': 1, 'uxf': 1, 'cpw': 1, 'klj': 1, 'vyy': 1, 'crg': 1, 'aav': 1, 'efh': 1, 'xmm': 1, 'nfj': 1, 'bnf': 1, 'tdc': 1, 'stq': 1, 'myh': 1, 'lrz': 1, 'rzc': 1, 'kvd': 1, 'hsq': 1, 'bfh': 1, 'fhd': 1, 'viy': 1, 'hbp': 1, 'muq': 1, 'snc': 1, 'ncf': 1, 'ncv': 1, 'rhv': 1, 'frp': 1, 'cvt': 1, 'eiy': 1, 'prf': 1, 'tkt': 1, 'ctz': 1, 'fph': 1, 'scb': 1, 'twb': 1, 'rrd': 1, 'flr': 1, 'uex': 1, 'ehc': 1, 'zej': 1, 'yxj': 1, 'xju': 1, 'mku': 1, 'hnv': 1, 'obg': 1, 'wwm': 1, 'wmc': 1, 'fsd': 1, 'hsn': 1, 'ehg': 1, 'mdy': 1, 'vfs': 1, 'jmx': 1, 'fao': 1, 'tfn': 1, 'ajm': 1, 'jme': 1, 'ryy': 1, 'dnh': 1, 'bvy': 1, 'xda': 1, 'hmt': 1, 'dhh': 1, 'hhs': 1, 'egd': 1, 'ukb': 1, 'vtv': 1, 'tvm': 1, 'mny': 1, 'dmk': 1, 'vlf': 1, 'obz': 1, 'bzh': 1, 'xcz': 1, 'wuh': 1, 'rtj': 1, 'zyu': 1, 'msq': 1, 'iuv': 1, 'eqn': 1, 'qna': 1, 'zno': 1, 'fwn': 1, 'wdt': 1, 'ajp': 1, 'crz': 1, 'yav': 1, 'lyj': 1, 'vfy': 1, 'flt': 1, 'rzr': 1, 'zru': 1, 'pcm': 1, 'mtx': 1, 'jex': 1, 'wyp': 1, 'vfe': 1, 'cbu': 1, 'ojd': 1, 'mmb': 1, 'qli': 1, 'wci': 1, 'lvn': 1, 'rgt': 1, 'pbx': 1, 'ovl': 1, 'bkp': 1, 'kpt': 1, 'omq': 1, 'fss': 1, 'vny': 1, 'iaj': 1, 'vuo': 1, 'ohj': 1, 'tjg': 1, 'cgx': 1, 'rwy': 1, 'mfh': 1, 'gmp': 1, 'zsv': 1, 'gax': 1, 'pkg': 1, 'kgs': 1, 'byy': 1, 'wsj': 1, 'olx': 1, 'lxa': 1, 'uhq': 1, 'jsc': 1, 'crs': 1, 'vhd': 1, 'ajc': 1, 'izv': 1, 'zch': 1, 'yui': 1, 'ptd': 1, 'wox': 1, 'zti': 1, 'skp': 1, 'nzw': 1, 'rtq': 1, 'jiz': 1, 'zya': 1, 'frl': 1, 'tjc': 1, 'bmg': 1, 'bpd': 1, 'vme': 1, 'xew': 1, 'rdx': 1, 'ikz': 1, 'zyp': 1, 'lhs': 1, 'lbw': 1, 'bkt': 1, 'izw': 1, 'emz': 1, 'mzl': 1, 'kny': 1, 'ihc': 1, 'qid': 1, 'mdn': 1, 'uxd': 1, 'lbh': 1, 'zaj': 1, 'wmk': 1, 'jfe': 1, 'vdp': 1, 'rzh': 1, 'ruw': 1, 'wbw': 1, 'lpv': 1, 'ebg': 1, 'spd': 1, 'qiv': 1, 'cft': 1, 'ytm': 1, 'plc': 1, 'pms': 1, 'phz': 1, 'hzi': 1, 'pkt': 1, 'xdm': 1, 'dmc': 1, 'cnr': 1, 'uyh': 1, 'yhn': 1, 'hnh': 1, 'nhn': 1, 'hnm': 1, 'cwt': 1, 'cyk': 1, 'cfp': 1, 'twl': 1, 'vse': 1, 'wlh': 1, 'tku': 1, 'cdg': 1, 'xno': 1, 'yio': 1, 'lnl': 1, 'wrd': 1, 'juf': 1, 'nwb': 1, 'rbd': 1, 'mgm': 1, 'pbb': 1, 'ivb': 1, 'wpc': 1, 'xhl': 1, 'uzh': 1, 'fko': 1, 'nyz': 1, 'ktz': 1, 'ncd': 1, 'bfd': 1, 'wgo': 1, 'vuv': 1, 'gyz': 1, 'pny': 1, 'wmm': 1, 'dfc': 1, 'osz': 1, 'ipx': 1, 'hlr': 1, 'ymk': 1, 'mkh': 1, 'ovn': 1, 'vno': 1, 'brl': 1, 'gsg': 1, 'onx': 1, 'qms': 1, 'ecv': 1, 'ncn': 1, 'yiu': 1, 'nuj': 1, 'sqa': 1, 'dpw': 1, 'mdg': 1, 'mub': 1, 'vun': 1, 'ytl': 1, 'ahf': 1, 'slr': 1, 'fcs': 1, 'wdb': 1, 'nzk': 1, 'jji': 1, 'mfb': 1, 'pdf': 1, 'rrp': 1, 'yhm': 1, 'hcs': 1, 'tcg': 1, 'pmx': 1, 'pbd': 1, 'sck': 1, 'nrp': 1, 'swy': 1, 'omz': 1, 'zax': 1, 'oaa': 1, 'jip': 1, 'plz': 1, 'xui': 1, 'aok': 1, 'bmv': 1, 'ctp': 1, 'cvc': 1, 'dpp': 1, 'nzv': 1, 'lwp': 1, 'nlc': 1, 'cfm': 1, 'nkj': 1, 'ahp': 1, 'zix': 1, 'muv': 1, 'swb': 1, 'kwt': 1, 'rzk': 1, 'wlb': 1, 'czk': 1, 'wdw': 1, 'mhl': 1, 'ygg': 1, 'ggd': 1, 'ogk': 1, 'wfp': 1, 'fpc': 1, 'eht': 1, 'hpp': 1, 'cdn': 1, 'lmv': 1, 'jhs': 1, 'rnj': 1, 'ocj': 1, 'cje': 1, 'cpu': 1, 'sfc': 1, 'wps': 1, 'nwt': 1, 'tgc': 1, 'pkw': 1, 'kwy': 1, 'ekg': 1, 'mmj': 1, 'zmc': 1, 'uoq': 1, 'jsd': 1, 'bmy': 1, 'axr': 1, 'cdt': 1, 'dcd': 1, 'gdy': 1, 'qmg': 1, 'spw': 1, 'xgu': 1, 'whb': 1, 'qul': 1, 'mgn': 1, 'ymc': 1, 'sfd': 1, 'bbn': 1, 'grx': 1, 'jei': 1, 'lsg': 1, 'cpm': 1, 'vrm': 1, 'bmj': 1, 'zuf': 1, 'zcu': 1, 'flc': 1, 'ujj': 1, 'cih': 1, 'yif': 1, 'bwc': 1, 'yuq': 1, 'gds': 1, 'nbp': 1, 'blf': 1, 'ydl': 1, 'lgk': 1, 'zyd': 1, 'acx': 1, 'cxo': 1, 'xoy': 1, 'jce': 1, 'vfo': 1, 'fcf': 1, 'dmd': 1, 'hmg': 1, 'mtc': 1, 'eaj': 1, 'vrb': 1, 'kvu': 1, 'tks': 1, 'plm': 1, 'ghz': 1, 'xgl': 1, 'prv': 1, 'dfs': 1, 'gtd': 1, 'ozg': 1, 'zgr': 1, 'edq': 1, 'kgl': 1, 'zpi': 1, 'ylw': 1, 'kuz': 1, 'uzn': 1, 'pvo': 1, 'xev': 1, 'rgk': 1, 'gyh': 1, 'crr': 1, 'wva': 1, 'aoa': 1, 'slm': 1, 'scf': 1, 'bkb': 1, 'kbn': 1, 'bnd': 1, 'gsr': 1, 'xhy': 1, 'mrr': 1, 'dcb': 1, 'psq': 1, 'fmc': 1, 'mmn': 1, 'mng': 1, 'awu': 1, 'bhr': 1, 'psb': 1, 'bkl': 1, 'klr': 1, 'viq': 1, 'tlp': 1, 'skv': 1, 'vsr': 1, 'fej': 1, 'rhm': 1, 'hmn': 1, 'ilq': 1, 'shq': 1, 'wuw': 1, 'uwf': 1, 'ojg': 1, 'jga': 1, 'ehb': 1, 'blc': 1, 'ksz': 1, 'szr': 1, 'zrd': 1, 'sng': 1, 'ssx': 1, 'prc': 1, 'bpt': 1, 'rbn': 1, 'mhs': 1, 'quq': 1, 'tqc': 1, 'tfc': 1, 'udk': 1, 'jwa': 1, 'kln': 1, 'jix': 1, 'ijr': 1, 'otq': 1, 'dhv': 1, 'nwm': 1, 'wmp': 1, 'ibp': 1, 'efk': 1, 'fnc': 1, 'tmh': 1, 'puh': 1, 'duz': 1, 'scx': 1, 'kcb': 1, 'vup': 1, 'puq': 1, 'rcb': 1, 'gku': 1, 'mlt': 1, 'hss': 1, 'qrs': 1, 'prz': 1, 'tvr': 1, 'dcp': 1, 'hci': 1, 'clr': 1, 'pls': 1, 'nzl': 1, 'mnm': 1, 'scq': 1, 'bjr': 1, 'blt': 1, 'jio': 1, 'vtr': 1, 'iqr': 1, 'ggp': 1, 'cpd': 1, 'ccv': 1, 'fls': 1, 'npp': 1, 'swg': 1, 'ibf': 1, 'uek': 1, 'bmm': 1, 'pvp': 1, 'hrl': 1, 'ncp': 1, 'vsi': 1, 'mlw': 1, 'lsz': 1, 'kgm': 1, 'hkf': 1, 'tuw': 1, 'uwh': 1, 'kcv': 1, 'uyd': 1, 'apv': 1, 'cll': 1, 'eqr': 1, 'qrc': 1, 'vgo': 1, 'pmc': 1, 'lpg': 1, 'jti': 1, 'wza': 1, 'uqs': 1, 'lbf': 1, 'ifn': 1, 'nzh': 1, 'axn': 1, 'qis': 1, 'zge': 1, 'jge': 1, 'djs': 1, 'ufd': 1, 'ysr': 1, 'olq': 1, 'lqg': 1, 'qgy': 1, 'fhm': 1, 'wuc': 1, 'mrb': 1, 'olj': 1, 'ggw': 1, 'cmt': 1, 'vaq': 1, 'hrr': 1, 'kng': 1, 'dlp': 1, 'zyt': 1, 'cgy': 1, 'ydm': 1, 'pgn': 1, 'zpr': 1, 'rdj': 1, 'nzp': 1, 'zpy': 1, 'vdi': 1, 'sdl': 1, 'lrs': 1, 'xyk': 1, 'lzg': 1, 'pnc': 1, 'sfz': 1, 'ktb': 1, 'uwo': 1, 'aqs': 1, 'nkk': 1, 'uax': 1, 'jmp': 1, 'mcv': 1, 'xuc': 1, 'gms': 1, 'dff': 1, 'rgp': 1, 'ucz': 1, 'usj': 1, 'zlu': 1, 'oih': 1, 'ohw': 1, 'gnh': 1, 'dcy': 1, 'tlt': 1, 'thj': 1, 'xih': 1, 'ijl': 1, 'rcd': 1, 'tnp': 1, 'npk': 1, 'frh': 1, 'jss': 1, 'myu': 1, 'emt': 1, 'wzl': 1, 'qda': 1, 'exv': 1, 'xvo': 1, 'afh': 1, 'tbb': 1, 'emj': 1, 'iuu': 1, 'rsz': 1, 'zre': 1, 'aql': 1, 'ucb': 1, 'mmt': 1, 'ebh': 1, 'uvl': 1, 'cfc': 1, 'vlb': 1, 'uzw': 1, 'wpy': 1, 'gpm': 1, 'aoz': 1, 'drg': 1, 'bwt': 1, 'pux': 1, 'iwu': 1, 'smb': 1, 'lgs': 1, 'khy': 1, 'axg': 1, 'gdn': 1, 'iqs': 1, 'qsy': 1, 'dgk': 1, 'wuf': 1, 'uwc': 1, 'dhp': 1, 'gnc': 1, 'bsj': 1, 'hlv': 1, 'sft': 1, 'aox': 1, 'vgh': 1, 'glh': 1, 'lhw': 1, 'dgt': 1, 'rrc': 1, 'pmr': 1, 'zzu': 1, 'vcu': 1, 'tff': 1, 'fmn': 1, 'lqa': 1, 'uhy': 1, 'ivp': 1, 'tzr': 1, 'trc': 1, 'nyj': 1, 'jnt': 1, 'dcs': 1, 'wkm': 1, 'ybs': 1, 'brg': 1, 'akz': 1, 'ljk': 1, 'owq': 1, 'wqu': 1, 'bcw': 1, 'btm': 1, 'ofg': 1, 'ydb': 1, 'hlc': 1, 'ujs': 1, 'jsa': 1, 'luw': 1, 'dyx': 1, 'lpd': 1, 'bji': 1, 'rqs': 1, 'rsj': 1, 'evx': 1, 'uxn': 1, 'lhd': 1, 'bpc': 1, 'dpn': 1, 'pnh': 1, 'glc': 1, 'lnv': 1, 'crp': 1, 'mhr': 1, 'spp': 1, 'zhd': 1, 'jfs': 1, 'kdd': 1, 'gct': 1, 'rcq': 1, 'czs': 1, 'fdx': 1, 'skc': 1, 'brt': 1, 'twg': 1, 'tbf': 1, 'yrb': 1, 'axk': 1, 'xki': 1, 'dtn': 1, 'aey': 1, 'fcc': 1, 'mxd': 1, 'zoz': 1, 'zva': 1, 'tyq': 1, 'tzd': 1, 'nbb': 1, 'gks': 1, 'vsc': 1, 'kky': 1, 'tcp': 1, 'uzc': 1, 'cuk': 1, 'svc': 1, 'pfb': 1, 'bjn': 1, 'jne': 1, 'lbp': 1, 'ijj': 1, 'nlr': 1, 'dwb': 1, 'rgd': 1, 'qkt': 1, 'xiw': 1, 'voa': 1, 'bnb': 1, 'blr': 1, 'ehq': 1, 'uog': 1, 'tyz': 1, 'rhl': 1, 'rhb': 1, 'grb': 1, 'fyn': 1, 'zyk': 1, 'rbg': 1, 'ibt': 1, 'tcw': 1, 'nnr': 1, 'ekc': 1, 'vcm': 1, 'rmj': 1, 'ydg': 1, 'aoy': 1, 'uxm': 1, 'ccw': 1, 'ajk': 1, 'lhl': 1, 'vnl': 1, 'oxr': 1, 'ojk': 1, 'jki': 1, 'rlk': 1, 'jfk': 1, 'dgh': 1, 'zki': 1, 'lsq': 1, 'tmd': 1, 'hhf': 1, 'dfw': 1, 'zdr': 1, 'tcs': 1, 'mhy': 1, 'izd': 1, 'jcr': 1, 'txt': 1, 'uhw': 1, 'rcf': 1, 'cfo': 1, 'aao': 1, 'mkj': 1, 'evc': 1, 'vch': 1, 'jih': 1, 'cbw': 1, 'cdb': 1, 'blv': 1, 'iuq': 1, 'nrd': 1, 'nqi': 1, 'qil': 1, 'uht': 1, 'fyk': 1, 'vta': 1, 'efz': 1, 'fze': 1, 'mks': 1, 'hsg': 1, 'woj': 1, 'mdx': 1, 'hgn': 1, 'uuc': 1, 'ucp': 1, 'vpi': 1, 'qop': 1, 'uoz': 1, 'nuq': 1, 'exz': 1, 'xzo': 1, 'ezs': 1, 'ezd': 1, 'ukw': 1, 'ivz': 1, 'zgs': 1, 'bvc': 1, 'agv': 1, 'pld': 1, 'nlm': 1, 'cwe': 1, 'cgn': 1, 'cds': 1, 'ifm': 1, 'cmp': 1, 'szc': 1, 'zcz': 1, 'zaq': 1, 'qqu': 1, 'pyj': 1, 'pff': 1, 'fyw': 1, 'qer': 1, 'bzy': 1, 'vdo': 1, 'chq': 1, 'wio': 1, 'icd': 1, 'tuz': 1, 'ttk': 1, 'tky': 1, 'lgn': 1, 'flw': 1, 'ivw': 1, 'bdd': 1, 'flh': 1, 'rcv': 1, 'zbi': 1, 'ozk': 1, 'zku': 1, 'jiw': 1, 'nxx': 1, 'ixn': 1, 'rcp': 1, 'hwd': 1, 'bll': 1, 'evg': 1, 'fuv': 1, 'xyw': 1, 'lkj': 1, 'fsy': 1, 'cyv': 1, 'krn': 1, 'cdp': 1, 'ymw': 1, 'tcb': 1, 'jhe': 1, 'zdo': 1, 'phh': 1, 'hsy': 1, 'cml': 1, 'srg': 1, 'nbv': 1, 'ojp': 1, 'vtc': 1, 'clk': 1, 'mrf': 1, 'pyv': 1, 'yvu': 1, 'efp': 1, 'qnp': 1, 'npg': 1, 'wff': 1, 'sjc': 1, 'crv': 1, 'qqv': 1, 'hzy': 1, 'ijm': 1, 'jma': 1, 'dqd': 1, 'qdb': 1, 'srn': 1, 'pyp': 1, 'nrl': 1, 'qef': 1, 'ykl': 1, 'ijw': 1, 'jwo': 1, 'zfu': 1, 'kdw': 1, 'uyb': 1, 'qla': 1, 'afv': 1, 'fvr': 1, 'gbg': 1, 'hlt': 1, 'vdt': 1, 'dvs': 1, 'ibd': 1, 'hmb': 1, 'nxr': 1, 'xri': 1, 'ttd': 1, 'jre': 1, 'xpy': 1, 'snp': 1, 'fnp': 1, 'brm': 1, 'ptp': 1, 'oiy': 1, 'kld': 1, 'gej': 1, 'sxa': 1, 'azf': 1, 'zfe': 1, 'qiy': 1, 'trt': 1, 'tfx': 1, 'kkt': 1, 'qoh': 1, 'fmg': 1, 'okg': 1, 'fya': 1, 'wkr': 1, 'dsg': 1, 'tuj': 1, 'jct': 1, 'sry': 1, 'dhl': 1, 'gpd': 1, 'dvt': 1, 'dcn': 1, 'cnl': 1, 'mct': 1, 'bcb': 1, 'cbs': 1, 'cns': 1, 'nbf': 1, 'fsw': 1, 'gcm': 1, 'stx': 1, 'txy': 1, 'kyg': 1, 'dkm': 1, 'skb': 1, 'ejk': 1, 'jka': 1, 'grs': 1, 'ckx': 1, 'kxi': 1, 'quv': 1, 'yhw': 1, 'nws': 1, 'rhp': 1, 'nsz': 1, 'sbw': 1, 'uyr': 1, 'drc': 1, 'fuq': 1, 'vgr': 1, 'bsv': 1, 'pfx': 1, 'pvn': 1, 'cmc': 1, 'ajl': 1, 'jli': 1, 'vls': 1, 'tpd': 1, 'itq': 1, 'trn': 1, 'zzz': 1, 'tcd': 1, 'cdf': 1, 'yrv': 1, 'tlf': 1, 'iui': 1, 'vud': 1, 'ofk': 1, 'osj': 1, 'hku': 1, 'ifc': 1, 'uwt': 1, 'glm': 1, 'qub': 1, 'upj': 1, 'wlg': 1, 'ymh': 1, 'mhp': 1, 'byx': 1, 'zzt': 1, 'ahq': 1, 'cnm': 1, 'nms': 1, 'ysd': 1, 'gmr': 1, 'mpj': 1, 'pju': 1, 'eqe': 1, 'qed': 1, 'daj': 1, 'mfy': 1, 'xpt': 1, 'xns': 1, 'khd': 1, 'mhw': 1, 'qbo': 1, 'mtg': 1, 'wdm': 1, 'rpk': 1, 'izk': 1, 'vry': 1, 'suq': 1, 'wyz': 1, 'rcm': 1, 'ffv': 1, 'fvs': 1, 'rfj': 1, 'oip': 1, 'pcf': 1, 'qes': 1, 'dps': 1, 'hvo': 1, 'tln': 1, 'sbm': 1, 'dvc': 1, 'jcd': 1, 'hvr': 1, 'lwm': 1, 'aov': 1, 'tvt': 1, 'vtw': 1, 'twm': 1, 'dsd': 1, 'hdb': 1, 'dbk': 1, 'btw': 1, 'uxg': 1, 'ucg': 1, 'ehf': 1, 'bgp': 1, 'bbx': 1, 'bxr': 1, 'xrt': 1, 'zso': 1, 'vly': 1, 'znk': 1, 'sns': 1, 'dhj': 1, 'hje': 1, 'jtu': 1, 'mvp': 1, 'fnu': 1, 'ikw': 1, 'bbm': 1, 'jpe': 1, 'fbv': 1, 'udj': 1, 'ffj': 1, 'qmc': 1, 'lpp': 1, 'hrv': 1, 'scn': 1, 'kpw': 1, 'lnb': 1, 'tws': 1, 'crw': 1, 'rwt': 1, 'dpm': 1, 'jsr': 1, 'ltk': 1, 'avp': 1, 'zpo': 1, 'ttz': 1, 'qas': 1, 'cbd': 1, 'vbo': 1, 'ozr': 1, 'dsy': 1, 'uwb': 1, 'rbp': 1, 'qir': 1, 'sdf': 1, 'mtu': 1, 'iht': 1, 'fuu': 1, 'qqa': 1, 'vyc': 1, 'ocd': 1, 'pdw': 1, 'nbj': 1, 'fdn': 1, 'lgb': 1, 'fld': 1, 'qso': 1, 'rfn': 1, 'xax': 1, 'hsr': 1, 'nyk': 1, 'gsy': 1, 'vyj': 1, 'xmt': 1, 'dct': 1, 'wiw': 1, 'ljb': 1, 'jbf': 1, 'dtf': 1, 'pvr': 1, 'qtc': 1, 'djy': 1, 'nzt': 1, 'ztr': 1, 'sbd': 1, 'ywd': 1, 'hmp': 1, 'gsf': 1, 'sqd': 1, 'eqf': 1, 'qfc': 1, 'zfr': 1, 'klv': 1, 'bhg': 1, 'nnp': 1, 'pwb': 1, 'xct': 1, 'cmy': 1, 'gcv': 1, 'wrn': 1, 'wyh': 1, 'khp': 1, 'bmt': 1, 'rrw': 1, 'csl': 1, 'tmj': 1, 'mjl': 1, 'jlk': 1, 'cyh': 1, 'uws': 1, 'avm': 1, 'ovm': 1, 'vmi': 1, 'zmr': 1, 'vym': 1, 'eqw': 1, 'csn': 1, 'vsh': 1, 'nrz': 1, 'afp': 1, 'qud': 1, 'jjs': 1, 'vll': 1, 'xyi': 1, 'iue': 1, 'mlc': 1, 'xph': 1, 'bdf': 1, 'lyy': 1, 'yyr': 1, 'mgd': 1, 'hgv': 1, 'zfl': 1, 'pnp': 1, 'tuh': 1, 'gcc': 1, 'ggf': 1, 'sgd': 1, 'fcp': 1, 'lwt': 1, 'fhl': 1, 'jhv': 1, 'hvh': 1, 'oiu': 1, 'kbp': 1, 'nfd': 1})>"
      ]
     },
     "execution_count": 16,
     "metadata": {},
     "output_type": "execute_result"
    }
   ],
   "source": [
    "## 3-gram word\n",
    "s = \"apple\"\n",
    "def split(word,n):\n",
    "    ngram_lists = [word[i:(i+n)] for i in range(len(word)-n+1)]\n",
    "    return ngram_lists\n",
    "\n",
    "total_ngrams = []\n",
    "for w in words_list:\n",
    "    total_ngrams.extend(split(w,3))\n",
    "Counter(total_ngrams).most_common"
   ]
  },
  {
   "cell_type": "code",
   "execution_count": null,
   "id": "6a30eba3",
   "metadata": {},
   "outputs": [],
   "source": [
    "## Create the dictionaties to transform inputs and outputs of the attention model\n",
    "## source vocabulary: change the word \"appl_|____\" to a input tensor [1,16,16,0,27,0,0,0,0] \n",
    "src_vocab = {chr(ord('a')+i):(i+1) for i in range(26)}\n",
    "src_vocab[\"|\"] = 27\n",
    "src_vocab[\"_\"] = 0\n",
    "src_idx2letter = {src_vocab[key]:key for key in src_vocab.keys()}\n",
    "\n",
    "## target vocabulary: change the target letters \"a\" to a output classification tensor [0,1,0,0,0,0,0,0]\n",
    "tgt_vocab = {chr(ord('a')+i):(i+1) for i in range(26)}\n",
    "tgt_vocab[\"end\"] = 0\n",
    "tgt_idx2letter = {tgt_vocab[key]:key for key in tgt_vocab.keys()}"
   ]
  },
  {
   "cell_type": "code",
   "execution_count": 11,
   "id": "7db6d546",
   "metadata": {},
   "outputs": [
    {
     "name": "stdout",
     "output_type": "stream",
     "text": [
      "Current process: 0 / 109999\n",
      "Current process: 20000 / 109999\n",
      "Current process: 40000 / 109999\n",
      "Current process: 60000 / 109999\n",
      "Current process: 80000 / 109999\n",
      "Current process: 100000 / 109999\n",
      "18070665\n",
      "successfully save the inputs data!\n",
      "successfully save the outputs data!\n"
     ]
    }
   ],
   "source": [
    "src_data, tgt_data = generate(words_list_part1)\n",
    "print(len(src_data))\n",
    "\n",
    "## change the input word \"appl_\" to a input tensor [1,16,16,0,27,0,0,0,0,0,...] \n",
    "inputs = []\n",
    "for i in range(len(src_data)):\n",
    "    x = src_data[i] + \"|\"\n",
    "    x = x.ljust(max_len, \"_\")\n",
    "    ip = [src_vocab[c] for c in x]\n",
    "    inputs.append(ip)\n",
    "del src_data\n",
    "\n",
    "## save inputs\n",
    "inputs = torch.LongTensor(inputs)\n",
    "with open(\"instances_part1_ip.pkl\", \"wb\") as f:\n",
    "    pickle.dump(inputs, f)\n",
    "del inputs\n",
    "print(\"successfully save the inputs data!\")\n",
    "\n",
    "#change the target lables [\"a\",\"b\"] to a output classification tensor [0,1,1,0,0,0,0,0,...]\n",
    "outputs = []\n",
    "tgt_size = len(tgt_vocab)\n",
    "for j in range(len(tgt_data)):\n",
    "    tgts = tgt_data[j]\n",
    "    y = [0] * tgt_size\n",
    "    for t in tgts:\n",
    "        y[tgt_vocab[t]] = 1\n",
    "    outputs.append(y)\n",
    "del tgt_data\n",
    "\n",
    "## save outputs\n",
    "outputs = torch.LongTensor(outputs)\n",
    "with open(\"instances_part1_op.pkl\", \"wb\") as f:\n",
    "    pickle.dump(outputs, f)\n",
    "del outputs\n",
    "print(\"successfully save the outputs data!\")"
   ]
  },
  {
   "cell_type": "markdown",
   "id": "2d98b0fa",
   "metadata": {},
   "source": [
    "#### Load the training data"
   ]
  },
  {
   "cell_type": "code",
   "execution_count": 25,
   "id": "f606153a",
   "metadata": {},
   "outputs": [],
   "source": [
    "with open(\"instances_part2_ip.pkl\", \"rb\") as f:\n",
    "    inputs = pickle.load(f)\n",
    "with open(\"instances_part2_op.pkl\", \"rb\") as f:\n",
    "    outputs = pickle.load(f)\n",
    "\n",
    "### make the dataloader\n",
    "class TrainData(data.Dataset):\n",
    "    def __init__(self, model_inputs, model_outputs):\n",
    "        super(TrainData, self).__init__()\n",
    "        self.ip = model_inputs\n",
    "        self.op = torch.Tensor.float(model_outputs)\n",
    "    \n",
    "    def __len__(self):\n",
    "        return self.ip.shape[0]\n",
    "    \n",
    "    def __getitem__(self, idx):\n",
    "        return self.ip[idx], self.op[idx]\n",
    "    \n",
    "loader = data.DataLoader(TrainData(inputs, outputs), batch_size, shuffle = True)    "
   ]
  },
  {
   "cell_type": "code",
   "execution_count": 26,
   "id": "555b2f38",
   "metadata": {},
   "outputs": [
    {
     "name": "stdout",
     "output_type": "stream",
     "text": [
      "torch.Size([19250151, 32])\n",
      "torch.Size([19250151, 27])\n"
     ]
    }
   ],
   "source": [
    "print(inputs.shape)\n",
    "print(outputs.shape)"
   ]
  },
  {
   "cell_type": "markdown",
   "id": "2408e1c3",
   "metadata": {},
   "source": [
    "### Prepare the Network\n"
   ]
  },
  {
   "cell_type": "code",
   "execution_count": 15,
   "id": "a7481f23",
   "metadata": {},
   "outputs": [],
   "source": [
    "from torch.nn import TransformerEncoder, TransformerEncoderLayer\n",
    "\n",
    "### add mask -- which is _ in the words\n",
    "def get_attn_pad_mask(datald):\n",
    "    batch_size, len_q = datald.size()\n",
    "    pad_attn_mask = datald.data.eq(0).unsqueeze(1)\n",
    "    return pad_attn_mask.expand(batch_size, len_q, len_q).cuda()\n",
    "\n",
    "## add position\n",
    "class PositionalEncoding(nn.Module):\n",
    "    def __init__(self, d_model,max_len, dropout=0):\n",
    "        super(PositionalEncoding, self).__init__()\n",
    "        self.dropout = nn.Dropout(p=dropout) \n",
    "        \n",
    "        pos_table = np.array([[pos / np.power(10000, 2 * i / d_model) for i in range(d_model)]\n",
    "                                if pos != 0 else np.zeros(d_model) for pos in range(max_len)])\n",
    "        pos_table[1:, 0::2] = np.sin(pos_table[1:, 0::2])                  \n",
    "        pos_table[1:, 1::2] = np.cos(pos_table[1:, 1::2])                  \n",
    "        self.pos_table = torch.FloatTensor(pos_table).cuda()            \n",
    "\n",
    "    def forward(self, x):                                       \n",
    "        x += self.pos_table[:x.size(1), :]\n",
    "        return self.dropout(x.cuda())\n",
    "    \n",
    "### Attention modules\n",
    "class ScaledDotProductAttention(nn.Module):\n",
    "    def __init__(self):\n",
    "        super(ScaledDotProductAttention, self).__init__()\n",
    "    \n",
    "    def forward(self, Q, K, V, attn_mask):\n",
    "        scores = torch.matmul(Q, K.transpose(-1,-2)) / np.sqrt(d_k)\n",
    "        scores.masked_fill_(attn_mask, -1e9)\n",
    "        attn = nn.Softmax(dim=-1)(scores)\n",
    "        context = torch.matmul(attn,V)\n",
    "        return context\n",
    "\n",
    "class MultiHeadAttention(nn.Module):\n",
    "    def __init__(self):\n",
    "        super(MultiHeadAttention, self).__init__()\n",
    "        self.W_Q = nn.Linear(d_model,d_k * n_heads, bias = False)\n",
    "        self.W_K = nn.Linear(d_model,d_k * n_heads, bias = False)\n",
    "        self.W_V = nn.Linear(d_model,d_v * n_heads, bias = False)\n",
    "        self.fc = nn.Linear(n_heads * d_v, d_model, bias = False)\n",
    "        \n",
    "    def forward(self, input_Q, input_K, input_V, attn_mask):\n",
    "        residual, batch_size = input_Q, input_Q.size(0)\n",
    "        Q = self.W_Q(input_Q).view(batch_size, -1, n_heads, d_k).transpose(1,2)\n",
    "        K = self.W_K(input_K).view(batch_size, -1, n_heads, d_k).transpose(1,2)\n",
    "        V = self.W_V(input_V).view(batch_size, -1, n_heads, d_v).transpose(1,2)\n",
    "        attn_mask = attn_mask.unsqueeze(1).repeat(1,n_heads,1,1)\n",
    "        context = ScaledDotProductAttention()(Q,K,V,attn_mask)\n",
    "        \n",
    "        context = context.transpose(1,2).reshape(batch_size,-1,n_heads * d_v)\n",
    "        output = self.fc(context)\n",
    "        return nn.LayerNorm(d_model).cuda()(output + residual)\n",
    "    \n",
    "## feed forward module\n",
    "class PoswiseFeedForwardNet(nn.Module):\n",
    "    def __init__(self):\n",
    "        super(PoswiseFeedForwardNet, self).__init__()\n",
    "        self.fc = nn.Sequential(\n",
    "            nn.Linear(d_model, d_ff, bias = False),\n",
    "            nn.ReLU(),\n",
    "            nn.Linear(d_ff, d_model, bias = False)\n",
    "        )\n",
    "    \n",
    "    def forward(self, inputs):\n",
    "        residual = inputs \n",
    "        output = self.fc(inputs)\n",
    "        return nn.LayerNorm(d_model).cuda()(output + residual)\n",
    "\n",
    "### Encoder layer\n",
    "class EncoderLayer(nn.Module):\n",
    "    def __init__(self):\n",
    "        super(EncoderLayer, self).__init__()\n",
    "        self.self_attn = MultiHeadAttention()\n",
    "        self.pos_ffn = PoswiseFeedForwardNet()\n",
    "        \n",
    "    def forward(self, inputs,self_attn_mask):\n",
    "        outputs = self.self_attn(inputs,inputs,inputs,self_attn_mask)\n",
    "        outputs = self.pos_ffn(outputs)\n",
    "        return outputs\n",
    "    \n",
    "class Encoder(nn.Module):\n",
    "    def __init__(self):\n",
    "        super(Encoder, self).__init__()\n",
    "        self.src_emb = nn.Embedding(vocab_size, d_model)\n",
    "        self.pos_emb = PositionalEncoding(d_model, max_len)\n",
    "        self.layers = nn.ModuleList([EncoderLayer() for _ in range(n_layers)])\n",
    "        \n",
    "    def forward(self, inputs):\n",
    "        outputs = self.src_emb(inputs)\n",
    "        outputs = self.pos_emb(outputs)\n",
    "        self_attn_mask = get_attn_pad_mask(inputs) ## inputs is from a data loader\n",
    "        for layer in self.layers:\n",
    "            outputs = layer(outputs, self_attn_mask)\n",
    "        return outputs    "
   ]
  },
  {
   "cell_type": "code",
   "execution_count": 16,
   "id": "fff8ad93",
   "metadata": {},
   "outputs": [],
   "source": [
    "### my model\n",
    "class Mymodel(nn.Module):\n",
    "    def __init__(self):\n",
    "        super(Mymodel, self).__init__()\n",
    "        self.enc_model = Encoder().cuda()\n",
    "        self.proj = nn.Sequential(\n",
    "                    ## flattened inputs\n",
    "                    nn.Linear(d_model * max_len,128),\n",
    "                    nn.LeakyReLU(),\n",
    "                    nn.Linear(128,64),\n",
    "                    nn.LeakyReLU(),\n",
    "                    ## output layer\n",
    "                    nn.Linear(64, target_size),\n",
    "                    nn.LeakyReLU()\n",
    "        ).cuda()\n",
    "        #self.softmax = nn.Softmax(dim = 1)\n",
    "        \n",
    "    def forward(self, inputs):\n",
    "        outputs = self.enc_model(inputs)\n",
    "        outputs = torch.flatten(outputs,start_dim = 1)\n",
    "        outputs = self.proj(outputs)\n",
    "        logits = torch.sigmoid(outputs)\n",
    "        return logits"
   ]
  },
  {
   "cell_type": "markdown",
   "id": "f2ed0da1",
   "metadata": {},
   "source": [
    "### Train the model!"
   ]
  },
  {
   "cell_type": "code",
   "execution_count": 18,
   "id": "3b27bc75",
   "metadata": {
    "scrolled": true
   },
   "outputs": [],
   "source": [
    "mymodel = Mymodel().cuda()\n",
    "mymodel.load_state_dict(torch.load(\"mymodel_weights_latest2.pth\")) ## load the current model parameters\n",
    "mymodel.eval()"
   ]
  },
  {
   "cell_type": "code",
   "execution_count": 27,
   "id": "d5f11766",
   "metadata": {
    "scrolled": true
   },
   "outputs": [
    {
     "name": "stdout",
     "output_type": "stream",
     "text": [
      "Epoch: 0001 Batch: 1 Loss =  0.2952\n",
      "Epoch: 0001 Batch: 2001 Loss =  0.2701\n",
      "Epoch: 0001 Batch: 4001 Loss =  0.3003\n",
      "Epoch: 0001 Batch: 6001 Loss =  0.3134\n",
      "Epoch: 0001 Batch: 8001 Loss =  0.2825\n",
      "Epoch: 0001 Batch: 10001 Loss =  0.2821\n",
      "Epoch: 0001 Batch: 12001 Loss =  0.2874\n",
      "Epoch: 0001 Batch: 14001 Loss =  0.3010\n",
      "Epoch: 0001 Batch: 16001 Loss =  0.2732\n",
      "Epoch: 0001 Batch: 18001 Loss =  0.2647\n",
      "Epoch: 0001 Batch: 20001 Loss =  0.2904\n",
      "Epoch: 0001 Batch: 22001 Loss =  0.2766\n",
      "Epoch: 0001 Batch: 24001 Loss =  0.2905\n",
      "Epoch: 0001 Batch: 26001 Loss =  0.2838\n",
      "Epoch: 0001 Batch: 28001 Loss =  0.3145\n",
      "Epoch: 0001 Batch: 30001 Loss =  0.2734\n",
      "Epoch: 0001 Batch: 32001 Loss =  0.3068\n",
      "Epoch: 0001 Batch: 34001 Loss =  0.2878\n",
      "Epoch: 0001 Batch: 36001 Loss =  0.2639\n",
      "Epoch: 0001 Batch: 38001 Loss =  0.2739\n",
      "Epoch: 0001 Batch: 40001 Loss =  0.2753\n",
      "Epoch: 0001 Batch: 42001 Loss =  0.2719\n",
      "Epoch: 0001 Batch: 44001 Loss =  0.2655\n",
      "Epoch: 0001 Batch: 46001 Loss =  0.2593\n",
      "Epoch: 0001 Batch: 48001 Loss =  0.2768\n",
      "Epoch: 0001 Batch: 50001 Loss =  0.2781\n",
      "Epoch: 0001 Batch: 52001 Loss =  0.2695\n",
      "Epoch: 0001 Batch: 54001 Loss =  0.2781\n",
      "Epoch: 0001 Batch: 56001 Loss =  0.2611\n",
      "Epoch: 0001 Batch: 58001 Loss =  0.2703\n",
      "Epoch: 0001 Batch: 60001 Loss =  0.2662\n",
      "Epoch: 0001 Batch: 62001 Loss =  0.2937\n",
      "Epoch: 0001 Batch: 64001 Loss =  0.2768\n",
      "Epoch: 0001 Batch: 66001 Loss =  0.2798\n",
      "Epoch: 0001 Batch: 68001 Loss =  0.2813\n",
      "Epoch: 0001 Batch: 70001 Loss =  0.2724\n",
      "Epoch: 0001 Batch: 72001 Loss =  0.2872\n",
      "Epoch: 0001 Batch: 74001 Loss =  0.2848\n",
      "Epoch: 0001 Batch: 76001 Loss =  0.2715\n",
      "Epoch: 0001 Batch: 78001 Loss =  0.2744\n",
      "Epoch: 0001 Batch: 80001 Loss =  0.2643\n",
      "Epoch: 0001 Batch: 82001 Loss =  0.2629\n",
      "Epoch: 0001 Batch: 84001 Loss =  0.2710\n",
      "Epoch: 0001 Batch: 86001 Loss =  0.2791\n",
      "Epoch: 0001 Batch: 88001 Loss =  0.2768\n",
      "Epoch: 0001 Batch: 90001 Loss =  0.2696\n",
      "Epoch: 0001 Batch: 92001 Loss =  0.2762\n",
      "Epoch: 0001 Batch: 94001 Loss =  0.2668\n",
      "Epoch: 0001 Batch: 96001 Loss =  0.2945\n",
      "Epoch: 0001 Batch: 98001 Loss =  0.2692\n",
      "Epoch: 0001 Batch: 100001 Loss =  0.2787\n",
      "Epoch: 0001 Batch: 102001 Loss =  0.2624\n",
      "Epoch: 0001 Batch: 104001 Loss =  0.2702\n",
      "Epoch: 0001 Batch: 106001 Loss =  0.2693\n",
      "Epoch: 0001 Batch: 108001 Loss =  0.2797\n",
      "Epoch: 0001 Batch: 110001 Loss =  0.2914\n",
      "Epoch: 0001 Batch: 112001 Loss =  0.2749\n",
      "Epoch: 0001 Batch: 114001 Loss =  0.2747\n",
      "Epoch: 0001 Batch: 116001 Loss =  0.2845\n",
      "Epoch: 0001 Batch: 118001 Loss =  0.2679\n",
      "Epoch: 0001 Batch: 120001 Loss =  0.2640\n",
      "Epoch: 0001 Batch: 122001 Loss =  0.2890\n",
      "Epoch: 0001 Batch: 124001 Loss =  0.2576\n",
      "Epoch: 0001 Batch: 126001 Loss =  0.2698\n",
      "Epoch: 0001 Batch: 128001 Loss =  0.2837\n",
      "Epoch: 0001 Batch: 130001 Loss =  0.2585\n",
      "Epoch: 0001 Batch: 132001 Loss =  0.2684\n",
      "Epoch: 0001 Batch: 134001 Loss =  0.2654\n",
      "Epoch: 0001 Batch: 136001 Loss =  0.2693\n",
      "Epoch: 0001 Batch: 138001 Loss =  0.2877\n",
      "Epoch: 0001 Batch: 140001 Loss =  0.2749\n",
      "Epoch: 0001 Batch: 142001 Loss =  0.2706\n",
      "Epoch: 0001 Batch: 144001 Loss =  0.2701\n",
      "Epoch: 0001 Batch: 146001 Loss =  0.2535\n",
      "Epoch: 0001 Batch: 148001 Loss =  0.2779\n",
      "Epoch: 0001 Batch: 150001 Loss =  0.2728\n",
      "Epoch: 0002 Batch: 1 Loss =  0.2545\n",
      "Epoch: 0002 Batch: 2001 Loss =  0.2729\n",
      "Epoch: 0002 Batch: 4001 Loss =  0.2695\n",
      "Epoch: 0002 Batch: 6001 Loss =  0.2656\n",
      "Epoch: 0002 Batch: 8001 Loss =  0.2674\n",
      "Epoch: 0002 Batch: 10001 Loss =  0.2646\n",
      "Epoch: 0002 Batch: 12001 Loss =  0.2900\n",
      "Epoch: 0002 Batch: 14001 Loss =  0.3013\n",
      "Epoch: 0002 Batch: 16001 Loss =  0.2620\n",
      "Epoch: 0002 Batch: 18001 Loss =  0.2736\n",
      "Epoch: 0002 Batch: 20001 Loss =  0.2831\n",
      "Epoch: 0002 Batch: 22001 Loss =  0.2752\n"
     ]
    }
   ],
   "source": [
    "### Train the model!\n",
    "criterion = nn.BCELoss()\n",
    "optimizer = optim.Adam(mymodel.parameters(), lr = 0.001)  #SGD(mymodel.parameters(), lr = 0.002, momentum = 0.99)\n",
    "scheduler = optim.lr_scheduler.ExponentialLR(optimizer, gamma=0.9)\n",
    "\n",
    "for epoch in range(8):\n",
    "    i = 0\n",
    "    for ip, op in loader:\n",
    "        ip, op = ip.cuda(), op.cuda()\n",
    "        pred_op = mymodel(ip)\n",
    "        loss = criterion(pred_op, op)\n",
    "        optimizer.zero_grad()\n",
    "        loss.backward()\n",
    "        optimizer.step()\n",
    "        i +=1\n",
    "        if i % 2000 == 1:\n",
    "            print(\"Epoch:\", '%04d'%(epoch+1),\"Batch: %d\"%i, \"Loss = \", \"%.4f\"%loss)\n",
    "        ## save the model\n",
    "        if i % 50000 == 0:\n",
    "            torch.save(mymodel.state_dict(), \"mymodel_weights_latest2.pth\")\n",
    "    scheduler.step()"
   ]
  },
  {
   "cell_type": "code",
   "execution_count": null,
   "id": "4796dc2b",
   "metadata": {},
   "outputs": [],
   "source": [
    "## save the current model\n",
    "torch.save(mymodel.state_dict(), \"mymodel2_weights_train_v2.pth\")"
   ]
  },
  {
   "cell_type": "markdown",
   "id": "899b7654",
   "metadata": {},
   "source": [
    "## Test the result\n"
   ]
  },
  {
   "cell_type": "code",
   "execution_count": 22,
   "id": "1715039e",
   "metadata": {},
   "outputs": [],
   "source": [
    "def transform_input(x):\n",
    "    x = x + \"|\"\n",
    "    x = x.ljust(max_len, \"_\")\n",
    "    ip = [src_vocab[c] for c in x]\n",
    "    return torch.LongTensor(ip)\n",
    "\n",
    "def returnAGuess(candidates, guessed, mymodel):\n",
    "    test_case = transform_input(guessed).cuda()\n",
    "    test_case.unsqueeze_(dim = 0)\n",
    "    logits = mymodel(test_case)[0]\n",
    "    ans = None\n",
    "    maxx = 0\n",
    "    for c in candidates:\n",
    "        logit = logits[tgt_vocab[c]]\n",
    "        if logit > maxx:\n",
    "            maxx = logit\n",
    "            ans = c\n",
    "    return ans\n",
    "       \n",
    "def writeMyGame(theWord, print_ = False):\n",
    "    n = len(theWord)\n",
    "    guessed = \"_\"* n\n",
    "    toguess = list(set(theWord))\n",
    "    \n",
    "    candidates = [chr(ord('a')+i) for i in range(26)]\n",
    "    count = 0\n",
    "    \n",
    "    while guessed != theWord:\n",
    "        g = returnAGuess(candidates, guessed, mymodel)\n",
    "        if print_:\n",
    "            print(\"/n==== Guess: %s\"%g)\n",
    "        candidates.remove(g)\n",
    "        if g in toguess:\n",
    "            toguess.remove(g)\n",
    "            guessed = \"\".join([\"_\" if x in toguess else x for x in theWord])\n",
    "            if print_:\n",
    "                print(\"Right Guess, updated:\",guessed)\n",
    "        else:\n",
    "            count += 1\n",
    "            if print_:\n",
    "                print(\"Wrong Guess, keep guessing.\")\n",
    "    \n",
    "    return count  "
   ]
  },
  {
   "cell_type": "code",
   "execution_count": 25,
   "id": "70fb8842",
   "metadata": {},
   "outputs": [
    {
     "name": "stdout",
     "output_type": "stream",
     "text": [
      "/n==== Guess: e\n",
      "Right Guess, updated: _e______\n",
      "/n==== Guess: a\n",
      "Wrong Guess, keep guessing.\n",
      "/n==== Guess: i\n",
      "Wrong Guess, keep guessing.\n",
      "/n==== Guess: r\n",
      "Right Guess, updated: re__r___\n",
      "/n==== Guess: n\n",
      "Wrong Guess, keep guessing.\n",
      "/n==== Guess: o\n",
      "Right Guess, updated: re__roo_\n",
      "/n==== Guess: t\n",
      "Right Guess, updated: re_troo_\n",
      "/n==== Guess: s\n",
      "Right Guess, updated: restroo_\n",
      "/n==== Guess: d\n",
      "Wrong Guess, keep guessing.\n",
      "/n==== Guess: w\n",
      "Wrong Guess, keep guessing.\n",
      "/n==== Guess: p\n",
      "Wrong Guess, keep guessing.\n",
      "/n==== Guess: c\n",
      "Wrong Guess, keep guessing.\n",
      "/n==== Guess: g\n",
      "Wrong Guess, keep guessing.\n",
      "/n==== Guess: v\n",
      "Wrong Guess, keep guessing.\n",
      "/n==== Guess: b\n",
      "Wrong Guess, keep guessing.\n",
      "/n==== Guess: f\n",
      "Wrong Guess, keep guessing.\n",
      "/n==== Guess: u\n",
      "Wrong Guess, keep guessing.\n",
      "/n==== Guess: m\n",
      "Right Guess, updated: restroom\n"
     ]
    },
    {
     "data": {
      "text/plain": [
       "12"
      ]
     },
     "execution_count": 25,
     "metadata": {},
     "output_type": "execute_result"
    }
   ],
   "source": [
    "writeMyGame(\"restroom\", True)"
   ]
  }
 ],
 "metadata": {
  "kernelspec": {
   "display_name": "Python 3 (ipykernel)",
   "language": "python",
   "name": "python3"
  },
  "language_info": {
   "codemirror_mode": {
    "name": "ipython",
    "version": 3
   },
   "file_extension": ".py",
   "mimetype": "text/x-python",
   "name": "python",
   "nbconvert_exporter": "python",
   "pygments_lexer": "ipython3",
   "version": "3.9.13"
  }
 },
 "nbformat": 4,
 "nbformat_minor": 5
}
